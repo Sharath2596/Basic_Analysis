{
  "cells": [
    {
      "metadata": {
        "trusted": true
      },
      "cell_type": "code",
      "source": "import pandas as pd\nimport numpy as np",
      "execution_count": 1,
      "outputs": []
    },
    {
      "metadata": {},
      "cell_type": "markdown",
      "source": "# Read CSV file"
    },
    {
      "metadata": {
        "trusted": true
      },
      "cell_type": "code",
      "source": "mtcars=pd.read_csv(\"mtcars.csv\")",
      "execution_count": 6,
      "outputs": []
    },
    {
      "metadata": {},
      "cell_type": "markdown",
      "source": "# Data Frame using attributes"
    },
    {
      "metadata": {
        "trusted": true
      },
      "cell_type": "code",
      "source": "mtcars.dtypes",
      "execution_count": 8,
      "outputs": [
        {
          "output_type": "execute_result",
          "execution_count": 8,
          "data": {
            "text/plain": "mpg     float64\ncyl       int64\ndisp    float64\nhp        int64\ndrat    float64\nwt      float64\nqsec    float64\nvs        int64\nam        int64\ngear      int64\ncarb      int64\ndtype: object"
          },
          "metadata": {}
        }
      ]
    },
    {
      "metadata": {
        "trusted": true
      },
      "cell_type": "code",
      "source": "mtcars.size",
      "execution_count": 9,
      "outputs": [
        {
          "output_type": "execute_result",
          "execution_count": 9,
          "data": {
            "text/plain": "352"
          },
          "metadata": {}
        }
      ]
    },
    {
      "metadata": {
        "trusted": true
      },
      "cell_type": "code",
      "source": "mtcars.shape",
      "execution_count": 10,
      "outputs": [
        {
          "output_type": "execute_result",
          "execution_count": 10,
          "data": {
            "text/plain": "(32, 11)"
          },
          "metadata": {}
        }
      ]
    },
    {
      "metadata": {
        "trusted": true
      },
      "cell_type": "code",
      "source": "mtcars.axes",
      "execution_count": 11,
      "outputs": [
        {
          "output_type": "execute_result",
          "execution_count": 11,
          "data": {
            "text/plain": "[RangeIndex(start=0, stop=32, step=1),\n Index(['mpg', 'cyl', 'disp', 'hp', 'drat', 'wt', 'qsec', 'vs', 'am', 'gear',\n        'carb'],\n       dtype='object')]"
          },
          "metadata": {}
        }
      ]
    },
    {
      "metadata": {
        "trusted": true
      },
      "cell_type": "code",
      "source": "mtcars.values",
      "execution_count": 12,
      "outputs": [
        {
          "output_type": "execute_result",
          "execution_count": 12,
          "data": {
            "text/plain": "array([[ 21.   ,   6.   , 160.   , 110.   ,   3.9  ,   2.62 ,  16.46 ,\n          0.   ,   1.   ,   4.   ,   4.   ],\n       [ 21.   ,   6.   , 160.   , 110.   ,   3.9  ,   2.875,  17.02 ,\n          0.   ,   1.   ,   4.   ,   4.   ],\n       [ 22.8  ,   4.   , 108.   ,  93.   ,   3.85 ,   2.32 ,  18.61 ,\n          1.   ,   1.   ,   4.   ,   1.   ],\n       [ 21.4  ,   6.   , 258.   , 110.   ,   3.08 ,   3.215,  19.44 ,\n          1.   ,   0.   ,   3.   ,   1.   ],\n       [ 18.7  ,   8.   , 360.   , 175.   ,   3.15 ,   3.44 ,  17.02 ,\n          0.   ,   0.   ,   3.   ,   2.   ],\n       [ 18.1  ,   6.   , 225.   , 105.   ,   2.76 ,   3.46 ,  20.22 ,\n          1.   ,   0.   ,   3.   ,   1.   ],\n       [ 14.3  ,   8.   , 360.   , 245.   ,   3.21 ,   3.57 ,  15.84 ,\n          0.   ,   0.   ,   3.   ,   4.   ],\n       [ 24.4  ,   4.   , 146.7  ,  62.   ,   3.69 ,   3.19 ,  20.   ,\n          1.   ,   0.   ,   4.   ,   2.   ],\n       [ 22.8  ,   4.   , 140.8  ,  95.   ,   3.92 ,   3.15 ,  22.9  ,\n          1.   ,   0.   ,   4.   ,   2.   ],\n       [ 19.2  ,   6.   , 167.6  , 123.   ,   3.92 ,   3.44 ,  18.3  ,\n          1.   ,   0.   ,   4.   ,   4.   ],\n       [ 17.8  ,   6.   , 167.6  , 123.   ,   3.92 ,   3.44 ,  18.9  ,\n          1.   ,   0.   ,   4.   ,   4.   ],\n       [ 16.4  ,   8.   , 275.8  , 180.   ,   3.07 ,   4.07 ,  17.4  ,\n          0.   ,   0.   ,   3.   ,   3.   ],\n       [ 17.3  ,   8.   , 275.8  , 180.   ,   3.07 ,   3.73 ,  17.6  ,\n          0.   ,   0.   ,   3.   ,   3.   ],\n       [ 15.2  ,   8.   , 275.8  , 180.   ,   3.07 ,   3.78 ,  18.   ,\n          0.   ,   0.   ,   3.   ,   3.   ],\n       [ 10.4  ,   8.   , 472.   , 205.   ,   2.93 ,   5.25 ,  17.98 ,\n          0.   ,   0.   ,   3.   ,   4.   ],\n       [ 10.4  ,   8.   , 460.   , 215.   ,   3.   ,   5.424,  17.82 ,\n          0.   ,   0.   ,   3.   ,   4.   ],\n       [ 14.7  ,   8.   , 440.   , 230.   ,   3.23 ,   5.345,  17.42 ,\n          0.   ,   0.   ,   3.   ,   4.   ],\n       [ 32.4  ,   4.   ,  78.7  ,  66.   ,   4.08 ,   2.2  ,  19.47 ,\n          1.   ,   1.   ,   4.   ,   1.   ],\n       [ 30.4  ,   4.   ,  75.7  ,  52.   ,   4.93 ,   1.615,  18.52 ,\n          1.   ,   1.   ,   4.   ,   2.   ],\n       [ 33.9  ,   4.   ,  71.1  ,  65.   ,   4.22 ,   1.835,  19.9  ,\n          1.   ,   1.   ,   4.   ,   1.   ],\n       [ 21.5  ,   4.   , 120.1  ,  97.   ,   3.7  ,   2.465,  20.01 ,\n          1.   ,   0.   ,   3.   ,   1.   ],\n       [ 15.5  ,   8.   , 318.   , 150.   ,   2.76 ,   3.52 ,  16.87 ,\n          0.   ,   0.   ,   3.   ,   2.   ],\n       [ 15.2  ,   8.   , 304.   , 150.   ,   3.15 ,   3.435,  17.3  ,\n          0.   ,   0.   ,   3.   ,   2.   ],\n       [ 13.3  ,   8.   , 350.   , 245.   ,   3.73 ,   3.84 ,  15.41 ,\n          0.   ,   0.   ,   3.   ,   4.   ],\n       [ 19.2  ,   8.   , 400.   , 175.   ,   3.08 ,   3.845,  17.05 ,\n          0.   ,   0.   ,   3.   ,   2.   ],\n       [ 27.3  ,   4.   ,  79.   ,  66.   ,   4.08 ,   1.935,  18.9  ,\n          1.   ,   1.   ,   4.   ,   1.   ],\n       [ 26.   ,   4.   , 120.3  ,  91.   ,   4.43 ,   2.14 ,  16.7  ,\n          0.   ,   1.   ,   5.   ,   2.   ],\n       [ 30.4  ,   4.   ,  95.1  , 113.   ,   3.77 ,   1.513,  16.9  ,\n          1.   ,   1.   ,   5.   ,   2.   ],\n       [ 15.8  ,   8.   , 351.   , 264.   ,   4.22 ,   3.17 ,  14.5  ,\n          0.   ,   1.   ,   5.   ,   4.   ],\n       [ 19.7  ,   6.   , 145.   , 175.   ,   3.62 ,   2.77 ,  15.5  ,\n          0.   ,   1.   ,   5.   ,   6.   ],\n       [ 15.   ,   8.   , 301.   , 335.   ,   3.54 ,   3.57 ,  14.6  ,\n          0.   ,   1.   ,   5.   ,   8.   ],\n       [ 21.4  ,   4.   , 121.   , 109.   ,   4.11 ,   2.78 ,  18.6  ,\n          1.   ,   1.   ,   4.   ,   2.   ]])"
          },
          "metadata": {}
        }
      ]
    },
    {
      "metadata": {
        "trusted": true
      },
      "cell_type": "code",
      "source": "mtcars.ndim",
      "execution_count": 14,
      "outputs": [
        {
          "output_type": "execute_result",
          "execution_count": 14,
          "data": {
            "text/plain": "2"
          },
          "metadata": {}
        }
      ]
    },
    {
      "metadata": {},
      "cell_type": "markdown",
      "source": "# Data Frames using methods"
    },
    {
      "metadata": {
        "trusted": true
      },
      "cell_type": "code",
      "source": "mtcars.head()",
      "execution_count": 15,
      "outputs": [
        {
          "output_type": "execute_result",
          "execution_count": 15,
          "data": {
            "text/plain": "    mpg  cyl   disp   hp  drat     wt   qsec  vs  am  gear  carb\n0  21.0    6  160.0  110  3.90  2.620  16.46   0   1     4     4\n1  21.0    6  160.0  110  3.90  2.875  17.02   0   1     4     4\n2  22.8    4  108.0   93  3.85  2.320  18.61   1   1     4     1\n3  21.4    6  258.0  110  3.08  3.215  19.44   1   0     3     1\n4  18.7    8  360.0  175  3.15  3.440  17.02   0   0     3     2",
            "text/html": "<div>\n<style scoped>\n    .dataframe tbody tr th:only-of-type {\n        vertical-align: middle;\n    }\n\n    .dataframe tbody tr th {\n        vertical-align: top;\n    }\n\n    .dataframe thead th {\n        text-align: right;\n    }\n</style>\n<table border=\"1\" class=\"dataframe\">\n  <thead>\n    <tr style=\"text-align: right;\">\n      <th></th>\n      <th>mpg</th>\n      <th>cyl</th>\n      <th>disp</th>\n      <th>hp</th>\n      <th>drat</th>\n      <th>wt</th>\n      <th>qsec</th>\n      <th>vs</th>\n      <th>am</th>\n      <th>gear</th>\n      <th>carb</th>\n    </tr>\n  </thead>\n  <tbody>\n    <tr>\n      <th>0</th>\n      <td>21.0</td>\n      <td>6</td>\n      <td>160.0</td>\n      <td>110</td>\n      <td>3.90</td>\n      <td>2.620</td>\n      <td>16.46</td>\n      <td>0</td>\n      <td>1</td>\n      <td>4</td>\n      <td>4</td>\n    </tr>\n    <tr>\n      <th>1</th>\n      <td>21.0</td>\n      <td>6</td>\n      <td>160.0</td>\n      <td>110</td>\n      <td>3.90</td>\n      <td>2.875</td>\n      <td>17.02</td>\n      <td>0</td>\n      <td>1</td>\n      <td>4</td>\n      <td>4</td>\n    </tr>\n    <tr>\n      <th>2</th>\n      <td>22.8</td>\n      <td>4</td>\n      <td>108.0</td>\n      <td>93</td>\n      <td>3.85</td>\n      <td>2.320</td>\n      <td>18.61</td>\n      <td>1</td>\n      <td>1</td>\n      <td>4</td>\n      <td>1</td>\n    </tr>\n    <tr>\n      <th>3</th>\n      <td>21.4</td>\n      <td>6</td>\n      <td>258.0</td>\n      <td>110</td>\n      <td>3.08</td>\n      <td>3.215</td>\n      <td>19.44</td>\n      <td>1</td>\n      <td>0</td>\n      <td>3</td>\n      <td>1</td>\n    </tr>\n    <tr>\n      <th>4</th>\n      <td>18.7</td>\n      <td>8</td>\n      <td>360.0</td>\n      <td>175</td>\n      <td>3.15</td>\n      <td>3.440</td>\n      <td>17.02</td>\n      <td>0</td>\n      <td>0</td>\n      <td>3</td>\n      <td>2</td>\n    </tr>\n  </tbody>\n</table>\n</div>"
          },
          "metadata": {}
        }
      ]
    },
    {
      "metadata": {
        "trusted": true
      },
      "cell_type": "code",
      "source": "mtcars.tail()",
      "execution_count": 16,
      "outputs": [
        {
          "output_type": "execute_result",
          "execution_count": 16,
          "data": {
            "text/plain": "     mpg  cyl   disp   hp  drat     wt  qsec  vs  am  gear  carb\n27  30.4    4   95.1  113  3.77  1.513  16.9   1   1     5     2\n28  15.8    8  351.0  264  4.22  3.170  14.5   0   1     5     4\n29  19.7    6  145.0  175  3.62  2.770  15.5   0   1     5     6\n30  15.0    8  301.0  335  3.54  3.570  14.6   0   1     5     8\n31  21.4    4  121.0  109  4.11  2.780  18.6   1   1     4     2",
            "text/html": "<div>\n<style scoped>\n    .dataframe tbody tr th:only-of-type {\n        vertical-align: middle;\n    }\n\n    .dataframe tbody tr th {\n        vertical-align: top;\n    }\n\n    .dataframe thead th {\n        text-align: right;\n    }\n</style>\n<table border=\"1\" class=\"dataframe\">\n  <thead>\n    <tr style=\"text-align: right;\">\n      <th></th>\n      <th>mpg</th>\n      <th>cyl</th>\n      <th>disp</th>\n      <th>hp</th>\n      <th>drat</th>\n      <th>wt</th>\n      <th>qsec</th>\n      <th>vs</th>\n      <th>am</th>\n      <th>gear</th>\n      <th>carb</th>\n    </tr>\n  </thead>\n  <tbody>\n    <tr>\n      <th>27</th>\n      <td>30.4</td>\n      <td>4</td>\n      <td>95.1</td>\n      <td>113</td>\n      <td>3.77</td>\n      <td>1.513</td>\n      <td>16.9</td>\n      <td>1</td>\n      <td>1</td>\n      <td>5</td>\n      <td>2</td>\n    </tr>\n    <tr>\n      <th>28</th>\n      <td>15.8</td>\n      <td>8</td>\n      <td>351.0</td>\n      <td>264</td>\n      <td>4.22</td>\n      <td>3.170</td>\n      <td>14.5</td>\n      <td>0</td>\n      <td>1</td>\n      <td>5</td>\n      <td>4</td>\n    </tr>\n    <tr>\n      <th>29</th>\n      <td>19.7</td>\n      <td>6</td>\n      <td>145.0</td>\n      <td>175</td>\n      <td>3.62</td>\n      <td>2.770</td>\n      <td>15.5</td>\n      <td>0</td>\n      <td>1</td>\n      <td>5</td>\n      <td>6</td>\n    </tr>\n    <tr>\n      <th>30</th>\n      <td>15.0</td>\n      <td>8</td>\n      <td>301.0</td>\n      <td>335</td>\n      <td>3.54</td>\n      <td>3.570</td>\n      <td>14.6</td>\n      <td>0</td>\n      <td>1</td>\n      <td>5</td>\n      <td>8</td>\n    </tr>\n    <tr>\n      <th>31</th>\n      <td>21.4</td>\n      <td>4</td>\n      <td>121.0</td>\n      <td>109</td>\n      <td>4.11</td>\n      <td>2.780</td>\n      <td>18.6</td>\n      <td>1</td>\n      <td>1</td>\n      <td>4</td>\n      <td>2</td>\n    </tr>\n  </tbody>\n</table>\n</div>"
          },
          "metadata": {}
        }
      ]
    },
    {
      "metadata": {
        "trusted": true
      },
      "cell_type": "code",
      "source": "mtcars.describe()",
      "execution_count": 17,
      "outputs": [
        {
          "output_type": "execute_result",
          "execution_count": 17,
          "data": {
            "text/plain": "             mpg        cyl        disp          hp       drat         wt  \\\ncount  32.000000  32.000000   32.000000   32.000000  32.000000  32.000000   \nmean   20.090625   6.187500  230.721875  146.687500   3.596563   3.217250   \nstd     6.026948   1.785922  123.938694   68.562868   0.534679   0.978457   \nmin    10.400000   4.000000   71.100000   52.000000   2.760000   1.513000   \n25%    15.425000   4.000000  120.825000   96.500000   3.080000   2.581250   \n50%    19.200000   6.000000  196.300000  123.000000   3.695000   3.325000   \n75%    22.800000   8.000000  326.000000  180.000000   3.920000   3.610000   \nmax    33.900000   8.000000  472.000000  335.000000   4.930000   5.424000   \n\n            qsec         vs         am       gear     carb  \ncount  32.000000  32.000000  32.000000  32.000000  32.0000  \nmean   17.848750   0.437500   0.406250   3.687500   2.8125  \nstd     1.786943   0.504016   0.498991   0.737804   1.6152  \nmin    14.500000   0.000000   0.000000   3.000000   1.0000  \n25%    16.892500   0.000000   0.000000   3.000000   2.0000  \n50%    17.710000   0.000000   0.000000   4.000000   2.0000  \n75%    18.900000   1.000000   1.000000   4.000000   4.0000  \nmax    22.900000   1.000000   1.000000   5.000000   8.0000  ",
            "text/html": "<div>\n<style scoped>\n    .dataframe tbody tr th:only-of-type {\n        vertical-align: middle;\n    }\n\n    .dataframe tbody tr th {\n        vertical-align: top;\n    }\n\n    .dataframe thead th {\n        text-align: right;\n    }\n</style>\n<table border=\"1\" class=\"dataframe\">\n  <thead>\n    <tr style=\"text-align: right;\">\n      <th></th>\n      <th>mpg</th>\n      <th>cyl</th>\n      <th>disp</th>\n      <th>hp</th>\n      <th>drat</th>\n      <th>wt</th>\n      <th>qsec</th>\n      <th>vs</th>\n      <th>am</th>\n      <th>gear</th>\n      <th>carb</th>\n    </tr>\n  </thead>\n  <tbody>\n    <tr>\n      <th>count</th>\n      <td>32.000000</td>\n      <td>32.000000</td>\n      <td>32.000000</td>\n      <td>32.000000</td>\n      <td>32.000000</td>\n      <td>32.000000</td>\n      <td>32.000000</td>\n      <td>32.000000</td>\n      <td>32.000000</td>\n      <td>32.000000</td>\n      <td>32.0000</td>\n    </tr>\n    <tr>\n      <th>mean</th>\n      <td>20.090625</td>\n      <td>6.187500</td>\n      <td>230.721875</td>\n      <td>146.687500</td>\n      <td>3.596563</td>\n      <td>3.217250</td>\n      <td>17.848750</td>\n      <td>0.437500</td>\n      <td>0.406250</td>\n      <td>3.687500</td>\n      <td>2.8125</td>\n    </tr>\n    <tr>\n      <th>std</th>\n      <td>6.026948</td>\n      <td>1.785922</td>\n      <td>123.938694</td>\n      <td>68.562868</td>\n      <td>0.534679</td>\n      <td>0.978457</td>\n      <td>1.786943</td>\n      <td>0.504016</td>\n      <td>0.498991</td>\n      <td>0.737804</td>\n      <td>1.6152</td>\n    </tr>\n    <tr>\n      <th>min</th>\n      <td>10.400000</td>\n      <td>4.000000</td>\n      <td>71.100000</td>\n      <td>52.000000</td>\n      <td>2.760000</td>\n      <td>1.513000</td>\n      <td>14.500000</td>\n      <td>0.000000</td>\n      <td>0.000000</td>\n      <td>3.000000</td>\n      <td>1.0000</td>\n    </tr>\n    <tr>\n      <th>25%</th>\n      <td>15.425000</td>\n      <td>4.000000</td>\n      <td>120.825000</td>\n      <td>96.500000</td>\n      <td>3.080000</td>\n      <td>2.581250</td>\n      <td>16.892500</td>\n      <td>0.000000</td>\n      <td>0.000000</td>\n      <td>3.000000</td>\n      <td>2.0000</td>\n    </tr>\n    <tr>\n      <th>50%</th>\n      <td>19.200000</td>\n      <td>6.000000</td>\n      <td>196.300000</td>\n      <td>123.000000</td>\n      <td>3.695000</td>\n      <td>3.325000</td>\n      <td>17.710000</td>\n      <td>0.000000</td>\n      <td>0.000000</td>\n      <td>4.000000</td>\n      <td>2.0000</td>\n    </tr>\n    <tr>\n      <th>75%</th>\n      <td>22.800000</td>\n      <td>8.000000</td>\n      <td>326.000000</td>\n      <td>180.000000</td>\n      <td>3.920000</td>\n      <td>3.610000</td>\n      <td>18.900000</td>\n      <td>1.000000</td>\n      <td>1.000000</td>\n      <td>4.000000</td>\n      <td>4.0000</td>\n    </tr>\n    <tr>\n      <th>max</th>\n      <td>33.900000</td>\n      <td>8.000000</td>\n      <td>472.000000</td>\n      <td>335.000000</td>\n      <td>4.930000</td>\n      <td>5.424000</td>\n      <td>22.900000</td>\n      <td>1.000000</td>\n      <td>1.000000</td>\n      <td>5.000000</td>\n      <td>8.0000</td>\n    </tr>\n  </tbody>\n</table>\n</div>"
          },
          "metadata": {}
        }
      ]
    },
    {
      "metadata": {
        "trusted": true
      },
      "cell_type": "code",
      "source": "mtcars.min()",
      "execution_count": 18,
      "outputs": [
        {
          "output_type": "execute_result",
          "execution_count": 18,
          "data": {
            "text/plain": "mpg     10.400\ncyl      4.000\ndisp    71.100\nhp      52.000\ndrat     2.760\nwt       1.513\nqsec    14.500\nvs       0.000\nam       0.000\ngear     3.000\ncarb     1.000\ndtype: float64"
          },
          "metadata": {}
        }
      ]
    },
    {
      "metadata": {
        "trusted": true
      },
      "cell_type": "code",
      "source": "mtcars.max()",
      "execution_count": 19,
      "outputs": [
        {
          "output_type": "execute_result",
          "execution_count": 19,
          "data": {
            "text/plain": "mpg      33.900\ncyl       8.000\ndisp    472.000\nhp      335.000\ndrat      4.930\nwt        5.424\nqsec     22.900\nvs        1.000\nam        1.000\ngear      5.000\ncarb      8.000\ndtype: float64"
          },
          "metadata": {}
        }
      ]
    },
    {
      "metadata": {
        "trusted": true
      },
      "cell_type": "code",
      "source": "mtcars.mean()",
      "execution_count": 20,
      "outputs": [
        {
          "output_type": "execute_result",
          "execution_count": 20,
          "data": {
            "text/plain": "mpg      20.090625\ncyl       6.187500\ndisp    230.721875\nhp      146.687500\ndrat      3.596563\nwt        3.217250\nqsec     17.848750\nvs        0.437500\nam        0.406250\ngear      3.687500\ncarb      2.812500\ndtype: float64"
          },
          "metadata": {}
        }
      ]
    },
    {
      "metadata": {
        "trusted": true
      },
      "cell_type": "code",
      "source": "mtcars.std()",
      "execution_count": 21,
      "outputs": [
        {
          "output_type": "execute_result",
          "execution_count": 21,
          "data": {
            "text/plain": "mpg       6.026948\ncyl       1.785922\ndisp    123.938694\nhp       68.562868\ndrat      0.534679\nwt        0.978457\nqsec      1.786943\nvs        0.504016\nam        0.498991\ngear      0.737804\ncarb      1.615200\ndtype: float64"
          },
          "metadata": {}
        }
      ]
    },
    {
      "metadata": {
        "trusted": true
      },
      "cell_type": "code",
      "source": "mtcars.sample()",
      "execution_count": 22,
      "outputs": [
        {
          "output_type": "execute_result",
          "execution_count": 22,
          "data": {
            "text/plain": "    mpg  cyl   disp   hp  drat    wt   qsec  vs  am  gear  carb\n5  18.1    6  225.0  105  2.76  3.46  20.22   1   0     3     1",
            "text/html": "<div>\n<style scoped>\n    .dataframe tbody tr th:only-of-type {\n        vertical-align: middle;\n    }\n\n    .dataframe tbody tr th {\n        vertical-align: top;\n    }\n\n    .dataframe thead th {\n        text-align: right;\n    }\n</style>\n<table border=\"1\" class=\"dataframe\">\n  <thead>\n    <tr style=\"text-align: right;\">\n      <th></th>\n      <th>mpg</th>\n      <th>cyl</th>\n      <th>disp</th>\n      <th>hp</th>\n      <th>drat</th>\n      <th>wt</th>\n      <th>qsec</th>\n      <th>vs</th>\n      <th>am</th>\n      <th>gear</th>\n      <th>carb</th>\n    </tr>\n  </thead>\n  <tbody>\n    <tr>\n      <th>5</th>\n      <td>18.1</td>\n      <td>6</td>\n      <td>225.0</td>\n      <td>105</td>\n      <td>2.76</td>\n      <td>3.46</td>\n      <td>20.22</td>\n      <td>1</td>\n      <td>0</td>\n      <td>3</td>\n      <td>1</td>\n    </tr>\n  </tbody>\n</table>\n</div>"
          },
          "metadata": {}
        }
      ]
    },
    {
      "metadata": {
        "trusted": true
      },
      "cell_type": "code",
      "source": "mtcars.head(10).mean()",
      "execution_count": 23,
      "outputs": [
        {
          "output_type": "execute_result",
          "execution_count": 23,
          "data": {
            "text/plain": "mpg      20.370\ncyl       5.800\ndisp    208.610\nhp      122.800\ndrat      3.538\nwt        3.128\nqsec     18.581\nvs        0.600\nam        0.300\ngear      3.600\ncarb      2.500\ndtype: float64"
          },
          "metadata": {}
        }
      ]
    },
    {
      "metadata": {
        "trusted": true
      },
      "cell_type": "code",
      "source": "mtcars.tail(10).mean()",
      "execution_count": 25,
      "outputs": [
        {
          "output_type": "execute_result",
          "execution_count": 25,
          "data": {
            "text/plain": "mpg      20.3300\ncyl       6.2000\ndisp    226.6400\nhp      172.3000\ndrat      3.7730\nwt        2.8998\nqsec     16.5460\nvs        0.3000\nam        0.7000\ngear      4.2000\ncarb      3.3000\ndtype: float64"
          },
          "metadata": {}
        }
      ]
    },
    {
      "metadata": {
        "trusted": true
      },
      "cell_type": "code",
      "source": "mtcars.head(2).std()",
      "execution_count": 26,
      "outputs": [
        {
          "output_type": "execute_result",
          "execution_count": 26,
          "data": {
            "text/plain": "mpg     0.000000\ncyl     0.000000\ndisp    0.000000\nhp      0.000000\ndrat    0.000000\nwt      0.180312\nqsec    0.395980\nvs      0.000000\nam      0.000000\ngear    0.000000\ncarb    0.000000\ndtype: float64"
          },
          "metadata": {}
        }
      ]
    },
    {
      "metadata": {},
      "cell_type": "markdown",
      "source": "# Slicing operation"
    },
    {
      "metadata": {
        "trusted": true
      },
      "cell_type": "code",
      "source": "mtcars['mpg']",
      "execution_count": 27,
      "outputs": [
        {
          "output_type": "execute_result",
          "execution_count": 27,
          "data": {
            "text/plain": "0     21.0\n1     21.0\n2     22.8\n3     21.4\n4     18.7\n5     18.1\n6     14.3\n7     24.4\n8     22.8\n9     19.2\n10    17.8\n11    16.4\n12    17.3\n13    15.2\n14    10.4\n15    10.4\n16    14.7\n17    32.4\n18    30.4\n19    33.9\n20    21.5\n21    15.5\n22    15.2\n23    13.3\n24    19.2\n25    27.3\n26    26.0\n27    30.4\n28    15.8\n29    19.7\n30    15.0\n31    21.4\nName: mpg, dtype: float64"
          },
          "metadata": {}
        }
      ]
    },
    {
      "metadata": {
        "trusted": true
      },
      "cell_type": "code",
      "source": "mtcars[['mpg']]",
      "execution_count": 41,
      "outputs": [
        {
          "output_type": "execute_result",
          "execution_count": 41,
          "data": {
            "text/plain": "     mpg\n0   21.0\n1   21.0\n2   22.8\n3   21.4\n4   18.7\n5   18.1\n6   14.3\n7   24.4\n8   22.8\n9   19.2\n10  17.8\n11  16.4\n12  17.3\n13  15.2\n14  10.4\n15  10.4\n16  14.7\n17  32.4\n18  30.4\n19  33.9\n20  21.5\n21  15.5\n22  15.2\n23  13.3\n24  19.2\n25  27.3\n26  26.0\n27  30.4\n28  15.8\n29  19.7\n30  15.0\n31  21.4",
            "text/html": "<div>\n<style scoped>\n    .dataframe tbody tr th:only-of-type {\n        vertical-align: middle;\n    }\n\n    .dataframe tbody tr th {\n        vertical-align: top;\n    }\n\n    .dataframe thead th {\n        text-align: right;\n    }\n</style>\n<table border=\"1\" class=\"dataframe\">\n  <thead>\n    <tr style=\"text-align: right;\">\n      <th></th>\n      <th>mpg</th>\n    </tr>\n  </thead>\n  <tbody>\n    <tr>\n      <th>0</th>\n      <td>21.0</td>\n    </tr>\n    <tr>\n      <th>1</th>\n      <td>21.0</td>\n    </tr>\n    <tr>\n      <th>2</th>\n      <td>22.8</td>\n    </tr>\n    <tr>\n      <th>3</th>\n      <td>21.4</td>\n    </tr>\n    <tr>\n      <th>4</th>\n      <td>18.7</td>\n    </tr>\n    <tr>\n      <th>5</th>\n      <td>18.1</td>\n    </tr>\n    <tr>\n      <th>6</th>\n      <td>14.3</td>\n    </tr>\n    <tr>\n      <th>7</th>\n      <td>24.4</td>\n    </tr>\n    <tr>\n      <th>8</th>\n      <td>22.8</td>\n    </tr>\n    <tr>\n      <th>9</th>\n      <td>19.2</td>\n    </tr>\n    <tr>\n      <th>10</th>\n      <td>17.8</td>\n    </tr>\n    <tr>\n      <th>11</th>\n      <td>16.4</td>\n    </tr>\n    <tr>\n      <th>12</th>\n      <td>17.3</td>\n    </tr>\n    <tr>\n      <th>13</th>\n      <td>15.2</td>\n    </tr>\n    <tr>\n      <th>14</th>\n      <td>10.4</td>\n    </tr>\n    <tr>\n      <th>15</th>\n      <td>10.4</td>\n    </tr>\n    <tr>\n      <th>16</th>\n      <td>14.7</td>\n    </tr>\n    <tr>\n      <th>17</th>\n      <td>32.4</td>\n    </tr>\n    <tr>\n      <th>18</th>\n      <td>30.4</td>\n    </tr>\n    <tr>\n      <th>19</th>\n      <td>33.9</td>\n    </tr>\n    <tr>\n      <th>20</th>\n      <td>21.5</td>\n    </tr>\n    <tr>\n      <th>21</th>\n      <td>15.5</td>\n    </tr>\n    <tr>\n      <th>22</th>\n      <td>15.2</td>\n    </tr>\n    <tr>\n      <th>23</th>\n      <td>13.3</td>\n    </tr>\n    <tr>\n      <th>24</th>\n      <td>19.2</td>\n    </tr>\n    <tr>\n      <th>25</th>\n      <td>27.3</td>\n    </tr>\n    <tr>\n      <th>26</th>\n      <td>26.0</td>\n    </tr>\n    <tr>\n      <th>27</th>\n      <td>30.4</td>\n    </tr>\n    <tr>\n      <th>28</th>\n      <td>15.8</td>\n    </tr>\n    <tr>\n      <th>29</th>\n      <td>19.7</td>\n    </tr>\n    <tr>\n      <th>30</th>\n      <td>15.0</td>\n    </tr>\n    <tr>\n      <th>31</th>\n      <td>21.4</td>\n    </tr>\n  </tbody>\n</table>\n</div>"
          },
          "metadata": {}
        }
      ]
    },
    {
      "metadata": {
        "trusted": true
      },
      "cell_type": "code",
      "source": "mtcars1=mtcars.groupby(['mpg'])",
      "execution_count": 45,
      "outputs": []
    },
    {
      "metadata": {
        "trusted": true
      },
      "cell_type": "code",
      "source": "mtcars1",
      "execution_count": 47,
      "outputs": [
        {
          "output_type": "execute_result",
          "execution_count": 47,
          "data": {
            "text/plain": "<pandas.core.groupby.generic.DataFrameGroupBy object at 0x00000286A32BA3A0>"
          },
          "metadata": {}
        }
      ]
    },
    {
      "metadata": {
        "trusted": true
      },
      "cell_type": "code",
      "source": "mtcars1.mean()",
      "execution_count": 48,
      "outputs": [
        {
          "output_type": "execute_result",
          "execution_count": 48,
          "data": {
            "text/plain": "      cyl   disp     hp   drat      wt    qsec   vs   am  gear  carb\nmpg                                                                 \n10.4  8.0  466.0  210.0  2.965  5.3370  17.900  0.0  0.0   3.0   4.0\n13.3  8.0  350.0  245.0  3.730  3.8400  15.410  0.0  0.0   3.0   4.0\n14.3  8.0  360.0  245.0  3.210  3.5700  15.840  0.0  0.0   3.0   4.0\n14.7  8.0  440.0  230.0  3.230  5.3450  17.420  0.0  0.0   3.0   4.0\n15.0  8.0  301.0  335.0  3.540  3.5700  14.600  0.0  1.0   5.0   8.0\n15.2  8.0  289.9  165.0  3.110  3.6075  17.650  0.0  0.0   3.0   2.5\n15.5  8.0  318.0  150.0  2.760  3.5200  16.870  0.0  0.0   3.0   2.0\n15.8  8.0  351.0  264.0  4.220  3.1700  14.500  0.0  1.0   5.0   4.0\n16.4  8.0  275.8  180.0  3.070  4.0700  17.400  0.0  0.0   3.0   3.0\n17.3  8.0  275.8  180.0  3.070  3.7300  17.600  0.0  0.0   3.0   3.0\n17.8  6.0  167.6  123.0  3.920  3.4400  18.900  1.0  0.0   4.0   4.0\n18.1  6.0  225.0  105.0  2.760  3.4600  20.220  1.0  0.0   3.0   1.0\n18.7  8.0  360.0  175.0  3.150  3.4400  17.020  0.0  0.0   3.0   2.0\n19.2  7.0  283.8  149.0  3.500  3.6425  17.675  0.5  0.0   3.5   3.0\n19.7  6.0  145.0  175.0  3.620  2.7700  15.500  0.0  1.0   5.0   6.0\n21.0  6.0  160.0  110.0  3.900  2.7475  16.740  0.0  1.0   4.0   4.0\n21.4  5.0  189.5  109.5  3.595  2.9975  19.020  1.0  0.5   3.5   1.5\n21.5  4.0  120.1   97.0  3.700  2.4650  20.010  1.0  0.0   3.0   1.0\n22.8  4.0  124.4   94.0  3.885  2.7350  20.755  1.0  0.5   4.0   1.5\n24.4  4.0  146.7   62.0  3.690  3.1900  20.000  1.0  0.0   4.0   2.0\n26.0  4.0  120.3   91.0  4.430  2.1400  16.700  0.0  1.0   5.0   2.0\n27.3  4.0   79.0   66.0  4.080  1.9350  18.900  1.0  1.0   4.0   1.0\n30.4  4.0   85.4   82.5  4.350  1.5640  17.710  1.0  1.0   4.5   2.0\n32.4  4.0   78.7   66.0  4.080  2.2000  19.470  1.0  1.0   4.0   1.0\n33.9  4.0   71.1   65.0  4.220  1.8350  19.900  1.0  1.0   4.0   1.0",
            "text/html": "<div>\n<style scoped>\n    .dataframe tbody tr th:only-of-type {\n        vertical-align: middle;\n    }\n\n    .dataframe tbody tr th {\n        vertical-align: top;\n    }\n\n    .dataframe thead th {\n        text-align: right;\n    }\n</style>\n<table border=\"1\" class=\"dataframe\">\n  <thead>\n    <tr style=\"text-align: right;\">\n      <th></th>\n      <th>cyl</th>\n      <th>disp</th>\n      <th>hp</th>\n      <th>drat</th>\n      <th>wt</th>\n      <th>qsec</th>\n      <th>vs</th>\n      <th>am</th>\n      <th>gear</th>\n      <th>carb</th>\n    </tr>\n    <tr>\n      <th>mpg</th>\n      <th></th>\n      <th></th>\n      <th></th>\n      <th></th>\n      <th></th>\n      <th></th>\n      <th></th>\n      <th></th>\n      <th></th>\n      <th></th>\n    </tr>\n  </thead>\n  <tbody>\n    <tr>\n      <th>10.4</th>\n      <td>8.0</td>\n      <td>466.0</td>\n      <td>210.0</td>\n      <td>2.965</td>\n      <td>5.3370</td>\n      <td>17.900</td>\n      <td>0.0</td>\n      <td>0.0</td>\n      <td>3.0</td>\n      <td>4.0</td>\n    </tr>\n    <tr>\n      <th>13.3</th>\n      <td>8.0</td>\n      <td>350.0</td>\n      <td>245.0</td>\n      <td>3.730</td>\n      <td>3.8400</td>\n      <td>15.410</td>\n      <td>0.0</td>\n      <td>0.0</td>\n      <td>3.0</td>\n      <td>4.0</td>\n    </tr>\n    <tr>\n      <th>14.3</th>\n      <td>8.0</td>\n      <td>360.0</td>\n      <td>245.0</td>\n      <td>3.210</td>\n      <td>3.5700</td>\n      <td>15.840</td>\n      <td>0.0</td>\n      <td>0.0</td>\n      <td>3.0</td>\n      <td>4.0</td>\n    </tr>\n    <tr>\n      <th>14.7</th>\n      <td>8.0</td>\n      <td>440.0</td>\n      <td>230.0</td>\n      <td>3.230</td>\n      <td>5.3450</td>\n      <td>17.420</td>\n      <td>0.0</td>\n      <td>0.0</td>\n      <td>3.0</td>\n      <td>4.0</td>\n    </tr>\n    <tr>\n      <th>15.0</th>\n      <td>8.0</td>\n      <td>301.0</td>\n      <td>335.0</td>\n      <td>3.540</td>\n      <td>3.5700</td>\n      <td>14.600</td>\n      <td>0.0</td>\n      <td>1.0</td>\n      <td>5.0</td>\n      <td>8.0</td>\n    </tr>\n    <tr>\n      <th>15.2</th>\n      <td>8.0</td>\n      <td>289.9</td>\n      <td>165.0</td>\n      <td>3.110</td>\n      <td>3.6075</td>\n      <td>17.650</td>\n      <td>0.0</td>\n      <td>0.0</td>\n      <td>3.0</td>\n      <td>2.5</td>\n    </tr>\n    <tr>\n      <th>15.5</th>\n      <td>8.0</td>\n      <td>318.0</td>\n      <td>150.0</td>\n      <td>2.760</td>\n      <td>3.5200</td>\n      <td>16.870</td>\n      <td>0.0</td>\n      <td>0.0</td>\n      <td>3.0</td>\n      <td>2.0</td>\n    </tr>\n    <tr>\n      <th>15.8</th>\n      <td>8.0</td>\n      <td>351.0</td>\n      <td>264.0</td>\n      <td>4.220</td>\n      <td>3.1700</td>\n      <td>14.500</td>\n      <td>0.0</td>\n      <td>1.0</td>\n      <td>5.0</td>\n      <td>4.0</td>\n    </tr>\n    <tr>\n      <th>16.4</th>\n      <td>8.0</td>\n      <td>275.8</td>\n      <td>180.0</td>\n      <td>3.070</td>\n      <td>4.0700</td>\n      <td>17.400</td>\n      <td>0.0</td>\n      <td>0.0</td>\n      <td>3.0</td>\n      <td>3.0</td>\n    </tr>\n    <tr>\n      <th>17.3</th>\n      <td>8.0</td>\n      <td>275.8</td>\n      <td>180.0</td>\n      <td>3.070</td>\n      <td>3.7300</td>\n      <td>17.600</td>\n      <td>0.0</td>\n      <td>0.0</td>\n      <td>3.0</td>\n      <td>3.0</td>\n    </tr>\n    <tr>\n      <th>17.8</th>\n      <td>6.0</td>\n      <td>167.6</td>\n      <td>123.0</td>\n      <td>3.920</td>\n      <td>3.4400</td>\n      <td>18.900</td>\n      <td>1.0</td>\n      <td>0.0</td>\n      <td>4.0</td>\n      <td>4.0</td>\n    </tr>\n    <tr>\n      <th>18.1</th>\n      <td>6.0</td>\n      <td>225.0</td>\n      <td>105.0</td>\n      <td>2.760</td>\n      <td>3.4600</td>\n      <td>20.220</td>\n      <td>1.0</td>\n      <td>0.0</td>\n      <td>3.0</td>\n      <td>1.0</td>\n    </tr>\n    <tr>\n      <th>18.7</th>\n      <td>8.0</td>\n      <td>360.0</td>\n      <td>175.0</td>\n      <td>3.150</td>\n      <td>3.4400</td>\n      <td>17.020</td>\n      <td>0.0</td>\n      <td>0.0</td>\n      <td>3.0</td>\n      <td>2.0</td>\n    </tr>\n    <tr>\n      <th>19.2</th>\n      <td>7.0</td>\n      <td>283.8</td>\n      <td>149.0</td>\n      <td>3.500</td>\n      <td>3.6425</td>\n      <td>17.675</td>\n      <td>0.5</td>\n      <td>0.0</td>\n      <td>3.5</td>\n      <td>3.0</td>\n    </tr>\n    <tr>\n      <th>19.7</th>\n      <td>6.0</td>\n      <td>145.0</td>\n      <td>175.0</td>\n      <td>3.620</td>\n      <td>2.7700</td>\n      <td>15.500</td>\n      <td>0.0</td>\n      <td>1.0</td>\n      <td>5.0</td>\n      <td>6.0</td>\n    </tr>\n    <tr>\n      <th>21.0</th>\n      <td>6.0</td>\n      <td>160.0</td>\n      <td>110.0</td>\n      <td>3.900</td>\n      <td>2.7475</td>\n      <td>16.740</td>\n      <td>0.0</td>\n      <td>1.0</td>\n      <td>4.0</td>\n      <td>4.0</td>\n    </tr>\n    <tr>\n      <th>21.4</th>\n      <td>5.0</td>\n      <td>189.5</td>\n      <td>109.5</td>\n      <td>3.595</td>\n      <td>2.9975</td>\n      <td>19.020</td>\n      <td>1.0</td>\n      <td>0.5</td>\n      <td>3.5</td>\n      <td>1.5</td>\n    </tr>\n    <tr>\n      <th>21.5</th>\n      <td>4.0</td>\n      <td>120.1</td>\n      <td>97.0</td>\n      <td>3.700</td>\n      <td>2.4650</td>\n      <td>20.010</td>\n      <td>1.0</td>\n      <td>0.0</td>\n      <td>3.0</td>\n      <td>1.0</td>\n    </tr>\n    <tr>\n      <th>22.8</th>\n      <td>4.0</td>\n      <td>124.4</td>\n      <td>94.0</td>\n      <td>3.885</td>\n      <td>2.7350</td>\n      <td>20.755</td>\n      <td>1.0</td>\n      <td>0.5</td>\n      <td>4.0</td>\n      <td>1.5</td>\n    </tr>\n    <tr>\n      <th>24.4</th>\n      <td>4.0</td>\n      <td>146.7</td>\n      <td>62.0</td>\n      <td>3.690</td>\n      <td>3.1900</td>\n      <td>20.000</td>\n      <td>1.0</td>\n      <td>0.0</td>\n      <td>4.0</td>\n      <td>2.0</td>\n    </tr>\n    <tr>\n      <th>26.0</th>\n      <td>4.0</td>\n      <td>120.3</td>\n      <td>91.0</td>\n      <td>4.430</td>\n      <td>2.1400</td>\n      <td>16.700</td>\n      <td>0.0</td>\n      <td>1.0</td>\n      <td>5.0</td>\n      <td>2.0</td>\n    </tr>\n    <tr>\n      <th>27.3</th>\n      <td>4.0</td>\n      <td>79.0</td>\n      <td>66.0</td>\n      <td>4.080</td>\n      <td>1.9350</td>\n      <td>18.900</td>\n      <td>1.0</td>\n      <td>1.0</td>\n      <td>4.0</td>\n      <td>1.0</td>\n    </tr>\n    <tr>\n      <th>30.4</th>\n      <td>4.0</td>\n      <td>85.4</td>\n      <td>82.5</td>\n      <td>4.350</td>\n      <td>1.5640</td>\n      <td>17.710</td>\n      <td>1.0</td>\n      <td>1.0</td>\n      <td>4.5</td>\n      <td>2.0</td>\n    </tr>\n    <tr>\n      <th>32.4</th>\n      <td>4.0</td>\n      <td>78.7</td>\n      <td>66.0</td>\n      <td>4.080</td>\n      <td>2.2000</td>\n      <td>19.470</td>\n      <td>1.0</td>\n      <td>1.0</td>\n      <td>4.0</td>\n      <td>1.0</td>\n    </tr>\n    <tr>\n      <th>33.9</th>\n      <td>4.0</td>\n      <td>71.1</td>\n      <td>65.0</td>\n      <td>4.220</td>\n      <td>1.8350</td>\n      <td>19.900</td>\n      <td>1.0</td>\n      <td>1.0</td>\n      <td>4.0</td>\n      <td>1.0</td>\n    </tr>\n  </tbody>\n</table>\n</div>"
          },
          "metadata": {}
        }
      ]
    },
    {
      "metadata": {
        "trusted": true
      },
      "cell_type": "code",
      "source": "mtcars2=mtcars.groupby([\"cyl\"])",
      "execution_count": 50,
      "outputs": []
    },
    {
      "metadata": {
        "trusted": true
      },
      "cell_type": "code",
      "source": "mtcars2",
      "execution_count": 51,
      "outputs": [
        {
          "output_type": "execute_result",
          "execution_count": 51,
          "data": {
            "text/plain": "<pandas.core.groupby.generic.DataFrameGroupBy object at 0x00000286A3157550>"
          },
          "metadata": {}
        }
      ]
    },
    {
      "metadata": {
        "trusted": true
      },
      "cell_type": "code",
      "source": "mtcars2.mean()",
      "execution_count": 52,
      "outputs": [
        {
          "output_type": "execute_result",
          "execution_count": 52,
          "data": {
            "text/plain": "           mpg        disp          hp      drat        wt       qsec  \\\ncyl                                                                     \n4    26.663636  105.136364   82.636364  4.070909  2.285727  19.137273   \n6    19.742857  183.314286  122.285714  3.585714  3.117143  17.977143   \n8    15.100000  353.100000  209.214286  3.229286  3.999214  16.772143   \n\n           vs        am      gear      carb  \ncyl                                          \n4    0.909091  0.727273  4.090909  1.545455  \n6    0.571429  0.428571  3.857143  3.428571  \n8    0.000000  0.142857  3.285714  3.500000  ",
            "text/html": "<div>\n<style scoped>\n    .dataframe tbody tr th:only-of-type {\n        vertical-align: middle;\n    }\n\n    .dataframe tbody tr th {\n        vertical-align: top;\n    }\n\n    .dataframe thead th {\n        text-align: right;\n    }\n</style>\n<table border=\"1\" class=\"dataframe\">\n  <thead>\n    <tr style=\"text-align: right;\">\n      <th></th>\n      <th>mpg</th>\n      <th>disp</th>\n      <th>hp</th>\n      <th>drat</th>\n      <th>wt</th>\n      <th>qsec</th>\n      <th>vs</th>\n      <th>am</th>\n      <th>gear</th>\n      <th>carb</th>\n    </tr>\n    <tr>\n      <th>cyl</th>\n      <th></th>\n      <th></th>\n      <th></th>\n      <th></th>\n      <th></th>\n      <th></th>\n      <th></th>\n      <th></th>\n      <th></th>\n      <th></th>\n    </tr>\n  </thead>\n  <tbody>\n    <tr>\n      <th>4</th>\n      <td>26.663636</td>\n      <td>105.136364</td>\n      <td>82.636364</td>\n      <td>4.070909</td>\n      <td>2.285727</td>\n      <td>19.137273</td>\n      <td>0.909091</td>\n      <td>0.727273</td>\n      <td>4.090909</td>\n      <td>1.545455</td>\n    </tr>\n    <tr>\n      <th>6</th>\n      <td>19.742857</td>\n      <td>183.314286</td>\n      <td>122.285714</td>\n      <td>3.585714</td>\n      <td>3.117143</td>\n      <td>17.977143</td>\n      <td>0.571429</td>\n      <td>0.428571</td>\n      <td>3.857143</td>\n      <td>3.428571</td>\n    </tr>\n    <tr>\n      <th>8</th>\n      <td>15.100000</td>\n      <td>353.100000</td>\n      <td>209.214286</td>\n      <td>3.229286</td>\n      <td>3.999214</td>\n      <td>16.772143</td>\n      <td>0.000000</td>\n      <td>0.142857</td>\n      <td>3.285714</td>\n      <td>3.500000</td>\n    </tr>\n  </tbody>\n</table>\n</div>"
          },
          "metadata": {}
        }
      ]
    },
    {
      "metadata": {
        "trusted": true
      },
      "cell_type": "code",
      "source": "df.groupby(['rank'])[['salary']].mean()",
      "execution_count": 60,
      "outputs": [
        {
          "output_type": "execute_result",
          "execution_count": 60,
          "data": {
            "text/plain": "<pandas.core.groupby.generic.SeriesGroupBy object at 0x00000286A32BA610>"
          },
          "metadata": {}
        }
      ]
    },
    {
      "metadata": {
        "trusted": true
      },
      "cell_type": "code",
      "source": "mtcars.groupby(['cyl'])[['hp']].mean()",
      "execution_count": 62,
      "outputs": [
        {
          "output_type": "execute_result",
          "execution_count": 62,
          "data": {
            "text/plain": "             hp\ncyl            \n4     82.636364\n6    122.285714\n8    209.214286",
            "text/html": "<div>\n<style scoped>\n    .dataframe tbody tr th:only-of-type {\n        vertical-align: middle;\n    }\n\n    .dataframe tbody tr th {\n        vertical-align: top;\n    }\n\n    .dataframe thead th {\n        text-align: right;\n    }\n</style>\n<table border=\"1\" class=\"dataframe\">\n  <thead>\n    <tr style=\"text-align: right;\">\n      <th></th>\n      <th>hp</th>\n    </tr>\n    <tr>\n      <th>cyl</th>\n      <th></th>\n    </tr>\n  </thead>\n  <tbody>\n    <tr>\n      <th>4</th>\n      <td>82.636364</td>\n    </tr>\n    <tr>\n      <th>6</th>\n      <td>122.285714</td>\n    </tr>\n    <tr>\n      <th>8</th>\n      <td>209.214286</td>\n    </tr>\n  </tbody>\n</table>\n</div>"
          },
          "metadata": {}
        }
      ]
    },
    {
      "metadata": {
        "trusted": true
      },
      "cell_type": "code",
      "source": "mtcars.groupby(['cyl'])['hp'].mean()",
      "execution_count": 63,
      "outputs": [
        {
          "output_type": "execute_result",
          "execution_count": 63,
          "data": {
            "text/plain": "cyl\n4     82.636364\n6    122.285714\n8    209.214286\nName: hp, dtype: float64"
          },
          "metadata": {}
        }
      ]
    },
    {
      "metadata": {
        "trusted": true
      },
      "cell_type": "code",
      "source": "mtcars.groupby(['cyl'])[['drat']].mean()",
      "execution_count": 64,
      "outputs": [
        {
          "output_type": "execute_result",
          "execution_count": 64,
          "data": {
            "text/plain": "         drat\ncyl          \n4    4.070909\n6    3.585714\n8    3.229286",
            "text/html": "<div>\n<style scoped>\n    .dataframe tbody tr th:only-of-type {\n        vertical-align: middle;\n    }\n\n    .dataframe tbody tr th {\n        vertical-align: top;\n    }\n\n    .dataframe thead th {\n        text-align: right;\n    }\n</style>\n<table border=\"1\" class=\"dataframe\">\n  <thead>\n    <tr style=\"text-align: right;\">\n      <th></th>\n      <th>drat</th>\n    </tr>\n    <tr>\n      <th>cyl</th>\n      <th></th>\n    </tr>\n  </thead>\n  <tbody>\n    <tr>\n      <th>4</th>\n      <td>4.070909</td>\n    </tr>\n    <tr>\n      <th>6</th>\n      <td>3.585714</td>\n    </tr>\n    <tr>\n      <th>8</th>\n      <td>3.229286</td>\n    </tr>\n  </tbody>\n</table>\n</div>"
          },
          "metadata": {}
        }
      ]
    },
    {
      "metadata": {},
      "cell_type": "markdown",
      "source": "# Filtering operation"
    },
    {
      "metadata": {
        "trusted": true
      },
      "cell_type": "code",
      "source": "df=mtcars[mtcars['cyl'] > 4]",
      "execution_count": 67,
      "outputs": []
    },
    {
      "metadata": {
        "trusted": true
      },
      "cell_type": "code",
      "source": "df",
      "execution_count": 68,
      "outputs": [
        {
          "output_type": "execute_result",
          "execution_count": 68,
          "data": {
            "text/plain": "     mpg  cyl   disp   hp  drat     wt   qsec  vs  am  gear  carb\n0   21.0    6  160.0  110  3.90  2.620  16.46   0   1     4     4\n1   21.0    6  160.0  110  3.90  2.875  17.02   0   1     4     4\n3   21.4    6  258.0  110  3.08  3.215  19.44   1   0     3     1\n4   18.7    8  360.0  175  3.15  3.440  17.02   0   0     3     2\n5   18.1    6  225.0  105  2.76  3.460  20.22   1   0     3     1\n6   14.3    8  360.0  245  3.21  3.570  15.84   0   0     3     4\n9   19.2    6  167.6  123  3.92  3.440  18.30   1   0     4     4\n10  17.8    6  167.6  123  3.92  3.440  18.90   1   0     4     4\n11  16.4    8  275.8  180  3.07  4.070  17.40   0   0     3     3\n12  17.3    8  275.8  180  3.07  3.730  17.60   0   0     3     3\n13  15.2    8  275.8  180  3.07  3.780  18.00   0   0     3     3\n14  10.4    8  472.0  205  2.93  5.250  17.98   0   0     3     4\n15  10.4    8  460.0  215  3.00  5.424  17.82   0   0     3     4\n16  14.7    8  440.0  230  3.23  5.345  17.42   0   0     3     4\n21  15.5    8  318.0  150  2.76  3.520  16.87   0   0     3     2\n22  15.2    8  304.0  150  3.15  3.435  17.30   0   0     3     2\n23  13.3    8  350.0  245  3.73  3.840  15.41   0   0     3     4\n24  19.2    8  400.0  175  3.08  3.845  17.05   0   0     3     2\n28  15.8    8  351.0  264  4.22  3.170  14.50   0   1     5     4\n29  19.7    6  145.0  175  3.62  2.770  15.50   0   1     5     6\n30  15.0    8  301.0  335  3.54  3.570  14.60   0   1     5     8",
            "text/html": "<div>\n<style scoped>\n    .dataframe tbody tr th:only-of-type {\n        vertical-align: middle;\n    }\n\n    .dataframe tbody tr th {\n        vertical-align: top;\n    }\n\n    .dataframe thead th {\n        text-align: right;\n    }\n</style>\n<table border=\"1\" class=\"dataframe\">\n  <thead>\n    <tr style=\"text-align: right;\">\n      <th></th>\n      <th>mpg</th>\n      <th>cyl</th>\n      <th>disp</th>\n      <th>hp</th>\n      <th>drat</th>\n      <th>wt</th>\n      <th>qsec</th>\n      <th>vs</th>\n      <th>am</th>\n      <th>gear</th>\n      <th>carb</th>\n    </tr>\n  </thead>\n  <tbody>\n    <tr>\n      <th>0</th>\n      <td>21.0</td>\n      <td>6</td>\n      <td>160.0</td>\n      <td>110</td>\n      <td>3.90</td>\n      <td>2.620</td>\n      <td>16.46</td>\n      <td>0</td>\n      <td>1</td>\n      <td>4</td>\n      <td>4</td>\n    </tr>\n    <tr>\n      <th>1</th>\n      <td>21.0</td>\n      <td>6</td>\n      <td>160.0</td>\n      <td>110</td>\n      <td>3.90</td>\n      <td>2.875</td>\n      <td>17.02</td>\n      <td>0</td>\n      <td>1</td>\n      <td>4</td>\n      <td>4</td>\n    </tr>\n    <tr>\n      <th>3</th>\n      <td>21.4</td>\n      <td>6</td>\n      <td>258.0</td>\n      <td>110</td>\n      <td>3.08</td>\n      <td>3.215</td>\n      <td>19.44</td>\n      <td>1</td>\n      <td>0</td>\n      <td>3</td>\n      <td>1</td>\n    </tr>\n    <tr>\n      <th>4</th>\n      <td>18.7</td>\n      <td>8</td>\n      <td>360.0</td>\n      <td>175</td>\n      <td>3.15</td>\n      <td>3.440</td>\n      <td>17.02</td>\n      <td>0</td>\n      <td>0</td>\n      <td>3</td>\n      <td>2</td>\n    </tr>\n    <tr>\n      <th>5</th>\n      <td>18.1</td>\n      <td>6</td>\n      <td>225.0</td>\n      <td>105</td>\n      <td>2.76</td>\n      <td>3.460</td>\n      <td>20.22</td>\n      <td>1</td>\n      <td>0</td>\n      <td>3</td>\n      <td>1</td>\n    </tr>\n    <tr>\n      <th>6</th>\n      <td>14.3</td>\n      <td>8</td>\n      <td>360.0</td>\n      <td>245</td>\n      <td>3.21</td>\n      <td>3.570</td>\n      <td>15.84</td>\n      <td>0</td>\n      <td>0</td>\n      <td>3</td>\n      <td>4</td>\n    </tr>\n    <tr>\n      <th>9</th>\n      <td>19.2</td>\n      <td>6</td>\n      <td>167.6</td>\n      <td>123</td>\n      <td>3.92</td>\n      <td>3.440</td>\n      <td>18.30</td>\n      <td>1</td>\n      <td>0</td>\n      <td>4</td>\n      <td>4</td>\n    </tr>\n    <tr>\n      <th>10</th>\n      <td>17.8</td>\n      <td>6</td>\n      <td>167.6</td>\n      <td>123</td>\n      <td>3.92</td>\n      <td>3.440</td>\n      <td>18.90</td>\n      <td>1</td>\n      <td>0</td>\n      <td>4</td>\n      <td>4</td>\n    </tr>\n    <tr>\n      <th>11</th>\n      <td>16.4</td>\n      <td>8</td>\n      <td>275.8</td>\n      <td>180</td>\n      <td>3.07</td>\n      <td>4.070</td>\n      <td>17.40</td>\n      <td>0</td>\n      <td>0</td>\n      <td>3</td>\n      <td>3</td>\n    </tr>\n    <tr>\n      <th>12</th>\n      <td>17.3</td>\n      <td>8</td>\n      <td>275.8</td>\n      <td>180</td>\n      <td>3.07</td>\n      <td>3.730</td>\n      <td>17.60</td>\n      <td>0</td>\n      <td>0</td>\n      <td>3</td>\n      <td>3</td>\n    </tr>\n    <tr>\n      <th>13</th>\n      <td>15.2</td>\n      <td>8</td>\n      <td>275.8</td>\n      <td>180</td>\n      <td>3.07</td>\n      <td>3.780</td>\n      <td>18.00</td>\n      <td>0</td>\n      <td>0</td>\n      <td>3</td>\n      <td>3</td>\n    </tr>\n    <tr>\n      <th>14</th>\n      <td>10.4</td>\n      <td>8</td>\n      <td>472.0</td>\n      <td>205</td>\n      <td>2.93</td>\n      <td>5.250</td>\n      <td>17.98</td>\n      <td>0</td>\n      <td>0</td>\n      <td>3</td>\n      <td>4</td>\n    </tr>\n    <tr>\n      <th>15</th>\n      <td>10.4</td>\n      <td>8</td>\n      <td>460.0</td>\n      <td>215</td>\n      <td>3.00</td>\n      <td>5.424</td>\n      <td>17.82</td>\n      <td>0</td>\n      <td>0</td>\n      <td>3</td>\n      <td>4</td>\n    </tr>\n    <tr>\n      <th>16</th>\n      <td>14.7</td>\n      <td>8</td>\n      <td>440.0</td>\n      <td>230</td>\n      <td>3.23</td>\n      <td>5.345</td>\n      <td>17.42</td>\n      <td>0</td>\n      <td>0</td>\n      <td>3</td>\n      <td>4</td>\n    </tr>\n    <tr>\n      <th>21</th>\n      <td>15.5</td>\n      <td>8</td>\n      <td>318.0</td>\n      <td>150</td>\n      <td>2.76</td>\n      <td>3.520</td>\n      <td>16.87</td>\n      <td>0</td>\n      <td>0</td>\n      <td>3</td>\n      <td>2</td>\n    </tr>\n    <tr>\n      <th>22</th>\n      <td>15.2</td>\n      <td>8</td>\n      <td>304.0</td>\n      <td>150</td>\n      <td>3.15</td>\n      <td>3.435</td>\n      <td>17.30</td>\n      <td>0</td>\n      <td>0</td>\n      <td>3</td>\n      <td>2</td>\n    </tr>\n    <tr>\n      <th>23</th>\n      <td>13.3</td>\n      <td>8</td>\n      <td>350.0</td>\n      <td>245</td>\n      <td>3.73</td>\n      <td>3.840</td>\n      <td>15.41</td>\n      <td>0</td>\n      <td>0</td>\n      <td>3</td>\n      <td>4</td>\n    </tr>\n    <tr>\n      <th>24</th>\n      <td>19.2</td>\n      <td>8</td>\n      <td>400.0</td>\n      <td>175</td>\n      <td>3.08</td>\n      <td>3.845</td>\n      <td>17.05</td>\n      <td>0</td>\n      <td>0</td>\n      <td>3</td>\n      <td>2</td>\n    </tr>\n    <tr>\n      <th>28</th>\n      <td>15.8</td>\n      <td>8</td>\n      <td>351.0</td>\n      <td>264</td>\n      <td>4.22</td>\n      <td>3.170</td>\n      <td>14.50</td>\n      <td>0</td>\n      <td>1</td>\n      <td>5</td>\n      <td>4</td>\n    </tr>\n    <tr>\n      <th>29</th>\n      <td>19.7</td>\n      <td>6</td>\n      <td>145.0</td>\n      <td>175</td>\n      <td>3.62</td>\n      <td>2.770</td>\n      <td>15.50</td>\n      <td>0</td>\n      <td>1</td>\n      <td>5</td>\n      <td>6</td>\n    </tr>\n    <tr>\n      <th>30</th>\n      <td>15.0</td>\n      <td>8</td>\n      <td>301.0</td>\n      <td>335</td>\n      <td>3.54</td>\n      <td>3.570</td>\n      <td>14.60</td>\n      <td>0</td>\n      <td>1</td>\n      <td>5</td>\n      <td>8</td>\n    </tr>\n  </tbody>\n</table>\n</div>"
          },
          "metadata": {}
        }
      ]
    },
    {
      "metadata": {
        "trusted": true
      },
      "cell_type": "code",
      "source": "df=mtcars[mtcars['cyl']==6]",
      "execution_count": 71,
      "outputs": []
    },
    {
      "metadata": {
        "trusted": true
      },
      "cell_type": "code",
      "source": "df",
      "execution_count": 72,
      "outputs": [
        {
          "output_type": "execute_result",
          "execution_count": 72,
          "data": {
            "text/plain": "     mpg  cyl   disp   hp  drat     wt   qsec  vs  am  gear  carb\n0   21.0    6  160.0  110  3.90  2.620  16.46   0   1     4     4\n1   21.0    6  160.0  110  3.90  2.875  17.02   0   1     4     4\n3   21.4    6  258.0  110  3.08  3.215  19.44   1   0     3     1\n5   18.1    6  225.0  105  2.76  3.460  20.22   1   0     3     1\n9   19.2    6  167.6  123  3.92  3.440  18.30   1   0     4     4\n10  17.8    6  167.6  123  3.92  3.440  18.90   1   0     4     4\n29  19.7    6  145.0  175  3.62  2.770  15.50   0   1     5     6",
            "text/html": "<div>\n<style scoped>\n    .dataframe tbody tr th:only-of-type {\n        vertical-align: middle;\n    }\n\n    .dataframe tbody tr th {\n        vertical-align: top;\n    }\n\n    .dataframe thead th {\n        text-align: right;\n    }\n</style>\n<table border=\"1\" class=\"dataframe\">\n  <thead>\n    <tr style=\"text-align: right;\">\n      <th></th>\n      <th>mpg</th>\n      <th>cyl</th>\n      <th>disp</th>\n      <th>hp</th>\n      <th>drat</th>\n      <th>wt</th>\n      <th>qsec</th>\n      <th>vs</th>\n      <th>am</th>\n      <th>gear</th>\n      <th>carb</th>\n    </tr>\n  </thead>\n  <tbody>\n    <tr>\n      <th>0</th>\n      <td>21.0</td>\n      <td>6</td>\n      <td>160.0</td>\n      <td>110</td>\n      <td>3.90</td>\n      <td>2.620</td>\n      <td>16.46</td>\n      <td>0</td>\n      <td>1</td>\n      <td>4</td>\n      <td>4</td>\n    </tr>\n    <tr>\n      <th>1</th>\n      <td>21.0</td>\n      <td>6</td>\n      <td>160.0</td>\n      <td>110</td>\n      <td>3.90</td>\n      <td>2.875</td>\n      <td>17.02</td>\n      <td>0</td>\n      <td>1</td>\n      <td>4</td>\n      <td>4</td>\n    </tr>\n    <tr>\n      <th>3</th>\n      <td>21.4</td>\n      <td>6</td>\n      <td>258.0</td>\n      <td>110</td>\n      <td>3.08</td>\n      <td>3.215</td>\n      <td>19.44</td>\n      <td>1</td>\n      <td>0</td>\n      <td>3</td>\n      <td>1</td>\n    </tr>\n    <tr>\n      <th>5</th>\n      <td>18.1</td>\n      <td>6</td>\n      <td>225.0</td>\n      <td>105</td>\n      <td>2.76</td>\n      <td>3.460</td>\n      <td>20.22</td>\n      <td>1</td>\n      <td>0</td>\n      <td>3</td>\n      <td>1</td>\n    </tr>\n    <tr>\n      <th>9</th>\n      <td>19.2</td>\n      <td>6</td>\n      <td>167.6</td>\n      <td>123</td>\n      <td>3.92</td>\n      <td>3.440</td>\n      <td>18.30</td>\n      <td>1</td>\n      <td>0</td>\n      <td>4</td>\n      <td>4</td>\n    </tr>\n    <tr>\n      <th>10</th>\n      <td>17.8</td>\n      <td>6</td>\n      <td>167.6</td>\n      <td>123</td>\n      <td>3.92</td>\n      <td>3.440</td>\n      <td>18.90</td>\n      <td>1</td>\n      <td>0</td>\n      <td>4</td>\n      <td>4</td>\n    </tr>\n    <tr>\n      <th>29</th>\n      <td>19.7</td>\n      <td>6</td>\n      <td>145.0</td>\n      <td>175</td>\n      <td>3.62</td>\n      <td>2.770</td>\n      <td>15.50</td>\n      <td>0</td>\n      <td>1</td>\n      <td>5</td>\n      <td>6</td>\n    </tr>\n  </tbody>\n</table>\n</div>"
          },
          "metadata": {}
        }
      ]
    },
    {
      "metadata": {
        "trusted": true
      },
      "cell_type": "code",
      "source": "mtcars.iloc[1]",
      "execution_count": 73,
      "outputs": [
        {
          "output_type": "execute_result",
          "execution_count": 73,
          "data": {
            "text/plain": "mpg      21.000\ncyl       6.000\ndisp    160.000\nhp      110.000\ndrat      3.900\nwt        2.875\nqsec     17.020\nvs        0.000\nam        1.000\ngear      4.000\ncarb      4.000\nName: 1, dtype: float64"
          },
          "metadata": {}
        }
      ]
    },
    {
      "metadata": {
        "trusted": true
      },
      "cell_type": "code",
      "source": "mtcars.iloc[-1]",
      "execution_count": 74,
      "outputs": [
        {
          "output_type": "execute_result",
          "execution_count": 74,
          "data": {
            "text/plain": "mpg      21.40\ncyl       4.00\ndisp    121.00\nhp      109.00\ndrat      4.11\nwt        2.78\nqsec     18.60\nvs        1.00\nam        1.00\ngear      4.00\ncarb      2.00\nName: 31, dtype: float64"
          },
          "metadata": {}
        }
      ]
    },
    {
      "metadata": {
        "trusted": true
      },
      "cell_type": "code",
      "source": "mtcars.iloc[:,2]",
      "execution_count": 75,
      "outputs": [
        {
          "output_type": "execute_result",
          "execution_count": 75,
          "data": {
            "text/plain": "0     160.0\n1     160.0\n2     108.0\n3     258.0\n4     360.0\n5     225.0\n6     360.0\n7     146.7\n8     140.8\n9     167.6\n10    167.6\n11    275.8\n12    275.8\n13    275.8\n14    472.0\n15    460.0\n16    440.0\n17     78.7\n18     75.7\n19     71.1\n20    120.1\n21    318.0\n22    304.0\n23    350.0\n24    400.0\n25     79.0\n26    120.3\n27     95.1\n28    351.0\n29    145.0\n30    301.0\n31    121.0\nName: disp, dtype: float64"
          },
          "metadata": {}
        }
      ]
    },
    {
      "metadata": {
        "trusted": true
      },
      "cell_type": "code",
      "source": "mtcars.iloc[:,1:3]",
      "execution_count": 78,
      "outputs": [
        {
          "output_type": "execute_result",
          "execution_count": 78,
          "data": {
            "text/plain": "    cyl   disp\n0     6  160.0\n1     6  160.0\n2     4  108.0\n3     6  258.0\n4     8  360.0\n5     6  225.0\n6     8  360.0\n7     4  146.7\n8     4  140.8\n9     6  167.6\n10    6  167.6\n11    8  275.8\n12    8  275.8\n13    8  275.8\n14    8  472.0\n15    8  460.0\n16    8  440.0\n17    4   78.7\n18    4   75.7\n19    4   71.1\n20    4  120.1\n21    8  318.0\n22    8  304.0\n23    8  350.0\n24    8  400.0\n25    4   79.0\n26    4  120.3\n27    4   95.1\n28    8  351.0\n29    6  145.0\n30    8  301.0\n31    4  121.0",
            "text/html": "<div>\n<style scoped>\n    .dataframe tbody tr th:only-of-type {\n        vertical-align: middle;\n    }\n\n    .dataframe tbody tr th {\n        vertical-align: top;\n    }\n\n    .dataframe thead th {\n        text-align: right;\n    }\n</style>\n<table border=\"1\" class=\"dataframe\">\n  <thead>\n    <tr style=\"text-align: right;\">\n      <th></th>\n      <th>cyl</th>\n      <th>disp</th>\n    </tr>\n  </thead>\n  <tbody>\n    <tr>\n      <th>0</th>\n      <td>6</td>\n      <td>160.0</td>\n    </tr>\n    <tr>\n      <th>1</th>\n      <td>6</td>\n      <td>160.0</td>\n    </tr>\n    <tr>\n      <th>2</th>\n      <td>4</td>\n      <td>108.0</td>\n    </tr>\n    <tr>\n      <th>3</th>\n      <td>6</td>\n      <td>258.0</td>\n    </tr>\n    <tr>\n      <th>4</th>\n      <td>8</td>\n      <td>360.0</td>\n    </tr>\n    <tr>\n      <th>5</th>\n      <td>6</td>\n      <td>225.0</td>\n    </tr>\n    <tr>\n      <th>6</th>\n      <td>8</td>\n      <td>360.0</td>\n    </tr>\n    <tr>\n      <th>7</th>\n      <td>4</td>\n      <td>146.7</td>\n    </tr>\n    <tr>\n      <th>8</th>\n      <td>4</td>\n      <td>140.8</td>\n    </tr>\n    <tr>\n      <th>9</th>\n      <td>6</td>\n      <td>167.6</td>\n    </tr>\n    <tr>\n      <th>10</th>\n      <td>6</td>\n      <td>167.6</td>\n    </tr>\n    <tr>\n      <th>11</th>\n      <td>8</td>\n      <td>275.8</td>\n    </tr>\n    <tr>\n      <th>12</th>\n      <td>8</td>\n      <td>275.8</td>\n    </tr>\n    <tr>\n      <th>13</th>\n      <td>8</td>\n      <td>275.8</td>\n    </tr>\n    <tr>\n      <th>14</th>\n      <td>8</td>\n      <td>472.0</td>\n    </tr>\n    <tr>\n      <th>15</th>\n      <td>8</td>\n      <td>460.0</td>\n    </tr>\n    <tr>\n      <th>16</th>\n      <td>8</td>\n      <td>440.0</td>\n    </tr>\n    <tr>\n      <th>17</th>\n      <td>4</td>\n      <td>78.7</td>\n    </tr>\n    <tr>\n      <th>18</th>\n      <td>4</td>\n      <td>75.7</td>\n    </tr>\n    <tr>\n      <th>19</th>\n      <td>4</td>\n      <td>71.1</td>\n    </tr>\n    <tr>\n      <th>20</th>\n      <td>4</td>\n      <td>120.1</td>\n    </tr>\n    <tr>\n      <th>21</th>\n      <td>8</td>\n      <td>318.0</td>\n    </tr>\n    <tr>\n      <th>22</th>\n      <td>8</td>\n      <td>304.0</td>\n    </tr>\n    <tr>\n      <th>23</th>\n      <td>8</td>\n      <td>350.0</td>\n    </tr>\n    <tr>\n      <th>24</th>\n      <td>8</td>\n      <td>400.0</td>\n    </tr>\n    <tr>\n      <th>25</th>\n      <td>4</td>\n      <td>79.0</td>\n    </tr>\n    <tr>\n      <th>26</th>\n      <td>4</td>\n      <td>120.3</td>\n    </tr>\n    <tr>\n      <th>27</th>\n      <td>4</td>\n      <td>95.1</td>\n    </tr>\n    <tr>\n      <th>28</th>\n      <td>8</td>\n      <td>351.0</td>\n    </tr>\n    <tr>\n      <th>29</th>\n      <td>6</td>\n      <td>145.0</td>\n    </tr>\n    <tr>\n      <th>30</th>\n      <td>8</td>\n      <td>301.0</td>\n    </tr>\n    <tr>\n      <th>31</th>\n      <td>4</td>\n      <td>121.0</td>\n    </tr>\n  </tbody>\n</table>\n</div>"
          },
          "metadata": {}
        }
      ]
    },
    {
      "metadata": {
        "trusted": true
      },
      "cell_type": "code",
      "source": "mtcars.iloc[[1,2],[1,2]]",
      "execution_count": 79,
      "outputs": [
        {
          "output_type": "execute_result",
          "execution_count": 79,
          "data": {
            "text/plain": "   cyl   disp\n1    6  160.0\n2    4  108.0",
            "text/html": "<div>\n<style scoped>\n    .dataframe tbody tr th:only-of-type {\n        vertical-align: middle;\n    }\n\n    .dataframe tbody tr th {\n        vertical-align: top;\n    }\n\n    .dataframe thead th {\n        text-align: right;\n    }\n</style>\n<table border=\"1\" class=\"dataframe\">\n  <thead>\n    <tr style=\"text-align: right;\">\n      <th></th>\n      <th>cyl</th>\n      <th>disp</th>\n    </tr>\n  </thead>\n  <tbody>\n    <tr>\n      <th>1</th>\n      <td>6</td>\n      <td>160.0</td>\n    </tr>\n    <tr>\n      <th>2</th>\n      <td>4</td>\n      <td>108.0</td>\n    </tr>\n  </tbody>\n</table>\n</div>"
          },
          "metadata": {}
        }
      ]
    },
    {
      "metadata": {
        "trusted": true
      },
      "cell_type": "code",
      "source": "mtcars.iloc[[1,4],[1,6]]",
      "execution_count": 80,
      "outputs": [
        {
          "output_type": "execute_result",
          "execution_count": 80,
          "data": {
            "text/plain": "   cyl   qsec\n1    6  17.02\n4    8  17.02",
            "text/html": "<div>\n<style scoped>\n    .dataframe tbody tr th:only-of-type {\n        vertical-align: middle;\n    }\n\n    .dataframe tbody tr th {\n        vertical-align: top;\n    }\n\n    .dataframe thead th {\n        text-align: right;\n    }\n</style>\n<table border=\"1\" class=\"dataframe\">\n  <thead>\n    <tr style=\"text-align: right;\">\n      <th></th>\n      <th>cyl</th>\n      <th>qsec</th>\n    </tr>\n  </thead>\n  <tbody>\n    <tr>\n      <th>1</th>\n      <td>6</td>\n      <td>17.02</td>\n    </tr>\n    <tr>\n      <th>4</th>\n      <td>8</td>\n      <td>17.02</td>\n    </tr>\n  </tbody>\n</table>\n</div>"
          },
          "metadata": {}
        }
      ]
    }
  ],
  "metadata": {
    "kernelspec": {
      "name": "python3",
      "display_name": "Python 3",
      "language": "python"
    },
    "language_info": {
      "name": "python",
      "version": "3.8.3",
      "mimetype": "text/x-python",
      "codemirror_mode": {
        "name": "ipython",
        "version": 3
      },
      "pygments_lexer": "ipython3",
      "nbconvert_exporter": "python",
      "file_extension": ".py"
    },
    "gist": {
      "id": "",
      "data": {
        "description": "Mtcar dataset  performing basic opertaion.ipynb",
        "public": true
      }
    }
  },
  "nbformat": 4,
  "nbformat_minor": 4
}