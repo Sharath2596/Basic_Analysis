{
  "cells": [
    {
      "metadata": {
        "trusted": true
      },
      "cell_type": "code",
      "source": "import pandas as pd\nimport numpy as np",
      "execution_count": 3,
      "outputs": []
    },
    {
      "metadata": {},
      "cell_type": "markdown",
      "source": "# Read CSV File of service dataset"
    },
    {
      "metadata": {
        "trusted": true
      },
      "cell_type": "code",
      "source": "df=pd.read_csv(\"http://rcs.bu.edu/examples/python/data_analysis/Salaries.csv\")",
      "execution_count": 7,
      "outputs": []
    },
    {
      "metadata": {},
      "cell_type": "markdown",
      "source": "# First 5 & last 5 records for Head & Tail"
    },
    {
      "metadata": {
        "trusted": true
      },
      "cell_type": "code",
      "source": "df.head()",
      "execution_count": 8,
      "outputs": [
        {
          "output_type": "execute_result",
          "execution_count": 8,
          "data": {
            "text/plain": "   rank discipline  phd  service   sex  salary\n0  Prof          B   56       49  Male  186960\n1  Prof          A   12        6  Male   93000\n2  Prof          A   23       20  Male  110515\n3  Prof          A   40       31  Male  131205\n4  Prof          B   20       18  Male  104800",
            "text/html": "<div>\n<style scoped>\n    .dataframe tbody tr th:only-of-type {\n        vertical-align: middle;\n    }\n\n    .dataframe tbody tr th {\n        vertical-align: top;\n    }\n\n    .dataframe thead th {\n        text-align: right;\n    }\n</style>\n<table border=\"1\" class=\"dataframe\">\n  <thead>\n    <tr style=\"text-align: right;\">\n      <th></th>\n      <th>rank</th>\n      <th>discipline</th>\n      <th>phd</th>\n      <th>service</th>\n      <th>sex</th>\n      <th>salary</th>\n    </tr>\n  </thead>\n  <tbody>\n    <tr>\n      <th>0</th>\n      <td>Prof</td>\n      <td>B</td>\n      <td>56</td>\n      <td>49</td>\n      <td>Male</td>\n      <td>186960</td>\n    </tr>\n    <tr>\n      <th>1</th>\n      <td>Prof</td>\n      <td>A</td>\n      <td>12</td>\n      <td>6</td>\n      <td>Male</td>\n      <td>93000</td>\n    </tr>\n    <tr>\n      <th>2</th>\n      <td>Prof</td>\n      <td>A</td>\n      <td>23</td>\n      <td>20</td>\n      <td>Male</td>\n      <td>110515</td>\n    </tr>\n    <tr>\n      <th>3</th>\n      <td>Prof</td>\n      <td>A</td>\n      <td>40</td>\n      <td>31</td>\n      <td>Male</td>\n      <td>131205</td>\n    </tr>\n    <tr>\n      <th>4</th>\n      <td>Prof</td>\n      <td>B</td>\n      <td>20</td>\n      <td>18</td>\n      <td>Male</td>\n      <td>104800</td>\n    </tr>\n  </tbody>\n</table>\n</div>"
          },
          "metadata": {}
        }
      ]
    },
    {
      "metadata": {
        "trusted": true,
        "scrolled": true
      },
      "cell_type": "code",
      "source": "df.tail()",
      "execution_count": 9,
      "outputs": [
        {
          "output_type": "execute_result",
          "execution_count": 9,
          "data": {
            "text/plain": "         rank discipline  phd  service     sex  salary\n73       Prof          B   18       10  Female  105450\n74  AssocProf          B   19        6  Female  104542\n75       Prof          B   17       17  Female  124312\n76       Prof          A   28       14  Female  109954\n77       Prof          A   23       15  Female  109646",
            "text/html": "<div>\n<style scoped>\n    .dataframe tbody tr th:only-of-type {\n        vertical-align: middle;\n    }\n\n    .dataframe tbody tr th {\n        vertical-align: top;\n    }\n\n    .dataframe thead th {\n        text-align: right;\n    }\n</style>\n<table border=\"1\" class=\"dataframe\">\n  <thead>\n    <tr style=\"text-align: right;\">\n      <th></th>\n      <th>rank</th>\n      <th>discipline</th>\n      <th>phd</th>\n      <th>service</th>\n      <th>sex</th>\n      <th>salary</th>\n    </tr>\n  </thead>\n  <tbody>\n    <tr>\n      <th>73</th>\n      <td>Prof</td>\n      <td>B</td>\n      <td>18</td>\n      <td>10</td>\n      <td>Female</td>\n      <td>105450</td>\n    </tr>\n    <tr>\n      <th>74</th>\n      <td>AssocProf</td>\n      <td>B</td>\n      <td>19</td>\n      <td>6</td>\n      <td>Female</td>\n      <td>104542</td>\n    </tr>\n    <tr>\n      <th>75</th>\n      <td>Prof</td>\n      <td>B</td>\n      <td>17</td>\n      <td>17</td>\n      <td>Female</td>\n      <td>124312</td>\n    </tr>\n    <tr>\n      <th>76</th>\n      <td>Prof</td>\n      <td>A</td>\n      <td>28</td>\n      <td>14</td>\n      <td>Female</td>\n      <td>109954</td>\n    </tr>\n    <tr>\n      <th>77</th>\n      <td>Prof</td>\n      <td>A</td>\n      <td>23</td>\n      <td>15</td>\n      <td>Female</td>\n      <td>109646</td>\n    </tr>\n  </tbody>\n</table>\n</div>"
          },
          "metadata": {}
        }
      ]
    },
    {
      "metadata": {},
      "cell_type": "markdown",
      "source": "# Read first 10,20 ,50 records"
    },
    {
      "metadata": {
        "trusted": true
      },
      "cell_type": "code",
      "source": "df.head(10)",
      "execution_count": 10,
      "outputs": [
        {
          "output_type": "execute_result",
          "execution_count": 10,
          "data": {
            "text/plain": "        rank discipline  phd  service   sex  salary\n0       Prof          B   56       49  Male  186960\n1       Prof          A   12        6  Male   93000\n2       Prof          A   23       20  Male  110515\n3       Prof          A   40       31  Male  131205\n4       Prof          B   20       18  Male  104800\n5       Prof          A   20       20  Male  122400\n6  AssocProf          A   20       17  Male   81285\n7       Prof          A   18       18  Male  126300\n8       Prof          A   29       19  Male   94350\n9       Prof          A   51       51  Male   57800",
            "text/html": "<div>\n<style scoped>\n    .dataframe tbody tr th:only-of-type {\n        vertical-align: middle;\n    }\n\n    .dataframe tbody tr th {\n        vertical-align: top;\n    }\n\n    .dataframe thead th {\n        text-align: right;\n    }\n</style>\n<table border=\"1\" class=\"dataframe\">\n  <thead>\n    <tr style=\"text-align: right;\">\n      <th></th>\n      <th>rank</th>\n      <th>discipline</th>\n      <th>phd</th>\n      <th>service</th>\n      <th>sex</th>\n      <th>salary</th>\n    </tr>\n  </thead>\n  <tbody>\n    <tr>\n      <th>0</th>\n      <td>Prof</td>\n      <td>B</td>\n      <td>56</td>\n      <td>49</td>\n      <td>Male</td>\n      <td>186960</td>\n    </tr>\n    <tr>\n      <th>1</th>\n      <td>Prof</td>\n      <td>A</td>\n      <td>12</td>\n      <td>6</td>\n      <td>Male</td>\n      <td>93000</td>\n    </tr>\n    <tr>\n      <th>2</th>\n      <td>Prof</td>\n      <td>A</td>\n      <td>23</td>\n      <td>20</td>\n      <td>Male</td>\n      <td>110515</td>\n    </tr>\n    <tr>\n      <th>3</th>\n      <td>Prof</td>\n      <td>A</td>\n      <td>40</td>\n      <td>31</td>\n      <td>Male</td>\n      <td>131205</td>\n    </tr>\n    <tr>\n      <th>4</th>\n      <td>Prof</td>\n      <td>B</td>\n      <td>20</td>\n      <td>18</td>\n      <td>Male</td>\n      <td>104800</td>\n    </tr>\n    <tr>\n      <th>5</th>\n      <td>Prof</td>\n      <td>A</td>\n      <td>20</td>\n      <td>20</td>\n      <td>Male</td>\n      <td>122400</td>\n    </tr>\n    <tr>\n      <th>6</th>\n      <td>AssocProf</td>\n      <td>A</td>\n      <td>20</td>\n      <td>17</td>\n      <td>Male</td>\n      <td>81285</td>\n    </tr>\n    <tr>\n      <th>7</th>\n      <td>Prof</td>\n      <td>A</td>\n      <td>18</td>\n      <td>18</td>\n      <td>Male</td>\n      <td>126300</td>\n    </tr>\n    <tr>\n      <th>8</th>\n      <td>Prof</td>\n      <td>A</td>\n      <td>29</td>\n      <td>19</td>\n      <td>Male</td>\n      <td>94350</td>\n    </tr>\n    <tr>\n      <th>9</th>\n      <td>Prof</td>\n      <td>A</td>\n      <td>51</td>\n      <td>51</td>\n      <td>Male</td>\n      <td>57800</td>\n    </tr>\n  </tbody>\n</table>\n</div>"
          },
          "metadata": {}
        }
      ]
    },
    {
      "metadata": {
        "trusted": true
      },
      "cell_type": "code",
      "source": "df.head(20)",
      "execution_count": 11,
      "outputs": [
        {
          "output_type": "execute_result",
          "execution_count": 11,
          "data": {
            "text/plain": "         rank discipline  phd  service   sex  salary\n0        Prof          B   56       49  Male  186960\n1        Prof          A   12        6  Male   93000\n2        Prof          A   23       20  Male  110515\n3        Prof          A   40       31  Male  131205\n4        Prof          B   20       18  Male  104800\n5        Prof          A   20       20  Male  122400\n6   AssocProf          A   20       17  Male   81285\n7        Prof          A   18       18  Male  126300\n8        Prof          A   29       19  Male   94350\n9        Prof          A   51       51  Male   57800\n10       Prof          B   39       33  Male  128250\n11       Prof          B   23       23  Male  134778\n12   AsstProf          B    1        0  Male   88000\n13       Prof          B   35       33  Male  162200\n14       Prof          B   25       19  Male  153750\n15       Prof          B   17        3  Male  150480\n16   AsstProf          B    8        3  Male   75044\n17   AsstProf          B    4        0  Male   92000\n18       Prof          A   19        7  Male  107300\n19       Prof          A   29       27  Male  150500",
            "text/html": "<div>\n<style scoped>\n    .dataframe tbody tr th:only-of-type {\n        vertical-align: middle;\n    }\n\n    .dataframe tbody tr th {\n        vertical-align: top;\n    }\n\n    .dataframe thead th {\n        text-align: right;\n    }\n</style>\n<table border=\"1\" class=\"dataframe\">\n  <thead>\n    <tr style=\"text-align: right;\">\n      <th></th>\n      <th>rank</th>\n      <th>discipline</th>\n      <th>phd</th>\n      <th>service</th>\n      <th>sex</th>\n      <th>salary</th>\n    </tr>\n  </thead>\n  <tbody>\n    <tr>\n      <th>0</th>\n      <td>Prof</td>\n      <td>B</td>\n      <td>56</td>\n      <td>49</td>\n      <td>Male</td>\n      <td>186960</td>\n    </tr>\n    <tr>\n      <th>1</th>\n      <td>Prof</td>\n      <td>A</td>\n      <td>12</td>\n      <td>6</td>\n      <td>Male</td>\n      <td>93000</td>\n    </tr>\n    <tr>\n      <th>2</th>\n      <td>Prof</td>\n      <td>A</td>\n      <td>23</td>\n      <td>20</td>\n      <td>Male</td>\n      <td>110515</td>\n    </tr>\n    <tr>\n      <th>3</th>\n      <td>Prof</td>\n      <td>A</td>\n      <td>40</td>\n      <td>31</td>\n      <td>Male</td>\n      <td>131205</td>\n    </tr>\n    <tr>\n      <th>4</th>\n      <td>Prof</td>\n      <td>B</td>\n      <td>20</td>\n      <td>18</td>\n      <td>Male</td>\n      <td>104800</td>\n    </tr>\n    <tr>\n      <th>5</th>\n      <td>Prof</td>\n      <td>A</td>\n      <td>20</td>\n      <td>20</td>\n      <td>Male</td>\n      <td>122400</td>\n    </tr>\n    <tr>\n      <th>6</th>\n      <td>AssocProf</td>\n      <td>A</td>\n      <td>20</td>\n      <td>17</td>\n      <td>Male</td>\n      <td>81285</td>\n    </tr>\n    <tr>\n      <th>7</th>\n      <td>Prof</td>\n      <td>A</td>\n      <td>18</td>\n      <td>18</td>\n      <td>Male</td>\n      <td>126300</td>\n    </tr>\n    <tr>\n      <th>8</th>\n      <td>Prof</td>\n      <td>A</td>\n      <td>29</td>\n      <td>19</td>\n      <td>Male</td>\n      <td>94350</td>\n    </tr>\n    <tr>\n      <th>9</th>\n      <td>Prof</td>\n      <td>A</td>\n      <td>51</td>\n      <td>51</td>\n      <td>Male</td>\n      <td>57800</td>\n    </tr>\n    <tr>\n      <th>10</th>\n      <td>Prof</td>\n      <td>B</td>\n      <td>39</td>\n      <td>33</td>\n      <td>Male</td>\n      <td>128250</td>\n    </tr>\n    <tr>\n      <th>11</th>\n      <td>Prof</td>\n      <td>B</td>\n      <td>23</td>\n      <td>23</td>\n      <td>Male</td>\n      <td>134778</td>\n    </tr>\n    <tr>\n      <th>12</th>\n      <td>AsstProf</td>\n      <td>B</td>\n      <td>1</td>\n      <td>0</td>\n      <td>Male</td>\n      <td>88000</td>\n    </tr>\n    <tr>\n      <th>13</th>\n      <td>Prof</td>\n      <td>B</td>\n      <td>35</td>\n      <td>33</td>\n      <td>Male</td>\n      <td>162200</td>\n    </tr>\n    <tr>\n      <th>14</th>\n      <td>Prof</td>\n      <td>B</td>\n      <td>25</td>\n      <td>19</td>\n      <td>Male</td>\n      <td>153750</td>\n    </tr>\n    <tr>\n      <th>15</th>\n      <td>Prof</td>\n      <td>B</td>\n      <td>17</td>\n      <td>3</td>\n      <td>Male</td>\n      <td>150480</td>\n    </tr>\n    <tr>\n      <th>16</th>\n      <td>AsstProf</td>\n      <td>B</td>\n      <td>8</td>\n      <td>3</td>\n      <td>Male</td>\n      <td>75044</td>\n    </tr>\n    <tr>\n      <th>17</th>\n      <td>AsstProf</td>\n      <td>B</td>\n      <td>4</td>\n      <td>0</td>\n      <td>Male</td>\n      <td>92000</td>\n    </tr>\n    <tr>\n      <th>18</th>\n      <td>Prof</td>\n      <td>A</td>\n      <td>19</td>\n      <td>7</td>\n      <td>Male</td>\n      <td>107300</td>\n    </tr>\n    <tr>\n      <th>19</th>\n      <td>Prof</td>\n      <td>A</td>\n      <td>29</td>\n      <td>27</td>\n      <td>Male</td>\n      <td>150500</td>\n    </tr>\n  </tbody>\n</table>\n</div>"
          },
          "metadata": {}
        }
      ]
    },
    {
      "metadata": {
        "trusted": true
      },
      "cell_type": "code",
      "source": "df.head(50)",
      "execution_count": 12,
      "outputs": [
        {
          "output_type": "execute_result",
          "execution_count": 12,
          "data": {
            "text/plain": "         rank discipline  phd  service     sex  salary\n0        Prof          B   56       49    Male  186960\n1        Prof          A   12        6    Male   93000\n2        Prof          A   23       20    Male  110515\n3        Prof          A   40       31    Male  131205\n4        Prof          B   20       18    Male  104800\n5        Prof          A   20       20    Male  122400\n6   AssocProf          A   20       17    Male   81285\n7        Prof          A   18       18    Male  126300\n8        Prof          A   29       19    Male   94350\n9        Prof          A   51       51    Male   57800\n10       Prof          B   39       33    Male  128250\n11       Prof          B   23       23    Male  134778\n12   AsstProf          B    1        0    Male   88000\n13       Prof          B   35       33    Male  162200\n14       Prof          B   25       19    Male  153750\n15       Prof          B   17        3    Male  150480\n16   AsstProf          B    8        3    Male   75044\n17   AsstProf          B    4        0    Male   92000\n18       Prof          A   19        7    Male  107300\n19       Prof          A   29       27    Male  150500\n20   AsstProf          B    4        4    Male   92000\n21       Prof          A   33       30    Male  103106\n22   AsstProf          A    4        2    Male   73000\n23   AsstProf          A    2        0    Male   85000\n24       Prof          A   30       23    Male   91100\n25       Prof          B   35       31    Male   99418\n26       Prof          A   38       19    Male  148750\n27       Prof          A   45       43    Male  155865\n28   AsstProf          B    7        2    Male   91300\n29       Prof          B   21       20    Male  123683\n30  AssocProf          B    9        7    Male  107008\n31       Prof          B   22       21    Male  155750\n32       Prof          A   27       19    Male  103275\n33       Prof          B   18       18    Male  120000\n34  AssocProf          B   12        8    Male  119800\n35       Prof          B   28       23    Male  126933\n36       Prof          B   45       45    Male  146856\n37       Prof          A   20        8    Male  102000\n38   AsstProf          B    4        3    Male   91000\n39       Prof          B   18       18  Female  129000\n40       Prof          A   39       36  Female  137000\n41  AssocProf          A   13        8  Female   74830\n42   AsstProf          B    4        2  Female   80225\n43   AsstProf          B    5        0  Female   77000\n44       Prof          B   23       19  Female  151768\n45       Prof          B   25       25  Female  140096\n46   AsstProf          B   11        3  Female   74692\n47  AssocProf          B   11       11  Female  103613\n48       Prof          B   17       17  Female  111512\n49       Prof          B   17       18  Female  122960",
            "text/html": "<div>\n<style scoped>\n    .dataframe tbody tr th:only-of-type {\n        vertical-align: middle;\n    }\n\n    .dataframe tbody tr th {\n        vertical-align: top;\n    }\n\n    .dataframe thead th {\n        text-align: right;\n    }\n</style>\n<table border=\"1\" class=\"dataframe\">\n  <thead>\n    <tr style=\"text-align: right;\">\n      <th></th>\n      <th>rank</th>\n      <th>discipline</th>\n      <th>phd</th>\n      <th>service</th>\n      <th>sex</th>\n      <th>salary</th>\n    </tr>\n  </thead>\n  <tbody>\n    <tr>\n      <th>0</th>\n      <td>Prof</td>\n      <td>B</td>\n      <td>56</td>\n      <td>49</td>\n      <td>Male</td>\n      <td>186960</td>\n    </tr>\n    <tr>\n      <th>1</th>\n      <td>Prof</td>\n      <td>A</td>\n      <td>12</td>\n      <td>6</td>\n      <td>Male</td>\n      <td>93000</td>\n    </tr>\n    <tr>\n      <th>2</th>\n      <td>Prof</td>\n      <td>A</td>\n      <td>23</td>\n      <td>20</td>\n      <td>Male</td>\n      <td>110515</td>\n    </tr>\n    <tr>\n      <th>3</th>\n      <td>Prof</td>\n      <td>A</td>\n      <td>40</td>\n      <td>31</td>\n      <td>Male</td>\n      <td>131205</td>\n    </tr>\n    <tr>\n      <th>4</th>\n      <td>Prof</td>\n      <td>B</td>\n      <td>20</td>\n      <td>18</td>\n      <td>Male</td>\n      <td>104800</td>\n    </tr>\n    <tr>\n      <th>5</th>\n      <td>Prof</td>\n      <td>A</td>\n      <td>20</td>\n      <td>20</td>\n      <td>Male</td>\n      <td>122400</td>\n    </tr>\n    <tr>\n      <th>6</th>\n      <td>AssocProf</td>\n      <td>A</td>\n      <td>20</td>\n      <td>17</td>\n      <td>Male</td>\n      <td>81285</td>\n    </tr>\n    <tr>\n      <th>7</th>\n      <td>Prof</td>\n      <td>A</td>\n      <td>18</td>\n      <td>18</td>\n      <td>Male</td>\n      <td>126300</td>\n    </tr>\n    <tr>\n      <th>8</th>\n      <td>Prof</td>\n      <td>A</td>\n      <td>29</td>\n      <td>19</td>\n      <td>Male</td>\n      <td>94350</td>\n    </tr>\n    <tr>\n      <th>9</th>\n      <td>Prof</td>\n      <td>A</td>\n      <td>51</td>\n      <td>51</td>\n      <td>Male</td>\n      <td>57800</td>\n    </tr>\n    <tr>\n      <th>10</th>\n      <td>Prof</td>\n      <td>B</td>\n      <td>39</td>\n      <td>33</td>\n      <td>Male</td>\n      <td>128250</td>\n    </tr>\n    <tr>\n      <th>11</th>\n      <td>Prof</td>\n      <td>B</td>\n      <td>23</td>\n      <td>23</td>\n      <td>Male</td>\n      <td>134778</td>\n    </tr>\n    <tr>\n      <th>12</th>\n      <td>AsstProf</td>\n      <td>B</td>\n      <td>1</td>\n      <td>0</td>\n      <td>Male</td>\n      <td>88000</td>\n    </tr>\n    <tr>\n      <th>13</th>\n      <td>Prof</td>\n      <td>B</td>\n      <td>35</td>\n      <td>33</td>\n      <td>Male</td>\n      <td>162200</td>\n    </tr>\n    <tr>\n      <th>14</th>\n      <td>Prof</td>\n      <td>B</td>\n      <td>25</td>\n      <td>19</td>\n      <td>Male</td>\n      <td>153750</td>\n    </tr>\n    <tr>\n      <th>15</th>\n      <td>Prof</td>\n      <td>B</td>\n      <td>17</td>\n      <td>3</td>\n      <td>Male</td>\n      <td>150480</td>\n    </tr>\n    <tr>\n      <th>16</th>\n      <td>AsstProf</td>\n      <td>B</td>\n      <td>8</td>\n      <td>3</td>\n      <td>Male</td>\n      <td>75044</td>\n    </tr>\n    <tr>\n      <th>17</th>\n      <td>AsstProf</td>\n      <td>B</td>\n      <td>4</td>\n      <td>0</td>\n      <td>Male</td>\n      <td>92000</td>\n    </tr>\n    <tr>\n      <th>18</th>\n      <td>Prof</td>\n      <td>A</td>\n      <td>19</td>\n      <td>7</td>\n      <td>Male</td>\n      <td>107300</td>\n    </tr>\n    <tr>\n      <th>19</th>\n      <td>Prof</td>\n      <td>A</td>\n      <td>29</td>\n      <td>27</td>\n      <td>Male</td>\n      <td>150500</td>\n    </tr>\n    <tr>\n      <th>20</th>\n      <td>AsstProf</td>\n      <td>B</td>\n      <td>4</td>\n      <td>4</td>\n      <td>Male</td>\n      <td>92000</td>\n    </tr>\n    <tr>\n      <th>21</th>\n      <td>Prof</td>\n      <td>A</td>\n      <td>33</td>\n      <td>30</td>\n      <td>Male</td>\n      <td>103106</td>\n    </tr>\n    <tr>\n      <th>22</th>\n      <td>AsstProf</td>\n      <td>A</td>\n      <td>4</td>\n      <td>2</td>\n      <td>Male</td>\n      <td>73000</td>\n    </tr>\n    <tr>\n      <th>23</th>\n      <td>AsstProf</td>\n      <td>A</td>\n      <td>2</td>\n      <td>0</td>\n      <td>Male</td>\n      <td>85000</td>\n    </tr>\n    <tr>\n      <th>24</th>\n      <td>Prof</td>\n      <td>A</td>\n      <td>30</td>\n      <td>23</td>\n      <td>Male</td>\n      <td>91100</td>\n    </tr>\n    <tr>\n      <th>25</th>\n      <td>Prof</td>\n      <td>B</td>\n      <td>35</td>\n      <td>31</td>\n      <td>Male</td>\n      <td>99418</td>\n    </tr>\n    <tr>\n      <th>26</th>\n      <td>Prof</td>\n      <td>A</td>\n      <td>38</td>\n      <td>19</td>\n      <td>Male</td>\n      <td>148750</td>\n    </tr>\n    <tr>\n      <th>27</th>\n      <td>Prof</td>\n      <td>A</td>\n      <td>45</td>\n      <td>43</td>\n      <td>Male</td>\n      <td>155865</td>\n    </tr>\n    <tr>\n      <th>28</th>\n      <td>AsstProf</td>\n      <td>B</td>\n      <td>7</td>\n      <td>2</td>\n      <td>Male</td>\n      <td>91300</td>\n    </tr>\n    <tr>\n      <th>29</th>\n      <td>Prof</td>\n      <td>B</td>\n      <td>21</td>\n      <td>20</td>\n      <td>Male</td>\n      <td>123683</td>\n    </tr>\n    <tr>\n      <th>30</th>\n      <td>AssocProf</td>\n      <td>B</td>\n      <td>9</td>\n      <td>7</td>\n      <td>Male</td>\n      <td>107008</td>\n    </tr>\n    <tr>\n      <th>31</th>\n      <td>Prof</td>\n      <td>B</td>\n      <td>22</td>\n      <td>21</td>\n      <td>Male</td>\n      <td>155750</td>\n    </tr>\n    <tr>\n      <th>32</th>\n      <td>Prof</td>\n      <td>A</td>\n      <td>27</td>\n      <td>19</td>\n      <td>Male</td>\n      <td>103275</td>\n    </tr>\n    <tr>\n      <th>33</th>\n      <td>Prof</td>\n      <td>B</td>\n      <td>18</td>\n      <td>18</td>\n      <td>Male</td>\n      <td>120000</td>\n    </tr>\n    <tr>\n      <th>34</th>\n      <td>AssocProf</td>\n      <td>B</td>\n      <td>12</td>\n      <td>8</td>\n      <td>Male</td>\n      <td>119800</td>\n    </tr>\n    <tr>\n      <th>35</th>\n      <td>Prof</td>\n      <td>B</td>\n      <td>28</td>\n      <td>23</td>\n      <td>Male</td>\n      <td>126933</td>\n    </tr>\n    <tr>\n      <th>36</th>\n      <td>Prof</td>\n      <td>B</td>\n      <td>45</td>\n      <td>45</td>\n      <td>Male</td>\n      <td>146856</td>\n    </tr>\n    <tr>\n      <th>37</th>\n      <td>Prof</td>\n      <td>A</td>\n      <td>20</td>\n      <td>8</td>\n      <td>Male</td>\n      <td>102000</td>\n    </tr>\n    <tr>\n      <th>38</th>\n      <td>AsstProf</td>\n      <td>B</td>\n      <td>4</td>\n      <td>3</td>\n      <td>Male</td>\n      <td>91000</td>\n    </tr>\n    <tr>\n      <th>39</th>\n      <td>Prof</td>\n      <td>B</td>\n      <td>18</td>\n      <td>18</td>\n      <td>Female</td>\n      <td>129000</td>\n    </tr>\n    <tr>\n      <th>40</th>\n      <td>Prof</td>\n      <td>A</td>\n      <td>39</td>\n      <td>36</td>\n      <td>Female</td>\n      <td>137000</td>\n    </tr>\n    <tr>\n      <th>41</th>\n      <td>AssocProf</td>\n      <td>A</td>\n      <td>13</td>\n      <td>8</td>\n      <td>Female</td>\n      <td>74830</td>\n    </tr>\n    <tr>\n      <th>42</th>\n      <td>AsstProf</td>\n      <td>B</td>\n      <td>4</td>\n      <td>2</td>\n      <td>Female</td>\n      <td>80225</td>\n    </tr>\n    <tr>\n      <th>43</th>\n      <td>AsstProf</td>\n      <td>B</td>\n      <td>5</td>\n      <td>0</td>\n      <td>Female</td>\n      <td>77000</td>\n    </tr>\n    <tr>\n      <th>44</th>\n      <td>Prof</td>\n      <td>B</td>\n      <td>23</td>\n      <td>19</td>\n      <td>Female</td>\n      <td>151768</td>\n    </tr>\n    <tr>\n      <th>45</th>\n      <td>Prof</td>\n      <td>B</td>\n      <td>25</td>\n      <td>25</td>\n      <td>Female</td>\n      <td>140096</td>\n    </tr>\n    <tr>\n      <th>46</th>\n      <td>AsstProf</td>\n      <td>B</td>\n      <td>11</td>\n      <td>3</td>\n      <td>Female</td>\n      <td>74692</td>\n    </tr>\n    <tr>\n      <th>47</th>\n      <td>AssocProf</td>\n      <td>B</td>\n      <td>11</td>\n      <td>11</td>\n      <td>Female</td>\n      <td>103613</td>\n    </tr>\n    <tr>\n      <th>48</th>\n      <td>Prof</td>\n      <td>B</td>\n      <td>17</td>\n      <td>17</td>\n      <td>Female</td>\n      <td>111512</td>\n    </tr>\n    <tr>\n      <th>49</th>\n      <td>Prof</td>\n      <td>B</td>\n      <td>17</td>\n      <td>18</td>\n      <td>Female</td>\n      <td>122960</td>\n    </tr>\n  </tbody>\n</table>\n</div>"
          },
          "metadata": {}
        }
      ]
    },
    {
      "metadata": {},
      "cell_type": "markdown",
      "source": "# Data Frame Data Types"
    },
    {
      "metadata": {
        "trusted": true
      },
      "cell_type": "code",
      "source": "df.dtypes",
      "execution_count": 13,
      "outputs": [
        {
          "output_type": "execute_result",
          "execution_count": 13,
          "data": {
            "text/plain": "rank          object\ndiscipline    object\nphd            int64\nservice        int64\nsex           object\nsalary         int64\ndtype: object"
          },
          "metadata": {}
        }
      ]
    },
    {
      "metadata": {
        "trusted": true
      },
      "cell_type": "code",
      "source": "df.dtypes['salary']",
      "execution_count": 14,
      "outputs": [
        {
          "output_type": "execute_result",
          "execution_count": 14,
          "data": {
            "text/plain": "dtype('int64')"
          },
          "metadata": {}
        }
      ]
    },
    {
      "metadata": {
        "trusted": true
      },
      "cell_type": "code",
      "source": "df.dtypes['rank']",
      "execution_count": 15,
      "outputs": [
        {
          "output_type": "execute_result",
          "execution_count": 15,
          "data": {
            "text/plain": "dtype('O')"
          },
          "metadata": {}
        }
      ]
    },
    {
      "metadata": {
        "trusted": true
      },
      "cell_type": "code",
      "source": "df.dtypes[['salary','rank']]",
      "execution_count": 17,
      "outputs": [
        {
          "output_type": "execute_result",
          "execution_count": 17,
          "data": {
            "text/plain": "salary     int64\nrank      object\ndtype: object"
          },
          "metadata": {}
        }
      ]
    },
    {
      "metadata": {},
      "cell_type": "markdown",
      "source": "# Find How many record in this dataset"
    },
    {
      "metadata": {
        "trusted": true
      },
      "cell_type": "code",
      "source": "df.size",
      "execution_count": 19,
      "outputs": [
        {
          "output_type": "execute_result",
          "execution_count": 19,
          "data": {
            "text/plain": "468"
          },
          "metadata": {}
        }
      ]
    },
    {
      "metadata": {},
      "cell_type": "raw",
      "source": "How Many Columns are there?"
    },
    {
      "metadata": {
        "trusted": true
      },
      "cell_type": "code",
      "source": "df.shape",
      "execution_count": 28,
      "outputs": [
        {
          "output_type": "execute_result",
          "execution_count": 28,
          "data": {
            "text/plain": "(78, 6)"
          },
          "metadata": {}
        }
      ]
    },
    {
      "metadata": {},
      "cell_type": "markdown",
      "source": "Name of Coloumns in dataset"
    },
    {
      "metadata": {
        "trusted": true
      },
      "cell_type": "code",
      "source": "df.columns",
      "execution_count": 27,
      "outputs": [
        {
          "output_type": "execute_result",
          "execution_count": 27,
          "data": {
            "text/plain": "Index(['rank', 'discipline', 'phd', 'service', 'sex', 'salary'], dtype='object')"
          },
          "metadata": {}
        }
      ]
    },
    {
      "metadata": {},
      "cell_type": "markdown",
      "source": "# What types of columns in dataset"
    },
    {
      "metadata": {
        "trusted": true
      },
      "cell_type": "code",
      "source": "df.dtypes",
      "execution_count": 33,
      "outputs": [
        {
          "output_type": "execute_result",
          "execution_count": 33,
          "data": {
            "text/plain": "rank          object\ndiscipline    object\nphd            int64\nservice        int64\nsex           object\nsalary         int64\ndtype: object"
          },
          "metadata": {}
        }
      ]
    },
    {
      "metadata": {},
      "cell_type": "markdown",
      "source": "# Data Types attributes"
    },
    {
      "metadata": {
        "trusted": true
      },
      "cell_type": "code",
      "source": "df.dtypes",
      "execution_count": 35,
      "outputs": [
        {
          "output_type": "execute_result",
          "execution_count": 35,
          "data": {
            "text/plain": "rank          object\ndiscipline    object\nphd            int64\nservice        int64\nsex           object\nsalary         int64\ndtype: object"
          },
          "metadata": {}
        }
      ]
    },
    {
      "metadata": {
        "trusted": true
      },
      "cell_type": "code",
      "source": "df.shape",
      "execution_count": 36,
      "outputs": [
        {
          "output_type": "execute_result",
          "execution_count": 36,
          "data": {
            "text/plain": "(78, 6)"
          },
          "metadata": {}
        }
      ]
    },
    {
      "metadata": {
        "trusted": true
      },
      "cell_type": "code",
      "source": "df.size",
      "execution_count": 37,
      "outputs": [
        {
          "output_type": "execute_result",
          "execution_count": 37,
          "data": {
            "text/plain": "468"
          },
          "metadata": {}
        }
      ]
    },
    {
      "metadata": {
        "trusted": true
      },
      "cell_type": "code",
      "source": "df.axes",
      "execution_count": 38,
      "outputs": [
        {
          "output_type": "execute_result",
          "execution_count": 38,
          "data": {
            "text/plain": "[RangeIndex(start=0, stop=78, step=1),\n Index(['rank', 'discipline', 'phd', 'service', 'sex', 'salary'], dtype='object')]"
          },
          "metadata": {}
        }
      ]
    },
    {
      "metadata": {
        "trusted": true
      },
      "cell_type": "code",
      "source": "df.columns",
      "execution_count": 39,
      "outputs": [
        {
          "output_type": "execute_result",
          "execution_count": 39,
          "data": {
            "text/plain": "Index(['rank', 'discipline', 'phd', 'service', 'sex', 'salary'], dtype='object')"
          },
          "metadata": {}
        }
      ]
    },
    {
      "metadata": {
        "trusted": true
      },
      "cell_type": "code",
      "source": "df.ndim",
      "execution_count": 40,
      "outputs": [
        {
          "output_type": "execute_result",
          "execution_count": 40,
          "data": {
            "text/plain": "2"
          },
          "metadata": {}
        }
      ]
    },
    {
      "metadata": {
        "trusted": true
      },
      "cell_type": "code",
      "source": "df.values",
      "execution_count": 44,
      "outputs": [
        {
          "output_type": "execute_result",
          "execution_count": 44,
          "data": {
            "text/plain": "array([['Prof', 'B', 56, 49, 'Male', 186960],\n       ['Prof', 'A', 12, 6, 'Male', 93000],\n       ['Prof', 'A', 23, 20, 'Male', 110515],\n       ['Prof', 'A', 40, 31, 'Male', 131205],\n       ['Prof', 'B', 20, 18, 'Male', 104800],\n       ['Prof', 'A', 20, 20, 'Male', 122400],\n       ['AssocProf', 'A', 20, 17, 'Male', 81285],\n       ['Prof', 'A', 18, 18, 'Male', 126300],\n       ['Prof', 'A', 29, 19, 'Male', 94350],\n       ['Prof', 'A', 51, 51, 'Male', 57800],\n       ['Prof', 'B', 39, 33, 'Male', 128250],\n       ['Prof', 'B', 23, 23, 'Male', 134778],\n       ['AsstProf', 'B', 1, 0, 'Male', 88000],\n       ['Prof', 'B', 35, 33, 'Male', 162200],\n       ['Prof', 'B', 25, 19, 'Male', 153750],\n       ['Prof', 'B', 17, 3, 'Male', 150480],\n       ['AsstProf', 'B', 8, 3, 'Male', 75044],\n       ['AsstProf', 'B', 4, 0, 'Male', 92000],\n       ['Prof', 'A', 19, 7, 'Male', 107300],\n       ['Prof', 'A', 29, 27, 'Male', 150500],\n       ['AsstProf', 'B', 4, 4, 'Male', 92000],\n       ['Prof', 'A', 33, 30, 'Male', 103106],\n       ['AsstProf', 'A', 4, 2, 'Male', 73000],\n       ['AsstProf', 'A', 2, 0, 'Male', 85000],\n       ['Prof', 'A', 30, 23, 'Male', 91100],\n       ['Prof', 'B', 35, 31, 'Male', 99418],\n       ['Prof', 'A', 38, 19, 'Male', 148750],\n       ['Prof', 'A', 45, 43, 'Male', 155865],\n       ['AsstProf', 'B', 7, 2, 'Male', 91300],\n       ['Prof', 'B', 21, 20, 'Male', 123683],\n       ['AssocProf', 'B', 9, 7, 'Male', 107008],\n       ['Prof', 'B', 22, 21, 'Male', 155750],\n       ['Prof', 'A', 27, 19, 'Male', 103275],\n       ['Prof', 'B', 18, 18, 'Male', 120000],\n       ['AssocProf', 'B', 12, 8, 'Male', 119800],\n       ['Prof', 'B', 28, 23, 'Male', 126933],\n       ['Prof', 'B', 45, 45, 'Male', 146856],\n       ['Prof', 'A', 20, 8, 'Male', 102000],\n       ['AsstProf', 'B', 4, 3, 'Male', 91000],\n       ['Prof', 'B', 18, 18, 'Female', 129000],\n       ['Prof', 'A', 39, 36, 'Female', 137000],\n       ['AssocProf', 'A', 13, 8, 'Female', 74830],\n       ['AsstProf', 'B', 4, 2, 'Female', 80225],\n       ['AsstProf', 'B', 5, 0, 'Female', 77000],\n       ['Prof', 'B', 23, 19, 'Female', 151768],\n       ['Prof', 'B', 25, 25, 'Female', 140096],\n       ['AsstProf', 'B', 11, 3, 'Female', 74692],\n       ['AssocProf', 'B', 11, 11, 'Female', 103613],\n       ['Prof', 'B', 17, 17, 'Female', 111512],\n       ['Prof', 'B', 17, 18, 'Female', 122960],\n       ['AsstProf', 'B', 10, 5, 'Female', 97032],\n       ['Prof', 'B', 20, 14, 'Female', 127512],\n       ['Prof', 'A', 12, 0, 'Female', 105000],\n       ['AsstProf', 'A', 5, 3, 'Female', 73500],\n       ['AssocProf', 'A', 25, 22, 'Female', 62884],\n       ['AsstProf', 'A', 2, 0, 'Female', 72500],\n       ['AssocProf', 'A', 10, 8, 'Female', 77500],\n       ['AsstProf', 'A', 3, 1, 'Female', 72500],\n       ['Prof', 'B', 36, 26, 'Female', 144651],\n       ['AssocProf', 'B', 12, 10, 'Female', 103994],\n       ['AsstProf', 'B', 3, 3, 'Female', 92000],\n       ['AssocProf', 'B', 13, 10, 'Female', 103750],\n       ['AssocProf', 'B', 14, 7, 'Female', 109650],\n       ['Prof', 'A', 29, 27, 'Female', 91000],\n       ['AssocProf', 'A', 26, 24, 'Female', 73300],\n       ['Prof', 'A', 36, 19, 'Female', 117555],\n       ['AsstProf', 'A', 7, 6, 'Female', 63100],\n       ['Prof', 'A', 17, 11, 'Female', 90450],\n       ['AsstProf', 'A', 4, 2, 'Female', 77500],\n       ['Prof', 'A', 28, 7, 'Female', 116450],\n       ['AsstProf', 'A', 8, 3, 'Female', 78500],\n       ['AssocProf', 'B', 12, 9, 'Female', 71065],\n       ['Prof', 'B', 24, 15, 'Female', 161101],\n       ['Prof', 'B', 18, 10, 'Female', 105450],\n       ['AssocProf', 'B', 19, 6, 'Female', 104542],\n       ['Prof', 'B', 17, 17, 'Female', 124312],\n       ['Prof', 'A', 28, 14, 'Female', 109954],\n       ['Prof', 'A', 23, 15, 'Female', 109646]], dtype=object)"
          },
          "metadata": {}
        }
      ]
    },
    {
      "metadata": {},
      "cell_type": "markdown",
      "source": "# Data Frame Methods"
    },
    {
      "metadata": {
        "trusted": true
      },
      "cell_type": "code",
      "source": "df.head()",
      "execution_count": 45,
      "outputs": [
        {
          "output_type": "execute_result",
          "execution_count": 45,
          "data": {
            "text/plain": "   rank discipline  phd  service   sex  salary\n0  Prof          B   56       49  Male  186960\n1  Prof          A   12        6  Male   93000\n2  Prof          A   23       20  Male  110515\n3  Prof          A   40       31  Male  131205\n4  Prof          B   20       18  Male  104800",
            "text/html": "<div>\n<style scoped>\n    .dataframe tbody tr th:only-of-type {\n        vertical-align: middle;\n    }\n\n    .dataframe tbody tr th {\n        vertical-align: top;\n    }\n\n    .dataframe thead th {\n        text-align: right;\n    }\n</style>\n<table border=\"1\" class=\"dataframe\">\n  <thead>\n    <tr style=\"text-align: right;\">\n      <th></th>\n      <th>rank</th>\n      <th>discipline</th>\n      <th>phd</th>\n      <th>service</th>\n      <th>sex</th>\n      <th>salary</th>\n    </tr>\n  </thead>\n  <tbody>\n    <tr>\n      <th>0</th>\n      <td>Prof</td>\n      <td>B</td>\n      <td>56</td>\n      <td>49</td>\n      <td>Male</td>\n      <td>186960</td>\n    </tr>\n    <tr>\n      <th>1</th>\n      <td>Prof</td>\n      <td>A</td>\n      <td>12</td>\n      <td>6</td>\n      <td>Male</td>\n      <td>93000</td>\n    </tr>\n    <tr>\n      <th>2</th>\n      <td>Prof</td>\n      <td>A</td>\n      <td>23</td>\n      <td>20</td>\n      <td>Male</td>\n      <td>110515</td>\n    </tr>\n    <tr>\n      <th>3</th>\n      <td>Prof</td>\n      <td>A</td>\n      <td>40</td>\n      <td>31</td>\n      <td>Male</td>\n      <td>131205</td>\n    </tr>\n    <tr>\n      <th>4</th>\n      <td>Prof</td>\n      <td>B</td>\n      <td>20</td>\n      <td>18</td>\n      <td>Male</td>\n      <td>104800</td>\n    </tr>\n  </tbody>\n</table>\n</div>"
          },
          "metadata": {}
        }
      ]
    },
    {
      "metadata": {
        "trusted": true
      },
      "cell_type": "code",
      "source": "df.tail()",
      "execution_count": 46,
      "outputs": [
        {
          "output_type": "execute_result",
          "execution_count": 46,
          "data": {
            "text/plain": "         rank discipline  phd  service     sex  salary\n73       Prof          B   18       10  Female  105450\n74  AssocProf          B   19        6  Female  104542\n75       Prof          B   17       17  Female  124312\n76       Prof          A   28       14  Female  109954\n77       Prof          A   23       15  Female  109646",
            "text/html": "<div>\n<style scoped>\n    .dataframe tbody tr th:only-of-type {\n        vertical-align: middle;\n    }\n\n    .dataframe tbody tr th {\n        vertical-align: top;\n    }\n\n    .dataframe thead th {\n        text-align: right;\n    }\n</style>\n<table border=\"1\" class=\"dataframe\">\n  <thead>\n    <tr style=\"text-align: right;\">\n      <th></th>\n      <th>rank</th>\n      <th>discipline</th>\n      <th>phd</th>\n      <th>service</th>\n      <th>sex</th>\n      <th>salary</th>\n    </tr>\n  </thead>\n  <tbody>\n    <tr>\n      <th>73</th>\n      <td>Prof</td>\n      <td>B</td>\n      <td>18</td>\n      <td>10</td>\n      <td>Female</td>\n      <td>105450</td>\n    </tr>\n    <tr>\n      <th>74</th>\n      <td>AssocProf</td>\n      <td>B</td>\n      <td>19</td>\n      <td>6</td>\n      <td>Female</td>\n      <td>104542</td>\n    </tr>\n    <tr>\n      <th>75</th>\n      <td>Prof</td>\n      <td>B</td>\n      <td>17</td>\n      <td>17</td>\n      <td>Female</td>\n      <td>124312</td>\n    </tr>\n    <tr>\n      <th>76</th>\n      <td>Prof</td>\n      <td>A</td>\n      <td>28</td>\n      <td>14</td>\n      <td>Female</td>\n      <td>109954</td>\n    </tr>\n    <tr>\n      <th>77</th>\n      <td>Prof</td>\n      <td>A</td>\n      <td>23</td>\n      <td>15</td>\n      <td>Female</td>\n      <td>109646</td>\n    </tr>\n  </tbody>\n</table>\n</div>"
          },
          "metadata": {}
        }
      ]
    },
    {
      "metadata": {
        "trusted": true
      },
      "cell_type": "code",
      "source": "df.max()",
      "execution_count": 47,
      "outputs": [
        {
          "output_type": "execute_result",
          "execution_count": 47,
          "data": {
            "text/plain": "rank            Prof\ndiscipline         B\nphd               56\nservice           51\nsex             Male\nsalary        186960\ndtype: object"
          },
          "metadata": {}
        }
      ]
    },
    {
      "metadata": {
        "trusted": true
      },
      "cell_type": "code",
      "source": "df.min()",
      "execution_count": 48,
      "outputs": [
        {
          "output_type": "execute_result",
          "execution_count": 48,
          "data": {
            "text/plain": "rank          AssocProf\ndiscipline            A\nphd                   1\nservice               0\nsex              Female\nsalary            57800\ndtype: object"
          },
          "metadata": {}
        }
      ]
    },
    {
      "metadata": {
        "trusted": true
      },
      "cell_type": "code",
      "source": "df.mean()",
      "execution_count": 49,
      "outputs": [
        {
          "output_type": "execute_result",
          "execution_count": 49,
          "data": {
            "text/plain": "phd            19.705128\nservice        15.051282\nsalary     108023.782051\ndtype: float64"
          },
          "metadata": {}
        }
      ]
    },
    {
      "metadata": {
        "trusted": true
      },
      "cell_type": "code",
      "source": "df.std()",
      "execution_count": 50,
      "outputs": [
        {
          "output_type": "execute_result",
          "execution_count": 50,
          "data": {
            "text/plain": "phd           12.498425\nservice       12.139768\nsalary     28293.661022\ndtype: float64"
          },
          "metadata": {}
        }
      ]
    },
    {
      "metadata": {
        "trusted": true
      },
      "cell_type": "code",
      "source": "df.median()",
      "execution_count": 51,
      "outputs": [
        {
          "output_type": "execute_result",
          "execution_count": 51,
          "data": {
            "text/plain": "phd            18.5\nservice        14.5\nsalary     104671.0\ndtype: float64"
          },
          "metadata": {}
        }
      ]
    },
    {
      "metadata": {
        "trusted": true
      },
      "cell_type": "code",
      "source": "df.sample()   ## Return random sample of the data frame",
      "execution_count": 52,
      "outputs": [
        {
          "output_type": "execute_result",
          "execution_count": 52,
          "data": {
            "text/plain": "    rank discipline  phd  service     sex  salary\n51  Prof          B   20       14  Female  127512",
            "text/html": "<div>\n<style scoped>\n    .dataframe tbody tr th:only-of-type {\n        vertical-align: middle;\n    }\n\n    .dataframe tbody tr th {\n        vertical-align: top;\n    }\n\n    .dataframe thead th {\n        text-align: right;\n    }\n</style>\n<table border=\"1\" class=\"dataframe\">\n  <thead>\n    <tr style=\"text-align: right;\">\n      <th></th>\n      <th>rank</th>\n      <th>discipline</th>\n      <th>phd</th>\n      <th>service</th>\n      <th>sex</th>\n      <th>salary</th>\n    </tr>\n  </thead>\n  <tbody>\n    <tr>\n      <th>51</th>\n      <td>Prof</td>\n      <td>B</td>\n      <td>20</td>\n      <td>14</td>\n      <td>Female</td>\n      <td>127512</td>\n    </tr>\n  </tbody>\n</table>\n</div>"
          },
          "metadata": {}
        }
      ]
    },
    {
      "metadata": {
        "trusted": true
      },
      "cell_type": "code",
      "source": "df.sample(10)",
      "execution_count": 53,
      "outputs": [
        {
          "output_type": "execute_result",
          "execution_count": 53,
          "data": {
            "text/plain": "         rank discipline  phd  service     sex  salary\n64  AssocProf          A   26       24  Female   73300\n57   AsstProf          A    3        1  Female   72500\n50   AsstProf          B   10        5  Female   97032\n10       Prof          B   39       33    Male  128250\n25       Prof          B   35       31    Male   99418\n1        Prof          A   12        6    Male   93000\n67       Prof          A   17       11  Female   90450\n2        Prof          A   23       20    Male  110515\n35       Prof          B   28       23    Male  126933\n42   AsstProf          B    4        2  Female   80225",
            "text/html": "<div>\n<style scoped>\n    .dataframe tbody tr th:only-of-type {\n        vertical-align: middle;\n    }\n\n    .dataframe tbody tr th {\n        vertical-align: top;\n    }\n\n    .dataframe thead th {\n        text-align: right;\n    }\n</style>\n<table border=\"1\" class=\"dataframe\">\n  <thead>\n    <tr style=\"text-align: right;\">\n      <th></th>\n      <th>rank</th>\n      <th>discipline</th>\n      <th>phd</th>\n      <th>service</th>\n      <th>sex</th>\n      <th>salary</th>\n    </tr>\n  </thead>\n  <tbody>\n    <tr>\n      <th>64</th>\n      <td>AssocProf</td>\n      <td>A</td>\n      <td>26</td>\n      <td>24</td>\n      <td>Female</td>\n      <td>73300</td>\n    </tr>\n    <tr>\n      <th>57</th>\n      <td>AsstProf</td>\n      <td>A</td>\n      <td>3</td>\n      <td>1</td>\n      <td>Female</td>\n      <td>72500</td>\n    </tr>\n    <tr>\n      <th>50</th>\n      <td>AsstProf</td>\n      <td>B</td>\n      <td>10</td>\n      <td>5</td>\n      <td>Female</td>\n      <td>97032</td>\n    </tr>\n    <tr>\n      <th>10</th>\n      <td>Prof</td>\n      <td>B</td>\n      <td>39</td>\n      <td>33</td>\n      <td>Male</td>\n      <td>128250</td>\n    </tr>\n    <tr>\n      <th>25</th>\n      <td>Prof</td>\n      <td>B</td>\n      <td>35</td>\n      <td>31</td>\n      <td>Male</td>\n      <td>99418</td>\n    </tr>\n    <tr>\n      <th>1</th>\n      <td>Prof</td>\n      <td>A</td>\n      <td>12</td>\n      <td>6</td>\n      <td>Male</td>\n      <td>93000</td>\n    </tr>\n    <tr>\n      <th>67</th>\n      <td>Prof</td>\n      <td>A</td>\n      <td>17</td>\n      <td>11</td>\n      <td>Female</td>\n      <td>90450</td>\n    </tr>\n    <tr>\n      <th>2</th>\n      <td>Prof</td>\n      <td>A</td>\n      <td>23</td>\n      <td>20</td>\n      <td>Male</td>\n      <td>110515</td>\n    </tr>\n    <tr>\n      <th>35</th>\n      <td>Prof</td>\n      <td>B</td>\n      <td>28</td>\n      <td>23</td>\n      <td>Male</td>\n      <td>126933</td>\n    </tr>\n    <tr>\n      <th>42</th>\n      <td>AsstProf</td>\n      <td>B</td>\n      <td>4</td>\n      <td>2</td>\n      <td>Female</td>\n      <td>80225</td>\n    </tr>\n  </tbody>\n</table>\n</div>"
          },
          "metadata": {}
        }
      ]
    },
    {
      "metadata": {
        "trusted": true
      },
      "cell_type": "code",
      "source": "df.head(10).mean()",
      "execution_count": 58,
      "outputs": [
        {
          "output_type": "execute_result",
          "execution_count": 58,
          "data": {
            "text/plain": "phd            28.9\nservice        24.9\nsalary     110861.5\ndtype: float64"
          },
          "metadata": {}
        }
      ]
    },
    {
      "metadata": {
        "trusted": true
      },
      "cell_type": "code",
      "source": "df.mean().head(10)  ## it is simmiler to df.mean()",
      "execution_count": 61,
      "outputs": [
        {
          "output_type": "execute_result",
          "execution_count": 61,
          "data": {
            "text/plain": "phd            19.705128\nservice        15.051282\nsalary     108023.782051\ndtype: float64"
          },
          "metadata": {}
        }
      ]
    },
    {
      "metadata": {
        "trusted": true
      },
      "cell_type": "code",
      "source": "df.tail(10).mean()",
      "execution_count": 59,
      "outputs": [
        {
          "output_type": "execute_result",
          "execution_count": 59,
          "data": {
            "text/plain": "phd            18.1\nservice         9.8\nsalary     105852.0\ndtype: float64"
          },
          "metadata": {}
        }
      ]
    },
    {
      "metadata": {
        "trusted": true
      },
      "cell_type": "code",
      "source": "df.head(10).std()",
      "execution_count": 63,
      "outputs": [
        {
          "output_type": "execute_result",
          "execution_count": 63,
          "data": {
            "text/plain": "phd           14.992220\nservice       14.517805\nsalary     34793.263640\ndtype: float64"
          },
          "metadata": {}
        }
      ]
    },
    {
      "metadata": {
        "trusted": true
      },
      "cell_type": "code",
      "source": "df.describe()",
      "execution_count": 64,
      "outputs": [
        {
          "output_type": "execute_result",
          "execution_count": 64,
          "data": {
            "text/plain": "             phd    service         salary\ncount  78.000000  78.000000      78.000000\nmean   19.705128  15.051282  108023.782051\nstd    12.498425  12.139768   28293.661022\nmin     1.000000   0.000000   57800.000000\n25%    10.250000   5.250000   88612.500000\n50%    18.500000  14.500000  104671.000000\n75%    27.750000  20.750000  126774.750000\nmax    56.000000  51.000000  186960.000000",
            "text/html": "<div>\n<style scoped>\n    .dataframe tbody tr th:only-of-type {\n        vertical-align: middle;\n    }\n\n    .dataframe tbody tr th {\n        vertical-align: top;\n    }\n\n    .dataframe thead th {\n        text-align: right;\n    }\n</style>\n<table border=\"1\" class=\"dataframe\">\n  <thead>\n    <tr style=\"text-align: right;\">\n      <th></th>\n      <th>phd</th>\n      <th>service</th>\n      <th>salary</th>\n    </tr>\n  </thead>\n  <tbody>\n    <tr>\n      <th>count</th>\n      <td>78.000000</td>\n      <td>78.000000</td>\n      <td>78.000000</td>\n    </tr>\n    <tr>\n      <th>mean</th>\n      <td>19.705128</td>\n      <td>15.051282</td>\n      <td>108023.782051</td>\n    </tr>\n    <tr>\n      <th>std</th>\n      <td>12.498425</td>\n      <td>12.139768</td>\n      <td>28293.661022</td>\n    </tr>\n    <tr>\n      <th>min</th>\n      <td>1.000000</td>\n      <td>0.000000</td>\n      <td>57800.000000</td>\n    </tr>\n    <tr>\n      <th>25%</th>\n      <td>10.250000</td>\n      <td>5.250000</td>\n      <td>88612.500000</td>\n    </tr>\n    <tr>\n      <th>50%</th>\n      <td>18.500000</td>\n      <td>14.500000</td>\n      <td>104671.000000</td>\n    </tr>\n    <tr>\n      <th>75%</th>\n      <td>27.750000</td>\n      <td>20.750000</td>\n      <td>126774.750000</td>\n    </tr>\n    <tr>\n      <th>max</th>\n      <td>56.000000</td>\n      <td>51.000000</td>\n      <td>186960.000000</td>\n    </tr>\n  </tbody>\n</table>\n</div>"
          },
          "metadata": {}
        }
      ]
    },
    {
      "metadata": {},
      "cell_type": "markdown",
      "source": "# Give The summary for dataset"
    },
    {
      "metadata": {
        "trusted": true
      },
      "cell_type": "code",
      "source": "df.describe()",
      "execution_count": 65,
      "outputs": [
        {
          "output_type": "execute_result",
          "execution_count": 65,
          "data": {
            "text/plain": "             phd    service         salary\ncount  78.000000  78.000000      78.000000\nmean   19.705128  15.051282  108023.782051\nstd    12.498425  12.139768   28293.661022\nmin     1.000000   0.000000   57800.000000\n25%    10.250000   5.250000   88612.500000\n50%    18.500000  14.500000  104671.000000\n75%    27.750000  20.750000  126774.750000\nmax    56.000000  51.000000  186960.000000",
            "text/html": "<div>\n<style scoped>\n    .dataframe tbody tr th:only-of-type {\n        vertical-align: middle;\n    }\n\n    .dataframe tbody tr th {\n        vertical-align: top;\n    }\n\n    .dataframe thead th {\n        text-align: right;\n    }\n</style>\n<table border=\"1\" class=\"dataframe\">\n  <thead>\n    <tr style=\"text-align: right;\">\n      <th></th>\n      <th>phd</th>\n      <th>service</th>\n      <th>salary</th>\n    </tr>\n  </thead>\n  <tbody>\n    <tr>\n      <th>count</th>\n      <td>78.000000</td>\n      <td>78.000000</td>\n      <td>78.000000</td>\n    </tr>\n    <tr>\n      <th>mean</th>\n      <td>19.705128</td>\n      <td>15.051282</td>\n      <td>108023.782051</td>\n    </tr>\n    <tr>\n      <th>std</th>\n      <td>12.498425</td>\n      <td>12.139768</td>\n      <td>28293.661022</td>\n    </tr>\n    <tr>\n      <th>min</th>\n      <td>1.000000</td>\n      <td>0.000000</td>\n      <td>57800.000000</td>\n    </tr>\n    <tr>\n      <th>25%</th>\n      <td>10.250000</td>\n      <td>5.250000</td>\n      <td>88612.500000</td>\n    </tr>\n    <tr>\n      <th>50%</th>\n      <td>18.500000</td>\n      <td>14.500000</td>\n      <td>104671.000000</td>\n    </tr>\n    <tr>\n      <th>75%</th>\n      <td>27.750000</td>\n      <td>20.750000</td>\n      <td>126774.750000</td>\n    </tr>\n    <tr>\n      <th>max</th>\n      <td>56.000000</td>\n      <td>51.000000</td>\n      <td>186960.000000</td>\n    </tr>\n  </tbody>\n</table>\n</div>"
          },
          "metadata": {}
        }
      ]
    },
    {
      "metadata": {},
      "cell_type": "markdown",
      "source": "# Calculate std for all numeric columns"
    },
    {
      "metadata": {
        "trusted": true
      },
      "cell_type": "code",
      "source": "df.std().phd",
      "execution_count": 68,
      "outputs": [
        {
          "output_type": "execute_result",
          "execution_count": 68,
          "data": {
            "text/plain": "12.498424809175866"
          },
          "metadata": {}
        }
      ]
    },
    {
      "metadata": {
        "trusted": true
      },
      "cell_type": "code",
      "source": "df.std()",
      "execution_count": 69,
      "outputs": [
        {
          "output_type": "execute_result",
          "execution_count": 69,
          "data": {
            "text/plain": "phd           12.498425\nservice       12.139768\nsalary     28293.661022\ndtype: float64"
          },
          "metadata": {}
        }
      ]
    },
    {
      "metadata": {
        "trusted": true
      },
      "cell_type": "code",
      "source": "df.std().service",
      "execution_count": 70,
      "outputs": [
        {
          "output_type": "execute_result",
          "execution_count": 70,
          "data": {
            "text/plain": "12.139767682042327"
          },
          "metadata": {}
        }
      ]
    },
    {
      "metadata": {
        "trusted": true
      },
      "cell_type": "code",
      "source": "df.std().salary",
      "execution_count": 71,
      "outputs": [
        {
          "output_type": "execute_result",
          "execution_count": 71,
          "data": {
            "text/plain": "28293.661022264165"
          },
          "metadata": {}
        }
      ]
    },
    {
      "metadata": {},
      "cell_type": "markdown",
      "source": "# What is mean of First 50 Records"
    },
    {
      "metadata": {
        "trusted": true
      },
      "cell_type": "code",
      "source": "df.head(50).mean()",
      "execution_count": 73,
      "outputs": [
        {
          "output_type": "execute_result",
          "execution_count": 73,
          "data": {
            "text/plain": "phd            21.52\nservice        17.60\nsalary     113789.14\ndtype: float64"
          },
          "metadata": {}
        }
      ]
    },
    {
      "metadata": {},
      "cell_type": "markdown",
      "source": "# Selecting columns in dataset"
    },
    {
      "metadata": {
        "trusted": true
      },
      "cell_type": "code",
      "source": "df['salary']",
      "execution_count": 74,
      "outputs": [
        {
          "output_type": "execute_result",
          "execution_count": 74,
          "data": {
            "text/plain": "0     186960\n1      93000\n2     110515\n3     131205\n4     104800\n       ...  \n73    105450\n74    104542\n75    124312\n76    109954\n77    109646\nName: salary, Length: 78, dtype: int64"
          },
          "metadata": {}
        }
      ]
    },
    {
      "metadata": {
        "trusted": true
      },
      "cell_type": "code",
      "source": "df.salary",
      "execution_count": 75,
      "outputs": [
        {
          "output_type": "execute_result",
          "execution_count": 75,
          "data": {
            "text/plain": "0     186960\n1      93000\n2     110515\n3     131205\n4     104800\n       ...  \n73    105450\n74    104542\n75    124312\n76    109954\n77    109646\nName: salary, Length: 78, dtype: int64"
          },
          "metadata": {}
        }
      ]
    },
    {
      "metadata": {
        "trusted": true
      },
      "cell_type": "code",
      "source": "df[['salary']]    ## Salary in dtaframe",
      "execution_count": 76,
      "outputs": [
        {
          "output_type": "execute_result",
          "execution_count": 76,
          "data": {
            "text/plain": "    salary\n0   186960\n1    93000\n2   110515\n3   131205\n4   104800\n..     ...\n73  105450\n74  104542\n75  124312\n76  109954\n77  109646\n\n[78 rows x 1 columns]",
            "text/html": "<div>\n<style scoped>\n    .dataframe tbody tr th:only-of-type {\n        vertical-align: middle;\n    }\n\n    .dataframe tbody tr th {\n        vertical-align: top;\n    }\n\n    .dataframe thead th {\n        text-align: right;\n    }\n</style>\n<table border=\"1\" class=\"dataframe\">\n  <thead>\n    <tr style=\"text-align: right;\">\n      <th></th>\n      <th>salary</th>\n    </tr>\n  </thead>\n  <tbody>\n    <tr>\n      <th>0</th>\n      <td>186960</td>\n    </tr>\n    <tr>\n      <th>1</th>\n      <td>93000</td>\n    </tr>\n    <tr>\n      <th>2</th>\n      <td>110515</td>\n    </tr>\n    <tr>\n      <th>3</th>\n      <td>131205</td>\n    </tr>\n    <tr>\n      <th>4</th>\n      <td>104800</td>\n    </tr>\n    <tr>\n      <th>...</th>\n      <td>...</td>\n    </tr>\n    <tr>\n      <th>73</th>\n      <td>105450</td>\n    </tr>\n    <tr>\n      <th>74</th>\n      <td>104542</td>\n    </tr>\n    <tr>\n      <th>75</th>\n      <td>124312</td>\n    </tr>\n    <tr>\n      <th>76</th>\n      <td>109954</td>\n    </tr>\n    <tr>\n      <th>77</th>\n      <td>109646</td>\n    </tr>\n  </tbody>\n</table>\n<p>78 rows × 1 columns</p>\n</div>"
          },
          "metadata": {}
        }
      ]
    },
    {
      "metadata": {},
      "cell_type": "markdown",
      "source": "# Calculate the basic statistics for phd columns"
    },
    {
      "metadata": {
        "trusted": true
      },
      "cell_type": "code",
      "source": "df['phd'].mean()",
      "execution_count": 77,
      "outputs": [
        {
          "output_type": "execute_result",
          "execution_count": 77,
          "data": {
            "text/plain": "19.705128205128204"
          },
          "metadata": {}
        }
      ]
    },
    {
      "metadata": {
        "trusted": true
      },
      "cell_type": "code",
      "source": "df[['phd']].mean()",
      "execution_count": 78,
      "outputs": [
        {
          "output_type": "execute_result",
          "execution_count": 78,
          "data": {
            "text/plain": "phd    19.705128\ndtype: float64"
          },
          "metadata": {}
        }
      ]
    },
    {
      "metadata": {
        "trusted": true
      },
      "cell_type": "code",
      "source": "df.mean().phd",
      "execution_count": 79,
      "outputs": [
        {
          "output_type": "execute_result",
          "execution_count": 79,
          "data": {
            "text/plain": "19.705128205128204"
          },
          "metadata": {}
        }
      ]
    },
    {
      "metadata": {
        "trusted": true
      },
      "cell_type": "code",
      "source": "df.describe()",
      "execution_count": 81,
      "outputs": [
        {
          "output_type": "execute_result",
          "execution_count": 81,
          "data": {
            "text/plain": "             phd    service         salary\ncount  78.000000  78.000000      78.000000\nmean   19.705128  15.051282  108023.782051\nstd    12.498425  12.139768   28293.661022\nmin     1.000000   0.000000   57800.000000\n25%    10.250000   5.250000   88612.500000\n50%    18.500000  14.500000  104671.000000\n75%    27.750000  20.750000  126774.750000\nmax    56.000000  51.000000  186960.000000",
            "text/html": "<div>\n<style scoped>\n    .dataframe tbody tr th:only-of-type {\n        vertical-align: middle;\n    }\n\n    .dataframe tbody tr th {\n        vertical-align: top;\n    }\n\n    .dataframe thead th {\n        text-align: right;\n    }\n</style>\n<table border=\"1\" class=\"dataframe\">\n  <thead>\n    <tr style=\"text-align: right;\">\n      <th></th>\n      <th>phd</th>\n      <th>service</th>\n      <th>salary</th>\n    </tr>\n  </thead>\n  <tbody>\n    <tr>\n      <th>count</th>\n      <td>78.000000</td>\n      <td>78.000000</td>\n      <td>78.000000</td>\n    </tr>\n    <tr>\n      <th>mean</th>\n      <td>19.705128</td>\n      <td>15.051282</td>\n      <td>108023.782051</td>\n    </tr>\n    <tr>\n      <th>std</th>\n      <td>12.498425</td>\n      <td>12.139768</td>\n      <td>28293.661022</td>\n    </tr>\n    <tr>\n      <th>min</th>\n      <td>1.000000</td>\n      <td>0.000000</td>\n      <td>57800.000000</td>\n    </tr>\n    <tr>\n      <th>25%</th>\n      <td>10.250000</td>\n      <td>5.250000</td>\n      <td>88612.500000</td>\n    </tr>\n    <tr>\n      <th>50%</th>\n      <td>18.500000</td>\n      <td>14.500000</td>\n      <td>104671.000000</td>\n    </tr>\n    <tr>\n      <th>75%</th>\n      <td>27.750000</td>\n      <td>20.750000</td>\n      <td>126774.750000</td>\n    </tr>\n    <tr>\n      <th>max</th>\n      <td>56.000000</td>\n      <td>51.000000</td>\n      <td>186960.000000</td>\n    </tr>\n  </tbody>\n</table>\n</div>"
          },
          "metadata": {}
        }
      ]
    },
    {
      "metadata": {
        "trusted": true
      },
      "cell_type": "code",
      "source": "df.std().phd",
      "execution_count": 82,
      "outputs": [
        {
          "output_type": "execute_result",
          "execution_count": 82,
          "data": {
            "text/plain": "12.498424809175866"
          },
          "metadata": {}
        }
      ]
    },
    {
      "metadata": {
        "trusted": true
      },
      "cell_type": "code",
      "source": "df.median().phd",
      "execution_count": 83,
      "outputs": [
        {
          "output_type": "execute_result",
          "execution_count": 83,
          "data": {
            "text/plain": "18.5"
          },
          "metadata": {}
        }
      ]
    },
    {
      "metadata": {
        "trusted": true
      },
      "cell_type": "code",
      "source": "df.count",
      "execution_count": 94,
      "outputs": [
        {
          "output_type": "execute_result",
          "execution_count": 94,
          "data": {
            "text/plain": "<bound method DataFrame.count of          rank discipline  phd  service     sex  salary\n0        Prof          B   56       49    Male  186960\n1        Prof          A   12        6    Male   93000\n2        Prof          A   23       20    Male  110515\n3        Prof          A   40       31    Male  131205\n4        Prof          B   20       18    Male  104800\n..        ...        ...  ...      ...     ...     ...\n73       Prof          B   18       10  Female  105450\n74  AssocProf          B   19        6  Female  104542\n75       Prof          B   17       17  Female  124312\n76       Prof          A   28       14  Female  109954\n77       Prof          A   23       15  Female  109646\n\n[78 rows x 6 columns]>"
          },
          "metadata": {}
        }
      ]
    },
    {
      "metadata": {
        "trusted": true
      },
      "cell_type": "code",
      "source": "df.min().phd",
      "execution_count": 95,
      "outputs": [
        {
          "output_type": "execute_result",
          "execution_count": 95,
          "data": {
            "text/plain": "1"
          },
          "metadata": {}
        }
      ]
    },
    {
      "metadata": {
        "trusted": true
      },
      "cell_type": "code",
      "source": "df.max().phd",
      "execution_count": 96,
      "outputs": [
        {
          "output_type": "execute_result",
          "execution_count": 96,
          "data": {
            "text/plain": "56"
          },
          "metadata": {}
        }
      ]
    },
    {
      "metadata": {
        "trusted": true
      },
      "cell_type": "code",
      "source": "df.columns",
      "execution_count": 106,
      "outputs": [
        {
          "output_type": "execute_result",
          "execution_count": 106,
          "data": {
            "text/plain": "Index(['rank', 'discipline', 'phd', 'service', 'sex', 'salary'], dtype='object')"
          },
          "metadata": {}
        }
      ]
    },
    {
      "metadata": {
        "trusted": true
      },
      "cell_type": "code",
      "source": "df.mean().phd",
      "execution_count": 109,
      "outputs": [
        {
          "output_type": "execute_result",
          "execution_count": 109,
          "data": {
            "text/plain": "19.705128205128204"
          },
          "metadata": {}
        }
      ]
    },
    {
      "metadata": {},
      "cell_type": "markdown",
      "source": "# Data Frames groupby method"
    },
    {
      "metadata": {
        "trusted": true
      },
      "cell_type": "code",
      "source": "df_rank=df.groupby(['rank'])",
      "execution_count": 115,
      "outputs": []
    },
    {
      "metadata": {
        "trusted": true
      },
      "cell_type": "code",
      "source": "df_rank.mean()",
      "execution_count": 122,
      "outputs": [
        {
          "output_type": "execute_result",
          "execution_count": 122,
          "data": {
            "text/plain": "                 phd    service         salary\nrank                                          \nAssocProf  15.076923  11.307692   91786.230769\nAsstProf    5.052632   2.210526   81362.789474\nProf       27.065217  21.413043  123624.804348",
            "text/html": "<div>\n<style scoped>\n    .dataframe tbody tr th:only-of-type {\n        vertical-align: middle;\n    }\n\n    .dataframe tbody tr th {\n        vertical-align: top;\n    }\n\n    .dataframe thead th {\n        text-align: right;\n    }\n</style>\n<table border=\"1\" class=\"dataframe\">\n  <thead>\n    <tr style=\"text-align: right;\">\n      <th></th>\n      <th>phd</th>\n      <th>service</th>\n      <th>salary</th>\n    </tr>\n    <tr>\n      <th>rank</th>\n      <th></th>\n      <th></th>\n      <th></th>\n    </tr>\n  </thead>\n  <tbody>\n    <tr>\n      <th>AssocProf</th>\n      <td>15.076923</td>\n      <td>11.307692</td>\n      <td>91786.230769</td>\n    </tr>\n    <tr>\n      <th>AsstProf</th>\n      <td>5.052632</td>\n      <td>2.210526</td>\n      <td>81362.789474</td>\n    </tr>\n    <tr>\n      <th>Prof</th>\n      <td>27.065217</td>\n      <td>21.413043</td>\n      <td>123624.804348</td>\n    </tr>\n  </tbody>\n</table>\n</div>"
          },
          "metadata": {}
        }
      ]
    },
    {
      "metadata": {
        "trusted": true
      },
      "cell_type": "code",
      "source": "df_data.mean()",
      "execution_count": 123,
      "outputs": [
        {
          "output_type": "execute_result",
          "execution_count": 123,
          "data": {
            "text/plain": "                 phd    service         salary\nrank                                          \nAssocProf  15.076923  11.307692   91786.230769\nAsstProf    5.052632   2.210526   81362.789474\nProf       27.065217  21.413043  123624.804348",
            "text/html": "<div>\n<style scoped>\n    .dataframe tbody tr th:only-of-type {\n        vertical-align: middle;\n    }\n\n    .dataframe tbody tr th {\n        vertical-align: top;\n    }\n\n    .dataframe thead th {\n        text-align: right;\n    }\n</style>\n<table border=\"1\" class=\"dataframe\">\n  <thead>\n    <tr style=\"text-align: right;\">\n      <th></th>\n      <th>phd</th>\n      <th>service</th>\n      <th>salary</th>\n    </tr>\n    <tr>\n      <th>rank</th>\n      <th></th>\n      <th></th>\n      <th></th>\n    </tr>\n  </thead>\n  <tbody>\n    <tr>\n      <th>AssocProf</th>\n      <td>15.076923</td>\n      <td>11.307692</td>\n      <td>91786.230769</td>\n    </tr>\n    <tr>\n      <th>AsstProf</th>\n      <td>5.052632</td>\n      <td>2.210526</td>\n      <td>81362.789474</td>\n    </tr>\n    <tr>\n      <th>Prof</th>\n      <td>27.065217</td>\n      <td>21.413043</td>\n      <td>123624.804348</td>\n    </tr>\n  </tbody>\n</table>\n</div>"
          },
          "metadata": {}
        }
      ]
    },
    {
      "metadata": {
        "trusted": true
      },
      "cell_type": "code",
      "source": "df.groupby(['rank'])[['salary']].mean()",
      "execution_count": 125,
      "outputs": [
        {
          "output_type": "execute_result",
          "execution_count": 125,
          "data": {
            "text/plain": "                  salary\nrank                    \nAssocProf   91786.230769\nAsstProf    81362.789474\nProf       123624.804348",
            "text/html": "<div>\n<style scoped>\n    .dataframe tbody tr th:only-of-type {\n        vertical-align: middle;\n    }\n\n    .dataframe tbody tr th {\n        vertical-align: top;\n    }\n\n    .dataframe thead th {\n        text-align: right;\n    }\n</style>\n<table border=\"1\" class=\"dataframe\">\n  <thead>\n    <tr style=\"text-align: right;\">\n      <th></th>\n      <th>salary</th>\n    </tr>\n    <tr>\n      <th>rank</th>\n      <th></th>\n    </tr>\n  </thead>\n  <tbody>\n    <tr>\n      <th>AssocProf</th>\n      <td>91786.230769</td>\n    </tr>\n    <tr>\n      <th>AsstProf</th>\n      <td>81362.789474</td>\n    </tr>\n    <tr>\n      <th>Prof</th>\n      <td>123624.804348</td>\n    </tr>\n  </tbody>\n</table>\n</div>"
          },
          "metadata": {}
        }
      ]
    },
    {
      "metadata": {},
      "cell_type": "markdown",
      "source": "# DF on the basis of rank for service dataset"
    },
    {
      "metadata": {
        "trusted": true
      },
      "cell_type": "code",
      "source": "df1=df.groupby(['rank'])",
      "execution_count": 128,
      "outputs": []
    },
    {
      "metadata": {
        "trusted": true
      },
      "cell_type": "code",
      "source": "df1.mean()",
      "execution_count": 129,
      "outputs": [
        {
          "output_type": "execute_result",
          "execution_count": 129,
          "data": {
            "text/plain": "                 phd    service         salary\nrank                                          \nAssocProf  15.076923  11.307692   91786.230769\nAsstProf    5.052632   2.210526   81362.789474\nProf       27.065217  21.413043  123624.804348",
            "text/html": "<div>\n<style scoped>\n    .dataframe tbody tr th:only-of-type {\n        vertical-align: middle;\n    }\n\n    .dataframe tbody tr th {\n        vertical-align: top;\n    }\n\n    .dataframe thead th {\n        text-align: right;\n    }\n</style>\n<table border=\"1\" class=\"dataframe\">\n  <thead>\n    <tr style=\"text-align: right;\">\n      <th></th>\n      <th>phd</th>\n      <th>service</th>\n      <th>salary</th>\n    </tr>\n    <tr>\n      <th>rank</th>\n      <th></th>\n      <th></th>\n      <th></th>\n    </tr>\n  </thead>\n  <tbody>\n    <tr>\n      <th>AssocProf</th>\n      <td>15.076923</td>\n      <td>11.307692</td>\n      <td>91786.230769</td>\n    </tr>\n    <tr>\n      <th>AsstProf</th>\n      <td>5.052632</td>\n      <td>2.210526</td>\n      <td>81362.789474</td>\n    </tr>\n    <tr>\n      <th>Prof</th>\n      <td>27.065217</td>\n      <td>21.413043</td>\n      <td>123624.804348</td>\n    </tr>\n  </tbody>\n</table>\n</div>"
          },
          "metadata": {}
        }
      ]
    },
    {
      "metadata": {
        "trusted": true
      },
      "cell_type": "code",
      "source": "df.groupby(['rank'])[['phd']].mean()",
      "execution_count": 130,
      "outputs": [
        {
          "output_type": "execute_result",
          "execution_count": 130,
          "data": {
            "text/plain": "                 phd\nrank                \nAssocProf  15.076923\nAsstProf    5.052632\nProf       27.065217",
            "text/html": "<div>\n<style scoped>\n    .dataframe tbody tr th:only-of-type {\n        vertical-align: middle;\n    }\n\n    .dataframe tbody tr th {\n        vertical-align: top;\n    }\n\n    .dataframe thead th {\n        text-align: right;\n    }\n</style>\n<table border=\"1\" class=\"dataframe\">\n  <thead>\n    <tr style=\"text-align: right;\">\n      <th></th>\n      <th>phd</th>\n    </tr>\n    <tr>\n      <th>rank</th>\n      <th></th>\n    </tr>\n  </thead>\n  <tbody>\n    <tr>\n      <th>AssocProf</th>\n      <td>15.076923</td>\n    </tr>\n    <tr>\n      <th>AsstProf</th>\n      <td>5.052632</td>\n    </tr>\n    <tr>\n      <th>Prof</th>\n      <td>27.065217</td>\n    </tr>\n  </tbody>\n</table>\n</div>"
          },
          "metadata": {}
        }
      ]
    },
    {
      "metadata": {},
      "cell_type": "markdown",
      "source": "# Data Frame filtering"
    },
    {
      "metadata": {},
      "cell_type": "raw",
      "source": "#Calculate mean salary for each professor rank"
    },
    {
      "metadata": {
        "trusted": true
      },
      "cell_type": "code",
      "source": "df1=df[df['salary']>120000]",
      "execution_count": 134,
      "outputs": []
    },
    {
      "metadata": {
        "trusted": true
      },
      "cell_type": "code",
      "source": "df1",
      "execution_count": 135,
      "outputs": [
        {
          "output_type": "execute_result",
          "execution_count": 135,
          "data": {
            "text/plain": "    rank discipline  phd  service     sex  salary\n0   Prof          B   56       49    Male  186960\n3   Prof          A   40       31    Male  131205\n5   Prof          A   20       20    Male  122400\n7   Prof          A   18       18    Male  126300\n10  Prof          B   39       33    Male  128250\n11  Prof          B   23       23    Male  134778\n13  Prof          B   35       33    Male  162200\n14  Prof          B   25       19    Male  153750\n15  Prof          B   17        3    Male  150480\n19  Prof          A   29       27    Male  150500\n26  Prof          A   38       19    Male  148750\n27  Prof          A   45       43    Male  155865\n29  Prof          B   21       20    Male  123683\n31  Prof          B   22       21    Male  155750\n35  Prof          B   28       23    Male  126933\n36  Prof          B   45       45    Male  146856\n39  Prof          B   18       18  Female  129000\n40  Prof          A   39       36  Female  137000\n44  Prof          B   23       19  Female  151768\n45  Prof          B   25       25  Female  140096\n49  Prof          B   17       18  Female  122960\n51  Prof          B   20       14  Female  127512\n58  Prof          B   36       26  Female  144651\n72  Prof          B   24       15  Female  161101\n75  Prof          B   17       17  Female  124312",
            "text/html": "<div>\n<style scoped>\n    .dataframe tbody tr th:only-of-type {\n        vertical-align: middle;\n    }\n\n    .dataframe tbody tr th {\n        vertical-align: top;\n    }\n\n    .dataframe thead th {\n        text-align: right;\n    }\n</style>\n<table border=\"1\" class=\"dataframe\">\n  <thead>\n    <tr style=\"text-align: right;\">\n      <th></th>\n      <th>rank</th>\n      <th>discipline</th>\n      <th>phd</th>\n      <th>service</th>\n      <th>sex</th>\n      <th>salary</th>\n    </tr>\n  </thead>\n  <tbody>\n    <tr>\n      <th>0</th>\n      <td>Prof</td>\n      <td>B</td>\n      <td>56</td>\n      <td>49</td>\n      <td>Male</td>\n      <td>186960</td>\n    </tr>\n    <tr>\n      <th>3</th>\n      <td>Prof</td>\n      <td>A</td>\n      <td>40</td>\n      <td>31</td>\n      <td>Male</td>\n      <td>131205</td>\n    </tr>\n    <tr>\n      <th>5</th>\n      <td>Prof</td>\n      <td>A</td>\n      <td>20</td>\n      <td>20</td>\n      <td>Male</td>\n      <td>122400</td>\n    </tr>\n    <tr>\n      <th>7</th>\n      <td>Prof</td>\n      <td>A</td>\n      <td>18</td>\n      <td>18</td>\n      <td>Male</td>\n      <td>126300</td>\n    </tr>\n    <tr>\n      <th>10</th>\n      <td>Prof</td>\n      <td>B</td>\n      <td>39</td>\n      <td>33</td>\n      <td>Male</td>\n      <td>128250</td>\n    </tr>\n    <tr>\n      <th>11</th>\n      <td>Prof</td>\n      <td>B</td>\n      <td>23</td>\n      <td>23</td>\n      <td>Male</td>\n      <td>134778</td>\n    </tr>\n    <tr>\n      <th>13</th>\n      <td>Prof</td>\n      <td>B</td>\n      <td>35</td>\n      <td>33</td>\n      <td>Male</td>\n      <td>162200</td>\n    </tr>\n    <tr>\n      <th>14</th>\n      <td>Prof</td>\n      <td>B</td>\n      <td>25</td>\n      <td>19</td>\n      <td>Male</td>\n      <td>153750</td>\n    </tr>\n    <tr>\n      <th>15</th>\n      <td>Prof</td>\n      <td>B</td>\n      <td>17</td>\n      <td>3</td>\n      <td>Male</td>\n      <td>150480</td>\n    </tr>\n    <tr>\n      <th>19</th>\n      <td>Prof</td>\n      <td>A</td>\n      <td>29</td>\n      <td>27</td>\n      <td>Male</td>\n      <td>150500</td>\n    </tr>\n    <tr>\n      <th>26</th>\n      <td>Prof</td>\n      <td>A</td>\n      <td>38</td>\n      <td>19</td>\n      <td>Male</td>\n      <td>148750</td>\n    </tr>\n    <tr>\n      <th>27</th>\n      <td>Prof</td>\n      <td>A</td>\n      <td>45</td>\n      <td>43</td>\n      <td>Male</td>\n      <td>155865</td>\n    </tr>\n    <tr>\n      <th>29</th>\n      <td>Prof</td>\n      <td>B</td>\n      <td>21</td>\n      <td>20</td>\n      <td>Male</td>\n      <td>123683</td>\n    </tr>\n    <tr>\n      <th>31</th>\n      <td>Prof</td>\n      <td>B</td>\n      <td>22</td>\n      <td>21</td>\n      <td>Male</td>\n      <td>155750</td>\n    </tr>\n    <tr>\n      <th>35</th>\n      <td>Prof</td>\n      <td>B</td>\n      <td>28</td>\n      <td>23</td>\n      <td>Male</td>\n      <td>126933</td>\n    </tr>\n    <tr>\n      <th>36</th>\n      <td>Prof</td>\n      <td>B</td>\n      <td>45</td>\n      <td>45</td>\n      <td>Male</td>\n      <td>146856</td>\n    </tr>\n    <tr>\n      <th>39</th>\n      <td>Prof</td>\n      <td>B</td>\n      <td>18</td>\n      <td>18</td>\n      <td>Female</td>\n      <td>129000</td>\n    </tr>\n    <tr>\n      <th>40</th>\n      <td>Prof</td>\n      <td>A</td>\n      <td>39</td>\n      <td>36</td>\n      <td>Female</td>\n      <td>137000</td>\n    </tr>\n    <tr>\n      <th>44</th>\n      <td>Prof</td>\n      <td>B</td>\n      <td>23</td>\n      <td>19</td>\n      <td>Female</td>\n      <td>151768</td>\n    </tr>\n    <tr>\n      <th>45</th>\n      <td>Prof</td>\n      <td>B</td>\n      <td>25</td>\n      <td>25</td>\n      <td>Female</td>\n      <td>140096</td>\n    </tr>\n    <tr>\n      <th>49</th>\n      <td>Prof</td>\n      <td>B</td>\n      <td>17</td>\n      <td>18</td>\n      <td>Female</td>\n      <td>122960</td>\n    </tr>\n    <tr>\n      <th>51</th>\n      <td>Prof</td>\n      <td>B</td>\n      <td>20</td>\n      <td>14</td>\n      <td>Female</td>\n      <td>127512</td>\n    </tr>\n    <tr>\n      <th>58</th>\n      <td>Prof</td>\n      <td>B</td>\n      <td>36</td>\n      <td>26</td>\n      <td>Female</td>\n      <td>144651</td>\n    </tr>\n    <tr>\n      <th>72</th>\n      <td>Prof</td>\n      <td>B</td>\n      <td>24</td>\n      <td>15</td>\n      <td>Female</td>\n      <td>161101</td>\n    </tr>\n    <tr>\n      <th>75</th>\n      <td>Prof</td>\n      <td>B</td>\n      <td>17</td>\n      <td>17</td>\n      <td>Female</td>\n      <td>124312</td>\n    </tr>\n  </tbody>\n</table>\n</div>"
          },
          "metadata": {}
        }
      ]
    },
    {
      "metadata": {
        "trusted": true
      },
      "cell_type": "code",
      "source": "df1=df[df['salary']>=120000]",
      "execution_count": 136,
      "outputs": []
    },
    {
      "metadata": {
        "trusted": true
      },
      "cell_type": "code",
      "source": "df1",
      "execution_count": 137,
      "outputs": [
        {
          "output_type": "execute_result",
          "execution_count": 137,
          "data": {
            "text/plain": "    rank discipline  phd  service     sex  salary\n0   Prof          B   56       49    Male  186960\n3   Prof          A   40       31    Male  131205\n5   Prof          A   20       20    Male  122400\n7   Prof          A   18       18    Male  126300\n10  Prof          B   39       33    Male  128250\n11  Prof          B   23       23    Male  134778\n13  Prof          B   35       33    Male  162200\n14  Prof          B   25       19    Male  153750\n15  Prof          B   17        3    Male  150480\n19  Prof          A   29       27    Male  150500\n26  Prof          A   38       19    Male  148750\n27  Prof          A   45       43    Male  155865\n29  Prof          B   21       20    Male  123683\n31  Prof          B   22       21    Male  155750\n33  Prof          B   18       18    Male  120000\n35  Prof          B   28       23    Male  126933\n36  Prof          B   45       45    Male  146856\n39  Prof          B   18       18  Female  129000\n40  Prof          A   39       36  Female  137000\n44  Prof          B   23       19  Female  151768\n45  Prof          B   25       25  Female  140096\n49  Prof          B   17       18  Female  122960\n51  Prof          B   20       14  Female  127512\n58  Prof          B   36       26  Female  144651\n72  Prof          B   24       15  Female  161101\n75  Prof          B   17       17  Female  124312",
            "text/html": "<div>\n<style scoped>\n    .dataframe tbody tr th:only-of-type {\n        vertical-align: middle;\n    }\n\n    .dataframe tbody tr th {\n        vertical-align: top;\n    }\n\n    .dataframe thead th {\n        text-align: right;\n    }\n</style>\n<table border=\"1\" class=\"dataframe\">\n  <thead>\n    <tr style=\"text-align: right;\">\n      <th></th>\n      <th>rank</th>\n      <th>discipline</th>\n      <th>phd</th>\n      <th>service</th>\n      <th>sex</th>\n      <th>salary</th>\n    </tr>\n  </thead>\n  <tbody>\n    <tr>\n      <th>0</th>\n      <td>Prof</td>\n      <td>B</td>\n      <td>56</td>\n      <td>49</td>\n      <td>Male</td>\n      <td>186960</td>\n    </tr>\n    <tr>\n      <th>3</th>\n      <td>Prof</td>\n      <td>A</td>\n      <td>40</td>\n      <td>31</td>\n      <td>Male</td>\n      <td>131205</td>\n    </tr>\n    <tr>\n      <th>5</th>\n      <td>Prof</td>\n      <td>A</td>\n      <td>20</td>\n      <td>20</td>\n      <td>Male</td>\n      <td>122400</td>\n    </tr>\n    <tr>\n      <th>7</th>\n      <td>Prof</td>\n      <td>A</td>\n      <td>18</td>\n      <td>18</td>\n      <td>Male</td>\n      <td>126300</td>\n    </tr>\n    <tr>\n      <th>10</th>\n      <td>Prof</td>\n      <td>B</td>\n      <td>39</td>\n      <td>33</td>\n      <td>Male</td>\n      <td>128250</td>\n    </tr>\n    <tr>\n      <th>11</th>\n      <td>Prof</td>\n      <td>B</td>\n      <td>23</td>\n      <td>23</td>\n      <td>Male</td>\n      <td>134778</td>\n    </tr>\n    <tr>\n      <th>13</th>\n      <td>Prof</td>\n      <td>B</td>\n      <td>35</td>\n      <td>33</td>\n      <td>Male</td>\n      <td>162200</td>\n    </tr>\n    <tr>\n      <th>14</th>\n      <td>Prof</td>\n      <td>B</td>\n      <td>25</td>\n      <td>19</td>\n      <td>Male</td>\n      <td>153750</td>\n    </tr>\n    <tr>\n      <th>15</th>\n      <td>Prof</td>\n      <td>B</td>\n      <td>17</td>\n      <td>3</td>\n      <td>Male</td>\n      <td>150480</td>\n    </tr>\n    <tr>\n      <th>19</th>\n      <td>Prof</td>\n      <td>A</td>\n      <td>29</td>\n      <td>27</td>\n      <td>Male</td>\n      <td>150500</td>\n    </tr>\n    <tr>\n      <th>26</th>\n      <td>Prof</td>\n      <td>A</td>\n      <td>38</td>\n      <td>19</td>\n      <td>Male</td>\n      <td>148750</td>\n    </tr>\n    <tr>\n      <th>27</th>\n      <td>Prof</td>\n      <td>A</td>\n      <td>45</td>\n      <td>43</td>\n      <td>Male</td>\n      <td>155865</td>\n    </tr>\n    <tr>\n      <th>29</th>\n      <td>Prof</td>\n      <td>B</td>\n      <td>21</td>\n      <td>20</td>\n      <td>Male</td>\n      <td>123683</td>\n    </tr>\n    <tr>\n      <th>31</th>\n      <td>Prof</td>\n      <td>B</td>\n      <td>22</td>\n      <td>21</td>\n      <td>Male</td>\n      <td>155750</td>\n    </tr>\n    <tr>\n      <th>33</th>\n      <td>Prof</td>\n      <td>B</td>\n      <td>18</td>\n      <td>18</td>\n      <td>Male</td>\n      <td>120000</td>\n    </tr>\n    <tr>\n      <th>35</th>\n      <td>Prof</td>\n      <td>B</td>\n      <td>28</td>\n      <td>23</td>\n      <td>Male</td>\n      <td>126933</td>\n    </tr>\n    <tr>\n      <th>36</th>\n      <td>Prof</td>\n      <td>B</td>\n      <td>45</td>\n      <td>45</td>\n      <td>Male</td>\n      <td>146856</td>\n    </tr>\n    <tr>\n      <th>39</th>\n      <td>Prof</td>\n      <td>B</td>\n      <td>18</td>\n      <td>18</td>\n      <td>Female</td>\n      <td>129000</td>\n    </tr>\n    <tr>\n      <th>40</th>\n      <td>Prof</td>\n      <td>A</td>\n      <td>39</td>\n      <td>36</td>\n      <td>Female</td>\n      <td>137000</td>\n    </tr>\n    <tr>\n      <th>44</th>\n      <td>Prof</td>\n      <td>B</td>\n      <td>23</td>\n      <td>19</td>\n      <td>Female</td>\n      <td>151768</td>\n    </tr>\n    <tr>\n      <th>45</th>\n      <td>Prof</td>\n      <td>B</td>\n      <td>25</td>\n      <td>25</td>\n      <td>Female</td>\n      <td>140096</td>\n    </tr>\n    <tr>\n      <th>49</th>\n      <td>Prof</td>\n      <td>B</td>\n      <td>17</td>\n      <td>18</td>\n      <td>Female</td>\n      <td>122960</td>\n    </tr>\n    <tr>\n      <th>51</th>\n      <td>Prof</td>\n      <td>B</td>\n      <td>20</td>\n      <td>14</td>\n      <td>Female</td>\n      <td>127512</td>\n    </tr>\n    <tr>\n      <th>58</th>\n      <td>Prof</td>\n      <td>B</td>\n      <td>36</td>\n      <td>26</td>\n      <td>Female</td>\n      <td>144651</td>\n    </tr>\n    <tr>\n      <th>72</th>\n      <td>Prof</td>\n      <td>B</td>\n      <td>24</td>\n      <td>15</td>\n      <td>Female</td>\n      <td>161101</td>\n    </tr>\n    <tr>\n      <th>75</th>\n      <td>Prof</td>\n      <td>B</td>\n      <td>17</td>\n      <td>17</td>\n      <td>Female</td>\n      <td>124312</td>\n    </tr>\n  </tbody>\n</table>\n</div>"
          },
          "metadata": {}
        }
      ]
    },
    {
      "metadata": {
        "trusted": true
      },
      "cell_type": "code",
      "source": "df1=df[df['salary']<120000]",
      "execution_count": 140,
      "outputs": []
    },
    {
      "metadata": {
        "trusted": true
      },
      "cell_type": "code",
      "source": "df1",
      "execution_count": 141,
      "outputs": [
        {
          "output_type": "execute_result",
          "execution_count": 141,
          "data": {
            "text/plain": "         rank discipline  phd  service     sex  salary\n1        Prof          A   12        6    Male   93000\n2        Prof          A   23       20    Male  110515\n4        Prof          B   20       18    Male  104800\n6   AssocProf          A   20       17    Male   81285\n8        Prof          A   29       19    Male   94350\n9        Prof          A   51       51    Male   57800\n12   AsstProf          B    1        0    Male   88000\n16   AsstProf          B    8        3    Male   75044\n17   AsstProf          B    4        0    Male   92000\n18       Prof          A   19        7    Male  107300\n20   AsstProf          B    4        4    Male   92000\n21       Prof          A   33       30    Male  103106\n22   AsstProf          A    4        2    Male   73000\n23   AsstProf          A    2        0    Male   85000\n24       Prof          A   30       23    Male   91100\n25       Prof          B   35       31    Male   99418\n28   AsstProf          B    7        2    Male   91300\n30  AssocProf          B    9        7    Male  107008\n32       Prof          A   27       19    Male  103275\n34  AssocProf          B   12        8    Male  119800\n37       Prof          A   20        8    Male  102000\n38   AsstProf          B    4        3    Male   91000\n41  AssocProf          A   13        8  Female   74830\n42   AsstProf          B    4        2  Female   80225\n43   AsstProf          B    5        0  Female   77000\n46   AsstProf          B   11        3  Female   74692\n47  AssocProf          B   11       11  Female  103613\n48       Prof          B   17       17  Female  111512\n50   AsstProf          B   10        5  Female   97032\n52       Prof          A   12        0  Female  105000\n53   AsstProf          A    5        3  Female   73500\n54  AssocProf          A   25       22  Female   62884\n55   AsstProf          A    2        0  Female   72500\n56  AssocProf          A   10        8  Female   77500\n57   AsstProf          A    3        1  Female   72500\n59  AssocProf          B   12       10  Female  103994\n60   AsstProf          B    3        3  Female   92000\n61  AssocProf          B   13       10  Female  103750\n62  AssocProf          B   14        7  Female  109650\n63       Prof          A   29       27  Female   91000\n64  AssocProf          A   26       24  Female   73300\n65       Prof          A   36       19  Female  117555\n66   AsstProf          A    7        6  Female   63100\n67       Prof          A   17       11  Female   90450\n68   AsstProf          A    4        2  Female   77500\n69       Prof          A   28        7  Female  116450\n70   AsstProf          A    8        3  Female   78500\n71  AssocProf          B   12        9  Female   71065\n73       Prof          B   18       10  Female  105450\n74  AssocProf          B   19        6  Female  104542\n76       Prof          A   28       14  Female  109954\n77       Prof          A   23       15  Female  109646",
            "text/html": "<div>\n<style scoped>\n    .dataframe tbody tr th:only-of-type {\n        vertical-align: middle;\n    }\n\n    .dataframe tbody tr th {\n        vertical-align: top;\n    }\n\n    .dataframe thead th {\n        text-align: right;\n    }\n</style>\n<table border=\"1\" class=\"dataframe\">\n  <thead>\n    <tr style=\"text-align: right;\">\n      <th></th>\n      <th>rank</th>\n      <th>discipline</th>\n      <th>phd</th>\n      <th>service</th>\n      <th>sex</th>\n      <th>salary</th>\n    </tr>\n  </thead>\n  <tbody>\n    <tr>\n      <th>1</th>\n      <td>Prof</td>\n      <td>A</td>\n      <td>12</td>\n      <td>6</td>\n      <td>Male</td>\n      <td>93000</td>\n    </tr>\n    <tr>\n      <th>2</th>\n      <td>Prof</td>\n      <td>A</td>\n      <td>23</td>\n      <td>20</td>\n      <td>Male</td>\n      <td>110515</td>\n    </tr>\n    <tr>\n      <th>4</th>\n      <td>Prof</td>\n      <td>B</td>\n      <td>20</td>\n      <td>18</td>\n      <td>Male</td>\n      <td>104800</td>\n    </tr>\n    <tr>\n      <th>6</th>\n      <td>AssocProf</td>\n      <td>A</td>\n      <td>20</td>\n      <td>17</td>\n      <td>Male</td>\n      <td>81285</td>\n    </tr>\n    <tr>\n      <th>8</th>\n      <td>Prof</td>\n      <td>A</td>\n      <td>29</td>\n      <td>19</td>\n      <td>Male</td>\n      <td>94350</td>\n    </tr>\n    <tr>\n      <th>9</th>\n      <td>Prof</td>\n      <td>A</td>\n      <td>51</td>\n      <td>51</td>\n      <td>Male</td>\n      <td>57800</td>\n    </tr>\n    <tr>\n      <th>12</th>\n      <td>AsstProf</td>\n      <td>B</td>\n      <td>1</td>\n      <td>0</td>\n      <td>Male</td>\n      <td>88000</td>\n    </tr>\n    <tr>\n      <th>16</th>\n      <td>AsstProf</td>\n      <td>B</td>\n      <td>8</td>\n      <td>3</td>\n      <td>Male</td>\n      <td>75044</td>\n    </tr>\n    <tr>\n      <th>17</th>\n      <td>AsstProf</td>\n      <td>B</td>\n      <td>4</td>\n      <td>0</td>\n      <td>Male</td>\n      <td>92000</td>\n    </tr>\n    <tr>\n      <th>18</th>\n      <td>Prof</td>\n      <td>A</td>\n      <td>19</td>\n      <td>7</td>\n      <td>Male</td>\n      <td>107300</td>\n    </tr>\n    <tr>\n      <th>20</th>\n      <td>AsstProf</td>\n      <td>B</td>\n      <td>4</td>\n      <td>4</td>\n      <td>Male</td>\n      <td>92000</td>\n    </tr>\n    <tr>\n      <th>21</th>\n      <td>Prof</td>\n      <td>A</td>\n      <td>33</td>\n      <td>30</td>\n      <td>Male</td>\n      <td>103106</td>\n    </tr>\n    <tr>\n      <th>22</th>\n      <td>AsstProf</td>\n      <td>A</td>\n      <td>4</td>\n      <td>2</td>\n      <td>Male</td>\n      <td>73000</td>\n    </tr>\n    <tr>\n      <th>23</th>\n      <td>AsstProf</td>\n      <td>A</td>\n      <td>2</td>\n      <td>0</td>\n      <td>Male</td>\n      <td>85000</td>\n    </tr>\n    <tr>\n      <th>24</th>\n      <td>Prof</td>\n      <td>A</td>\n      <td>30</td>\n      <td>23</td>\n      <td>Male</td>\n      <td>91100</td>\n    </tr>\n    <tr>\n      <th>25</th>\n      <td>Prof</td>\n      <td>B</td>\n      <td>35</td>\n      <td>31</td>\n      <td>Male</td>\n      <td>99418</td>\n    </tr>\n    <tr>\n      <th>28</th>\n      <td>AsstProf</td>\n      <td>B</td>\n      <td>7</td>\n      <td>2</td>\n      <td>Male</td>\n      <td>91300</td>\n    </tr>\n    <tr>\n      <th>30</th>\n      <td>AssocProf</td>\n      <td>B</td>\n      <td>9</td>\n      <td>7</td>\n      <td>Male</td>\n      <td>107008</td>\n    </tr>\n    <tr>\n      <th>32</th>\n      <td>Prof</td>\n      <td>A</td>\n      <td>27</td>\n      <td>19</td>\n      <td>Male</td>\n      <td>103275</td>\n    </tr>\n    <tr>\n      <th>34</th>\n      <td>AssocProf</td>\n      <td>B</td>\n      <td>12</td>\n      <td>8</td>\n      <td>Male</td>\n      <td>119800</td>\n    </tr>\n    <tr>\n      <th>37</th>\n      <td>Prof</td>\n      <td>A</td>\n      <td>20</td>\n      <td>8</td>\n      <td>Male</td>\n      <td>102000</td>\n    </tr>\n    <tr>\n      <th>38</th>\n      <td>AsstProf</td>\n      <td>B</td>\n      <td>4</td>\n      <td>3</td>\n      <td>Male</td>\n      <td>91000</td>\n    </tr>\n    <tr>\n      <th>41</th>\n      <td>AssocProf</td>\n      <td>A</td>\n      <td>13</td>\n      <td>8</td>\n      <td>Female</td>\n      <td>74830</td>\n    </tr>\n    <tr>\n      <th>42</th>\n      <td>AsstProf</td>\n      <td>B</td>\n      <td>4</td>\n      <td>2</td>\n      <td>Female</td>\n      <td>80225</td>\n    </tr>\n    <tr>\n      <th>43</th>\n      <td>AsstProf</td>\n      <td>B</td>\n      <td>5</td>\n      <td>0</td>\n      <td>Female</td>\n      <td>77000</td>\n    </tr>\n    <tr>\n      <th>46</th>\n      <td>AsstProf</td>\n      <td>B</td>\n      <td>11</td>\n      <td>3</td>\n      <td>Female</td>\n      <td>74692</td>\n    </tr>\n    <tr>\n      <th>47</th>\n      <td>AssocProf</td>\n      <td>B</td>\n      <td>11</td>\n      <td>11</td>\n      <td>Female</td>\n      <td>103613</td>\n    </tr>\n    <tr>\n      <th>48</th>\n      <td>Prof</td>\n      <td>B</td>\n      <td>17</td>\n      <td>17</td>\n      <td>Female</td>\n      <td>111512</td>\n    </tr>\n    <tr>\n      <th>50</th>\n      <td>AsstProf</td>\n      <td>B</td>\n      <td>10</td>\n      <td>5</td>\n      <td>Female</td>\n      <td>97032</td>\n    </tr>\n    <tr>\n      <th>52</th>\n      <td>Prof</td>\n      <td>A</td>\n      <td>12</td>\n      <td>0</td>\n      <td>Female</td>\n      <td>105000</td>\n    </tr>\n    <tr>\n      <th>53</th>\n      <td>AsstProf</td>\n      <td>A</td>\n      <td>5</td>\n      <td>3</td>\n      <td>Female</td>\n      <td>73500</td>\n    </tr>\n    <tr>\n      <th>54</th>\n      <td>AssocProf</td>\n      <td>A</td>\n      <td>25</td>\n      <td>22</td>\n      <td>Female</td>\n      <td>62884</td>\n    </tr>\n    <tr>\n      <th>55</th>\n      <td>AsstProf</td>\n      <td>A</td>\n      <td>2</td>\n      <td>0</td>\n      <td>Female</td>\n      <td>72500</td>\n    </tr>\n    <tr>\n      <th>56</th>\n      <td>AssocProf</td>\n      <td>A</td>\n      <td>10</td>\n      <td>8</td>\n      <td>Female</td>\n      <td>77500</td>\n    </tr>\n    <tr>\n      <th>57</th>\n      <td>AsstProf</td>\n      <td>A</td>\n      <td>3</td>\n      <td>1</td>\n      <td>Female</td>\n      <td>72500</td>\n    </tr>\n    <tr>\n      <th>59</th>\n      <td>AssocProf</td>\n      <td>B</td>\n      <td>12</td>\n      <td>10</td>\n      <td>Female</td>\n      <td>103994</td>\n    </tr>\n    <tr>\n      <th>60</th>\n      <td>AsstProf</td>\n      <td>B</td>\n      <td>3</td>\n      <td>3</td>\n      <td>Female</td>\n      <td>92000</td>\n    </tr>\n    <tr>\n      <th>61</th>\n      <td>AssocProf</td>\n      <td>B</td>\n      <td>13</td>\n      <td>10</td>\n      <td>Female</td>\n      <td>103750</td>\n    </tr>\n    <tr>\n      <th>62</th>\n      <td>AssocProf</td>\n      <td>B</td>\n      <td>14</td>\n      <td>7</td>\n      <td>Female</td>\n      <td>109650</td>\n    </tr>\n    <tr>\n      <th>63</th>\n      <td>Prof</td>\n      <td>A</td>\n      <td>29</td>\n      <td>27</td>\n      <td>Female</td>\n      <td>91000</td>\n    </tr>\n    <tr>\n      <th>64</th>\n      <td>AssocProf</td>\n      <td>A</td>\n      <td>26</td>\n      <td>24</td>\n      <td>Female</td>\n      <td>73300</td>\n    </tr>\n    <tr>\n      <th>65</th>\n      <td>Prof</td>\n      <td>A</td>\n      <td>36</td>\n      <td>19</td>\n      <td>Female</td>\n      <td>117555</td>\n    </tr>\n    <tr>\n      <th>66</th>\n      <td>AsstProf</td>\n      <td>A</td>\n      <td>7</td>\n      <td>6</td>\n      <td>Female</td>\n      <td>63100</td>\n    </tr>\n    <tr>\n      <th>67</th>\n      <td>Prof</td>\n      <td>A</td>\n      <td>17</td>\n      <td>11</td>\n      <td>Female</td>\n      <td>90450</td>\n    </tr>\n    <tr>\n      <th>68</th>\n      <td>AsstProf</td>\n      <td>A</td>\n      <td>4</td>\n      <td>2</td>\n      <td>Female</td>\n      <td>77500</td>\n    </tr>\n    <tr>\n      <th>69</th>\n      <td>Prof</td>\n      <td>A</td>\n      <td>28</td>\n      <td>7</td>\n      <td>Female</td>\n      <td>116450</td>\n    </tr>\n    <tr>\n      <th>70</th>\n      <td>AsstProf</td>\n      <td>A</td>\n      <td>8</td>\n      <td>3</td>\n      <td>Female</td>\n      <td>78500</td>\n    </tr>\n    <tr>\n      <th>71</th>\n      <td>AssocProf</td>\n      <td>B</td>\n      <td>12</td>\n      <td>9</td>\n      <td>Female</td>\n      <td>71065</td>\n    </tr>\n    <tr>\n      <th>73</th>\n      <td>Prof</td>\n      <td>B</td>\n      <td>18</td>\n      <td>10</td>\n      <td>Female</td>\n      <td>105450</td>\n    </tr>\n    <tr>\n      <th>74</th>\n      <td>AssocProf</td>\n      <td>B</td>\n      <td>19</td>\n      <td>6</td>\n      <td>Female</td>\n      <td>104542</td>\n    </tr>\n    <tr>\n      <th>76</th>\n      <td>Prof</td>\n      <td>A</td>\n      <td>28</td>\n      <td>14</td>\n      <td>Female</td>\n      <td>109954</td>\n    </tr>\n    <tr>\n      <th>77</th>\n      <td>Prof</td>\n      <td>A</td>\n      <td>23</td>\n      <td>15</td>\n      <td>Female</td>\n      <td>109646</td>\n    </tr>\n  </tbody>\n</table>\n</div>"
          },
          "metadata": {}
        }
      ]
    },
    {
      "metadata": {
        "trusted": true
      },
      "cell_type": "code",
      "source": "df1=df[df['sex']=='Female']",
      "execution_count": 145,
      "outputs": []
    },
    {
      "metadata": {
        "trusted": true
      },
      "cell_type": "code",
      "source": "df1",
      "execution_count": 146,
      "outputs": [
        {
          "output_type": "execute_result",
          "execution_count": 146,
          "data": {
            "text/plain": "         rank discipline  phd  service     sex  salary\n39       Prof          B   18       18  Female  129000\n40       Prof          A   39       36  Female  137000\n41  AssocProf          A   13        8  Female   74830\n42   AsstProf          B    4        2  Female   80225\n43   AsstProf          B    5        0  Female   77000\n44       Prof          B   23       19  Female  151768\n45       Prof          B   25       25  Female  140096\n46   AsstProf          B   11        3  Female   74692\n47  AssocProf          B   11       11  Female  103613\n48       Prof          B   17       17  Female  111512\n49       Prof          B   17       18  Female  122960\n50   AsstProf          B   10        5  Female   97032\n51       Prof          B   20       14  Female  127512\n52       Prof          A   12        0  Female  105000\n53   AsstProf          A    5        3  Female   73500\n54  AssocProf          A   25       22  Female   62884\n55   AsstProf          A    2        0  Female   72500\n56  AssocProf          A   10        8  Female   77500\n57   AsstProf          A    3        1  Female   72500\n58       Prof          B   36       26  Female  144651\n59  AssocProf          B   12       10  Female  103994\n60   AsstProf          B    3        3  Female   92000\n61  AssocProf          B   13       10  Female  103750\n62  AssocProf          B   14        7  Female  109650\n63       Prof          A   29       27  Female   91000\n64  AssocProf          A   26       24  Female   73300\n65       Prof          A   36       19  Female  117555\n66   AsstProf          A    7        6  Female   63100\n67       Prof          A   17       11  Female   90450\n68   AsstProf          A    4        2  Female   77500\n69       Prof          A   28        7  Female  116450\n70   AsstProf          A    8        3  Female   78500\n71  AssocProf          B   12        9  Female   71065\n72       Prof          B   24       15  Female  161101\n73       Prof          B   18       10  Female  105450\n74  AssocProf          B   19        6  Female  104542\n75       Prof          B   17       17  Female  124312\n76       Prof          A   28       14  Female  109954\n77       Prof          A   23       15  Female  109646",
            "text/html": "<div>\n<style scoped>\n    .dataframe tbody tr th:only-of-type {\n        vertical-align: middle;\n    }\n\n    .dataframe tbody tr th {\n        vertical-align: top;\n    }\n\n    .dataframe thead th {\n        text-align: right;\n    }\n</style>\n<table border=\"1\" class=\"dataframe\">\n  <thead>\n    <tr style=\"text-align: right;\">\n      <th></th>\n      <th>rank</th>\n      <th>discipline</th>\n      <th>phd</th>\n      <th>service</th>\n      <th>sex</th>\n      <th>salary</th>\n    </tr>\n  </thead>\n  <tbody>\n    <tr>\n      <th>39</th>\n      <td>Prof</td>\n      <td>B</td>\n      <td>18</td>\n      <td>18</td>\n      <td>Female</td>\n      <td>129000</td>\n    </tr>\n    <tr>\n      <th>40</th>\n      <td>Prof</td>\n      <td>A</td>\n      <td>39</td>\n      <td>36</td>\n      <td>Female</td>\n      <td>137000</td>\n    </tr>\n    <tr>\n      <th>41</th>\n      <td>AssocProf</td>\n      <td>A</td>\n      <td>13</td>\n      <td>8</td>\n      <td>Female</td>\n      <td>74830</td>\n    </tr>\n    <tr>\n      <th>42</th>\n      <td>AsstProf</td>\n      <td>B</td>\n      <td>4</td>\n      <td>2</td>\n      <td>Female</td>\n      <td>80225</td>\n    </tr>\n    <tr>\n      <th>43</th>\n      <td>AsstProf</td>\n      <td>B</td>\n      <td>5</td>\n      <td>0</td>\n      <td>Female</td>\n      <td>77000</td>\n    </tr>\n    <tr>\n      <th>44</th>\n      <td>Prof</td>\n      <td>B</td>\n      <td>23</td>\n      <td>19</td>\n      <td>Female</td>\n      <td>151768</td>\n    </tr>\n    <tr>\n      <th>45</th>\n      <td>Prof</td>\n      <td>B</td>\n      <td>25</td>\n      <td>25</td>\n      <td>Female</td>\n      <td>140096</td>\n    </tr>\n    <tr>\n      <th>46</th>\n      <td>AsstProf</td>\n      <td>B</td>\n      <td>11</td>\n      <td>3</td>\n      <td>Female</td>\n      <td>74692</td>\n    </tr>\n    <tr>\n      <th>47</th>\n      <td>AssocProf</td>\n      <td>B</td>\n      <td>11</td>\n      <td>11</td>\n      <td>Female</td>\n      <td>103613</td>\n    </tr>\n    <tr>\n      <th>48</th>\n      <td>Prof</td>\n      <td>B</td>\n      <td>17</td>\n      <td>17</td>\n      <td>Female</td>\n      <td>111512</td>\n    </tr>\n    <tr>\n      <th>49</th>\n      <td>Prof</td>\n      <td>B</td>\n      <td>17</td>\n      <td>18</td>\n      <td>Female</td>\n      <td>122960</td>\n    </tr>\n    <tr>\n      <th>50</th>\n      <td>AsstProf</td>\n      <td>B</td>\n      <td>10</td>\n      <td>5</td>\n      <td>Female</td>\n      <td>97032</td>\n    </tr>\n    <tr>\n      <th>51</th>\n      <td>Prof</td>\n      <td>B</td>\n      <td>20</td>\n      <td>14</td>\n      <td>Female</td>\n      <td>127512</td>\n    </tr>\n    <tr>\n      <th>52</th>\n      <td>Prof</td>\n      <td>A</td>\n      <td>12</td>\n      <td>0</td>\n      <td>Female</td>\n      <td>105000</td>\n    </tr>\n    <tr>\n      <th>53</th>\n      <td>AsstProf</td>\n      <td>A</td>\n      <td>5</td>\n      <td>3</td>\n      <td>Female</td>\n      <td>73500</td>\n    </tr>\n    <tr>\n      <th>54</th>\n      <td>AssocProf</td>\n      <td>A</td>\n      <td>25</td>\n      <td>22</td>\n      <td>Female</td>\n      <td>62884</td>\n    </tr>\n    <tr>\n      <th>55</th>\n      <td>AsstProf</td>\n      <td>A</td>\n      <td>2</td>\n      <td>0</td>\n      <td>Female</td>\n      <td>72500</td>\n    </tr>\n    <tr>\n      <th>56</th>\n      <td>AssocProf</td>\n      <td>A</td>\n      <td>10</td>\n      <td>8</td>\n      <td>Female</td>\n      <td>77500</td>\n    </tr>\n    <tr>\n      <th>57</th>\n      <td>AsstProf</td>\n      <td>A</td>\n      <td>3</td>\n      <td>1</td>\n      <td>Female</td>\n      <td>72500</td>\n    </tr>\n    <tr>\n      <th>58</th>\n      <td>Prof</td>\n      <td>B</td>\n      <td>36</td>\n      <td>26</td>\n      <td>Female</td>\n      <td>144651</td>\n    </tr>\n    <tr>\n      <th>59</th>\n      <td>AssocProf</td>\n      <td>B</td>\n      <td>12</td>\n      <td>10</td>\n      <td>Female</td>\n      <td>103994</td>\n    </tr>\n    <tr>\n      <th>60</th>\n      <td>AsstProf</td>\n      <td>B</td>\n      <td>3</td>\n      <td>3</td>\n      <td>Female</td>\n      <td>92000</td>\n    </tr>\n    <tr>\n      <th>61</th>\n      <td>AssocProf</td>\n      <td>B</td>\n      <td>13</td>\n      <td>10</td>\n      <td>Female</td>\n      <td>103750</td>\n    </tr>\n    <tr>\n      <th>62</th>\n      <td>AssocProf</td>\n      <td>B</td>\n      <td>14</td>\n      <td>7</td>\n      <td>Female</td>\n      <td>109650</td>\n    </tr>\n    <tr>\n      <th>63</th>\n      <td>Prof</td>\n      <td>A</td>\n      <td>29</td>\n      <td>27</td>\n      <td>Female</td>\n      <td>91000</td>\n    </tr>\n    <tr>\n      <th>64</th>\n      <td>AssocProf</td>\n      <td>A</td>\n      <td>26</td>\n      <td>24</td>\n      <td>Female</td>\n      <td>73300</td>\n    </tr>\n    <tr>\n      <th>65</th>\n      <td>Prof</td>\n      <td>A</td>\n      <td>36</td>\n      <td>19</td>\n      <td>Female</td>\n      <td>117555</td>\n    </tr>\n    <tr>\n      <th>66</th>\n      <td>AsstProf</td>\n      <td>A</td>\n      <td>7</td>\n      <td>6</td>\n      <td>Female</td>\n      <td>63100</td>\n    </tr>\n    <tr>\n      <th>67</th>\n      <td>Prof</td>\n      <td>A</td>\n      <td>17</td>\n      <td>11</td>\n      <td>Female</td>\n      <td>90450</td>\n    </tr>\n    <tr>\n      <th>68</th>\n      <td>AsstProf</td>\n      <td>A</td>\n      <td>4</td>\n      <td>2</td>\n      <td>Female</td>\n      <td>77500</td>\n    </tr>\n    <tr>\n      <th>69</th>\n      <td>Prof</td>\n      <td>A</td>\n      <td>28</td>\n      <td>7</td>\n      <td>Female</td>\n      <td>116450</td>\n    </tr>\n    <tr>\n      <th>70</th>\n      <td>AsstProf</td>\n      <td>A</td>\n      <td>8</td>\n      <td>3</td>\n      <td>Female</td>\n      <td>78500</td>\n    </tr>\n    <tr>\n      <th>71</th>\n      <td>AssocProf</td>\n      <td>B</td>\n      <td>12</td>\n      <td>9</td>\n      <td>Female</td>\n      <td>71065</td>\n    </tr>\n    <tr>\n      <th>72</th>\n      <td>Prof</td>\n      <td>B</td>\n      <td>24</td>\n      <td>15</td>\n      <td>Female</td>\n      <td>161101</td>\n    </tr>\n    <tr>\n      <th>73</th>\n      <td>Prof</td>\n      <td>B</td>\n      <td>18</td>\n      <td>10</td>\n      <td>Female</td>\n      <td>105450</td>\n    </tr>\n    <tr>\n      <th>74</th>\n      <td>AssocProf</td>\n      <td>B</td>\n      <td>19</td>\n      <td>6</td>\n      <td>Female</td>\n      <td>104542</td>\n    </tr>\n    <tr>\n      <th>75</th>\n      <td>Prof</td>\n      <td>B</td>\n      <td>17</td>\n      <td>17</td>\n      <td>Female</td>\n      <td>124312</td>\n    </tr>\n    <tr>\n      <th>76</th>\n      <td>Prof</td>\n      <td>A</td>\n      <td>28</td>\n      <td>14</td>\n      <td>Female</td>\n      <td>109954</td>\n    </tr>\n    <tr>\n      <th>77</th>\n      <td>Prof</td>\n      <td>A</td>\n      <td>23</td>\n      <td>15</td>\n      <td>Female</td>\n      <td>109646</td>\n    </tr>\n  </tbody>\n</table>\n</div>"
          },
          "metadata": {}
        }
      ]
    },
    {
      "metadata": {},
      "cell_type": "markdown",
      "source": "# Data frame slicing"
    },
    {
      "metadata": {
        "trusted": true
      },
      "cell_type": "code",
      "source": "df['salary']",
      "execution_count": 147,
      "outputs": [
        {
          "output_type": "execute_result",
          "execution_count": 147,
          "data": {
            "text/plain": "0     186960\n1      93000\n2     110515\n3     131205\n4     104800\n       ...  \n73    105450\n74    104542\n75    124312\n76    109954\n77    109646\nName: salary, Length: 78, dtype: int64"
          },
          "metadata": {}
        }
      ]
    },
    {
      "metadata": {
        "trusted": true
      },
      "cell_type": "code",
      "source": "df[['salary']]",
      "execution_count": 148,
      "outputs": [
        {
          "output_type": "execute_result",
          "execution_count": 148,
          "data": {
            "text/plain": "    salary\n0   186960\n1    93000\n2   110515\n3   131205\n4   104800\n..     ...\n73  105450\n74  104542\n75  124312\n76  109954\n77  109646\n\n[78 rows x 1 columns]",
            "text/html": "<div>\n<style scoped>\n    .dataframe tbody tr th:only-of-type {\n        vertical-align: middle;\n    }\n\n    .dataframe tbody tr th {\n        vertical-align: top;\n    }\n\n    .dataframe thead th {\n        text-align: right;\n    }\n</style>\n<table border=\"1\" class=\"dataframe\">\n  <thead>\n    <tr style=\"text-align: right;\">\n      <th></th>\n      <th>salary</th>\n    </tr>\n  </thead>\n  <tbody>\n    <tr>\n      <th>0</th>\n      <td>186960</td>\n    </tr>\n    <tr>\n      <th>1</th>\n      <td>93000</td>\n    </tr>\n    <tr>\n      <th>2</th>\n      <td>110515</td>\n    </tr>\n    <tr>\n      <th>3</th>\n      <td>131205</td>\n    </tr>\n    <tr>\n      <th>4</th>\n      <td>104800</td>\n    </tr>\n    <tr>\n      <th>...</th>\n      <td>...</td>\n    </tr>\n    <tr>\n      <th>73</th>\n      <td>105450</td>\n    </tr>\n    <tr>\n      <th>74</th>\n      <td>104542</td>\n    </tr>\n    <tr>\n      <th>75</th>\n      <td>124312</td>\n    </tr>\n    <tr>\n      <th>76</th>\n      <td>109954</td>\n    </tr>\n    <tr>\n      <th>77</th>\n      <td>109646</td>\n    </tr>\n  </tbody>\n</table>\n<p>78 rows × 1 columns</p>\n</div>"
          },
          "metadata": {}
        }
      ]
    },
    {
      "metadata": {
        "trusted": true
      },
      "cell_type": "code",
      "source": "df[['salary']]",
      "execution_count": 153,
      "outputs": [
        {
          "output_type": "execute_result",
          "execution_count": 153,
          "data": {
            "text/plain": "    salary\n0   186960\n1    93000\n2   110515\n3   131205\n4   104800\n..     ...\n73  105450\n74  104542\n75  124312\n76  109954\n77  109646\n\n[78 rows x 1 columns]",
            "text/html": "<div>\n<style scoped>\n    .dataframe tbody tr th:only-of-type {\n        vertical-align: middle;\n    }\n\n    .dataframe tbody tr th {\n        vertical-align: top;\n    }\n\n    .dataframe thead th {\n        text-align: right;\n    }\n</style>\n<table border=\"1\" class=\"dataframe\">\n  <thead>\n    <tr style=\"text-align: right;\">\n      <th></th>\n      <th>salary</th>\n    </tr>\n  </thead>\n  <tbody>\n    <tr>\n      <th>0</th>\n      <td>186960</td>\n    </tr>\n    <tr>\n      <th>1</th>\n      <td>93000</td>\n    </tr>\n    <tr>\n      <th>2</th>\n      <td>110515</td>\n    </tr>\n    <tr>\n      <th>3</th>\n      <td>131205</td>\n    </tr>\n    <tr>\n      <th>4</th>\n      <td>104800</td>\n    </tr>\n    <tr>\n      <th>...</th>\n      <td>...</td>\n    </tr>\n    <tr>\n      <th>73</th>\n      <td>105450</td>\n    </tr>\n    <tr>\n      <th>74</th>\n      <td>104542</td>\n    </tr>\n    <tr>\n      <th>75</th>\n      <td>124312</td>\n    </tr>\n    <tr>\n      <th>76</th>\n      <td>109954</td>\n    </tr>\n    <tr>\n      <th>77</th>\n      <td>109646</td>\n    </tr>\n  </tbody>\n</table>\n<p>78 rows × 1 columns</p>\n</div>"
          },
          "metadata": {}
        }
      ]
    },
    {
      "metadata": {
        "trusted": true
      },
      "cell_type": "code",
      "source": "df.iloc[0]",
      "execution_count": 155,
      "outputs": [
        {
          "output_type": "execute_result",
          "execution_count": 155,
          "data": {
            "text/plain": "rank            Prof\ndiscipline         B\nphd               56\nservice           49\nsex             Male\nsalary        186960\nName: 0, dtype: object"
          },
          "metadata": {}
        }
      ]
    },
    {
      "metadata": {
        "trusted": true
      },
      "cell_type": "code",
      "source": "df.iloc[2]",
      "execution_count": 156,
      "outputs": [
        {
          "output_type": "execute_result",
          "execution_count": 156,
          "data": {
            "text/plain": "rank            Prof\ndiscipline         A\nphd               23\nservice           20\nsex             Male\nsalary        110515\nName: 2, dtype: object"
          },
          "metadata": {}
        }
      ]
    },
    {
      "metadata": {
        "trusted": true
      },
      "cell_type": "code",
      "source": "df.iloc[-1]",
      "execution_count": 157,
      "outputs": [
        {
          "output_type": "execute_result",
          "execution_count": 157,
          "data": {
            "text/plain": "rank            Prof\ndiscipline         A\nphd               23\nservice           15\nsex           Female\nsalary        109646\nName: 77, dtype: object"
          },
          "metadata": {}
        }
      ]
    },
    {
      "metadata": {
        "trusted": true
      },
      "cell_type": "code",
      "source": "df.iloc[-2]",
      "execution_count": 158,
      "outputs": [
        {
          "output_type": "execute_result",
          "execution_count": 158,
          "data": {
            "text/plain": "rank            Prof\ndiscipline         A\nphd               28\nservice           14\nsex           Female\nsalary        109954\nName: 76, dtype: object"
          },
          "metadata": {}
        }
      ]
    },
    {
      "metadata": {
        "trusted": true
      },
      "cell_type": "code",
      "source": "df.iloc[:,1]",
      "execution_count": 159,
      "outputs": [
        {
          "output_type": "execute_result",
          "execution_count": 159,
          "data": {
            "text/plain": "0     B\n1     A\n2     A\n3     A\n4     B\n     ..\n73    B\n74    B\n75    B\n76    A\n77    A\nName: discipline, Length: 78, dtype: object"
          },
          "metadata": {}
        }
      ]
    },
    {
      "metadata": {
        "trusted": true
      },
      "cell_type": "code",
      "source": "df.iloc[:,0]",
      "execution_count": 160,
      "outputs": [
        {
          "output_type": "execute_result",
          "execution_count": 160,
          "data": {
            "text/plain": "0          Prof\n1          Prof\n2          Prof\n3          Prof\n4          Prof\n        ...    \n73         Prof\n74    AssocProf\n75         Prof\n76         Prof\n77         Prof\nName: rank, Length: 78, dtype: object"
          },
          "metadata": {}
        }
      ]
    },
    {
      "metadata": {
        "trusted": true
      },
      "cell_type": "code",
      "source": "df.iloc[1:3,0:2]",
      "execution_count": 161,
      "outputs": [
        {
          "output_type": "execute_result",
          "execution_count": 161,
          "data": {
            "text/plain": "   rank discipline\n1  Prof          A\n2  Prof          A",
            "text/html": "<div>\n<style scoped>\n    .dataframe tbody tr th:only-of-type {\n        vertical-align: middle;\n    }\n\n    .dataframe tbody tr th {\n        vertical-align: top;\n    }\n\n    .dataframe thead th {\n        text-align: right;\n    }\n</style>\n<table border=\"1\" class=\"dataframe\">\n  <thead>\n    <tr style=\"text-align: right;\">\n      <th></th>\n      <th>rank</th>\n      <th>discipline</th>\n    </tr>\n  </thead>\n  <tbody>\n    <tr>\n      <th>1</th>\n      <td>Prof</td>\n      <td>A</td>\n    </tr>\n    <tr>\n      <th>2</th>\n      <td>Prof</td>\n      <td>A</td>\n    </tr>\n  </tbody>\n</table>\n</div>"
          },
          "metadata": {}
        }
      ]
    },
    {
      "metadata": {
        "trusted": true
      },
      "cell_type": "code",
      "source": "df.iloc[1:20,0:5]",
      "execution_count": 162,
      "outputs": [
        {
          "output_type": "execute_result",
          "execution_count": 162,
          "data": {
            "text/plain": "         rank discipline  phd  service   sex\n1        Prof          A   12        6  Male\n2        Prof          A   23       20  Male\n3        Prof          A   40       31  Male\n4        Prof          B   20       18  Male\n5        Prof          A   20       20  Male\n6   AssocProf          A   20       17  Male\n7        Prof          A   18       18  Male\n8        Prof          A   29       19  Male\n9        Prof          A   51       51  Male\n10       Prof          B   39       33  Male\n11       Prof          B   23       23  Male\n12   AsstProf          B    1        0  Male\n13       Prof          B   35       33  Male\n14       Prof          B   25       19  Male\n15       Prof          B   17        3  Male\n16   AsstProf          B    8        3  Male\n17   AsstProf          B    4        0  Male\n18       Prof          A   19        7  Male\n19       Prof          A   29       27  Male",
            "text/html": "<div>\n<style scoped>\n    .dataframe tbody tr th:only-of-type {\n        vertical-align: middle;\n    }\n\n    .dataframe tbody tr th {\n        vertical-align: top;\n    }\n\n    .dataframe thead th {\n        text-align: right;\n    }\n</style>\n<table border=\"1\" class=\"dataframe\">\n  <thead>\n    <tr style=\"text-align: right;\">\n      <th></th>\n      <th>rank</th>\n      <th>discipline</th>\n      <th>phd</th>\n      <th>service</th>\n      <th>sex</th>\n    </tr>\n  </thead>\n  <tbody>\n    <tr>\n      <th>1</th>\n      <td>Prof</td>\n      <td>A</td>\n      <td>12</td>\n      <td>6</td>\n      <td>Male</td>\n    </tr>\n    <tr>\n      <th>2</th>\n      <td>Prof</td>\n      <td>A</td>\n      <td>23</td>\n      <td>20</td>\n      <td>Male</td>\n    </tr>\n    <tr>\n      <th>3</th>\n      <td>Prof</td>\n      <td>A</td>\n      <td>40</td>\n      <td>31</td>\n      <td>Male</td>\n    </tr>\n    <tr>\n      <th>4</th>\n      <td>Prof</td>\n      <td>B</td>\n      <td>20</td>\n      <td>18</td>\n      <td>Male</td>\n    </tr>\n    <tr>\n      <th>5</th>\n      <td>Prof</td>\n      <td>A</td>\n      <td>20</td>\n      <td>20</td>\n      <td>Male</td>\n    </tr>\n    <tr>\n      <th>6</th>\n      <td>AssocProf</td>\n      <td>A</td>\n      <td>20</td>\n      <td>17</td>\n      <td>Male</td>\n    </tr>\n    <tr>\n      <th>7</th>\n      <td>Prof</td>\n      <td>A</td>\n      <td>18</td>\n      <td>18</td>\n      <td>Male</td>\n    </tr>\n    <tr>\n      <th>8</th>\n      <td>Prof</td>\n      <td>A</td>\n      <td>29</td>\n      <td>19</td>\n      <td>Male</td>\n    </tr>\n    <tr>\n      <th>9</th>\n      <td>Prof</td>\n      <td>A</td>\n      <td>51</td>\n      <td>51</td>\n      <td>Male</td>\n    </tr>\n    <tr>\n      <th>10</th>\n      <td>Prof</td>\n      <td>B</td>\n      <td>39</td>\n      <td>33</td>\n      <td>Male</td>\n    </tr>\n    <tr>\n      <th>11</th>\n      <td>Prof</td>\n      <td>B</td>\n      <td>23</td>\n      <td>23</td>\n      <td>Male</td>\n    </tr>\n    <tr>\n      <th>12</th>\n      <td>AsstProf</td>\n      <td>B</td>\n      <td>1</td>\n      <td>0</td>\n      <td>Male</td>\n    </tr>\n    <tr>\n      <th>13</th>\n      <td>Prof</td>\n      <td>B</td>\n      <td>35</td>\n      <td>33</td>\n      <td>Male</td>\n    </tr>\n    <tr>\n      <th>14</th>\n      <td>Prof</td>\n      <td>B</td>\n      <td>25</td>\n      <td>19</td>\n      <td>Male</td>\n    </tr>\n    <tr>\n      <th>15</th>\n      <td>Prof</td>\n      <td>B</td>\n      <td>17</td>\n      <td>3</td>\n      <td>Male</td>\n    </tr>\n    <tr>\n      <th>16</th>\n      <td>AsstProf</td>\n      <td>B</td>\n      <td>8</td>\n      <td>3</td>\n      <td>Male</td>\n    </tr>\n    <tr>\n      <th>17</th>\n      <td>AsstProf</td>\n      <td>B</td>\n      <td>4</td>\n      <td>0</td>\n      <td>Male</td>\n    </tr>\n    <tr>\n      <th>18</th>\n      <td>Prof</td>\n      <td>A</td>\n      <td>19</td>\n      <td>7</td>\n      <td>Male</td>\n    </tr>\n    <tr>\n      <th>19</th>\n      <td>Prof</td>\n      <td>A</td>\n      <td>29</td>\n      <td>27</td>\n      <td>Male</td>\n    </tr>\n  </tbody>\n</table>\n</div>"
          },
          "metadata": {}
        }
      ]
    },
    {
      "metadata": {
        "trusted": true
      },
      "cell_type": "code",
      "source": "df.iloc[:,-1]",
      "execution_count": 163,
      "outputs": [
        {
          "output_type": "execute_result",
          "execution_count": 163,
          "data": {
            "text/plain": "0     186960\n1      93000\n2     110515\n3     131205\n4     104800\n       ...  \n73    105450\n74    104542\n75    124312\n76    109954\n77    109646\nName: salary, Length: 78, dtype: int64"
          },
          "metadata": {}
        }
      ]
    },
    {
      "metadata": {
        "trusted": true
      },
      "cell_type": "code",
      "source": "df.iloc[0:7]",
      "execution_count": 164,
      "outputs": [
        {
          "output_type": "execute_result",
          "execution_count": 164,
          "data": {
            "text/plain": "        rank discipline  phd  service   sex  salary\n0       Prof          B   56       49  Male  186960\n1       Prof          A   12        6  Male   93000\n2       Prof          A   23       20  Male  110515\n3       Prof          A   40       31  Male  131205\n4       Prof          B   20       18  Male  104800\n5       Prof          A   20       20  Male  122400\n6  AssocProf          A   20       17  Male   81285",
            "text/html": "<div>\n<style scoped>\n    .dataframe tbody tr th:only-of-type {\n        vertical-align: middle;\n    }\n\n    .dataframe tbody tr th {\n        vertical-align: top;\n    }\n\n    .dataframe thead th {\n        text-align: right;\n    }\n</style>\n<table border=\"1\" class=\"dataframe\">\n  <thead>\n    <tr style=\"text-align: right;\">\n      <th></th>\n      <th>rank</th>\n      <th>discipline</th>\n      <th>phd</th>\n      <th>service</th>\n      <th>sex</th>\n      <th>salary</th>\n    </tr>\n  </thead>\n  <tbody>\n    <tr>\n      <th>0</th>\n      <td>Prof</td>\n      <td>B</td>\n      <td>56</td>\n      <td>49</td>\n      <td>Male</td>\n      <td>186960</td>\n    </tr>\n    <tr>\n      <th>1</th>\n      <td>Prof</td>\n      <td>A</td>\n      <td>12</td>\n      <td>6</td>\n      <td>Male</td>\n      <td>93000</td>\n    </tr>\n    <tr>\n      <th>2</th>\n      <td>Prof</td>\n      <td>A</td>\n      <td>23</td>\n      <td>20</td>\n      <td>Male</td>\n      <td>110515</td>\n    </tr>\n    <tr>\n      <th>3</th>\n      <td>Prof</td>\n      <td>A</td>\n      <td>40</td>\n      <td>31</td>\n      <td>Male</td>\n      <td>131205</td>\n    </tr>\n    <tr>\n      <th>4</th>\n      <td>Prof</td>\n      <td>B</td>\n      <td>20</td>\n      <td>18</td>\n      <td>Male</td>\n      <td>104800</td>\n    </tr>\n    <tr>\n      <th>5</th>\n      <td>Prof</td>\n      <td>A</td>\n      <td>20</td>\n      <td>20</td>\n      <td>Male</td>\n      <td>122400</td>\n    </tr>\n    <tr>\n      <th>6</th>\n      <td>AssocProf</td>\n      <td>A</td>\n      <td>20</td>\n      <td>17</td>\n      <td>Male</td>\n      <td>81285</td>\n    </tr>\n  </tbody>\n</table>\n</div>"
          },
          "metadata": {}
        }
      ]
    },
    {
      "metadata": {
        "trusted": true
      },
      "cell_type": "code",
      "source": "df.iloc[:,1:3]",
      "execution_count": 165,
      "outputs": [
        {
          "output_type": "execute_result",
          "execution_count": 165,
          "data": {
            "text/plain": "   discipline  phd\n0           B   56\n1           A   12\n2           A   23\n3           A   40\n4           B   20\n..        ...  ...\n73          B   18\n74          B   19\n75          B   17\n76          A   28\n77          A   23\n\n[78 rows x 2 columns]",
            "text/html": "<div>\n<style scoped>\n    .dataframe tbody tr th:only-of-type {\n        vertical-align: middle;\n    }\n\n    .dataframe tbody tr th {\n        vertical-align: top;\n    }\n\n    .dataframe thead th {\n        text-align: right;\n    }\n</style>\n<table border=\"1\" class=\"dataframe\">\n  <thead>\n    <tr style=\"text-align: right;\">\n      <th></th>\n      <th>discipline</th>\n      <th>phd</th>\n    </tr>\n  </thead>\n  <tbody>\n    <tr>\n      <th>0</th>\n      <td>B</td>\n      <td>56</td>\n    </tr>\n    <tr>\n      <th>1</th>\n      <td>A</td>\n      <td>12</td>\n    </tr>\n    <tr>\n      <th>2</th>\n      <td>A</td>\n      <td>23</td>\n    </tr>\n    <tr>\n      <th>3</th>\n      <td>A</td>\n      <td>40</td>\n    </tr>\n    <tr>\n      <th>4</th>\n      <td>B</td>\n      <td>20</td>\n    </tr>\n    <tr>\n      <th>...</th>\n      <td>...</td>\n      <td>...</td>\n    </tr>\n    <tr>\n      <th>73</th>\n      <td>B</td>\n      <td>18</td>\n    </tr>\n    <tr>\n      <th>74</th>\n      <td>B</td>\n      <td>19</td>\n    </tr>\n    <tr>\n      <th>75</th>\n      <td>B</td>\n      <td>17</td>\n    </tr>\n    <tr>\n      <th>76</th>\n      <td>A</td>\n      <td>28</td>\n    </tr>\n    <tr>\n      <th>77</th>\n      <td>A</td>\n      <td>23</td>\n    </tr>\n  </tbody>\n</table>\n<p>78 rows × 2 columns</p>\n</div>"
          },
          "metadata": {}
        }
      ]
    },
    {
      "metadata": {
        "trusted": true
      },
      "cell_type": "code",
      "source": "df.iloc[[1,4],[1,4]]",
      "execution_count": 166,
      "outputs": [
        {
          "output_type": "execute_result",
          "execution_count": 166,
          "data": {
            "text/plain": "  discipline   sex\n1          A  Male\n4          B  Male",
            "text/html": "<div>\n<style scoped>\n    .dataframe tbody tr th:only-of-type {\n        vertical-align: middle;\n    }\n\n    .dataframe tbody tr th {\n        vertical-align: top;\n    }\n\n    .dataframe thead th {\n        text-align: right;\n    }\n</style>\n<table border=\"1\" class=\"dataframe\">\n  <thead>\n    <tr style=\"text-align: right;\">\n      <th></th>\n      <th>discipline</th>\n      <th>sex</th>\n    </tr>\n  </thead>\n  <tbody>\n    <tr>\n      <th>1</th>\n      <td>A</td>\n      <td>Male</td>\n    </tr>\n    <tr>\n      <th>4</th>\n      <td>B</td>\n      <td>Male</td>\n    </tr>\n  </tbody>\n</table>\n</div>"
          },
          "metadata": {}
        }
      ]
    },
    {
      "metadata": {
        "trusted": true
      },
      "cell_type": "code",
      "source": "df.iloc[[1,5],[1,3]]",
      "execution_count": 168,
      "outputs": [
        {
          "output_type": "execute_result",
          "execution_count": 168,
          "data": {
            "text/plain": "  discipline  service\n1          A        6\n5          A       20",
            "text/html": "<div>\n<style scoped>\n    .dataframe tbody tr th:only-of-type {\n        vertical-align: middle;\n    }\n\n    .dataframe tbody tr th {\n        vertical-align: top;\n    }\n\n    .dataframe thead th {\n        text-align: right;\n    }\n</style>\n<table border=\"1\" class=\"dataframe\">\n  <thead>\n    <tr style=\"text-align: right;\">\n      <th></th>\n      <th>discipline</th>\n      <th>service</th>\n    </tr>\n  </thead>\n  <tbody>\n    <tr>\n      <th>1</th>\n      <td>A</td>\n      <td>6</td>\n    </tr>\n    <tr>\n      <th>5</th>\n      <td>A</td>\n      <td>20</td>\n    </tr>\n  </tbody>\n</table>\n</div>"
          },
          "metadata": {}
        }
      ]
    }
  ],
  "metadata": {
    "kernelspec": {
      "name": "python3",
      "display_name": "Python 3",
      "language": "python"
    },
    "language_info": {
      "name": "python",
      "version": "3.8.3",
      "mimetype": "text/x-python",
      "codemirror_mode": {
        "name": "ipython",
        "version": 3
      },
      "pygments_lexer": "ipython3",
      "nbconvert_exporter": "python",
      "file_extension": ".py"
    },
    "gist": {
      "id": "f416a562e5124a7a69d19ba0dae37027",
      "data": {
        "description": "Basics using salary dataset.ipynb",
        "public": true
      }
    },
    "_draft": {
      "nbviewer_url": "https://gist.github.com/f416a562e5124a7a69d19ba0dae37027"
    }
  },
  "nbformat": 4,
  "nbformat_minor": 4
}