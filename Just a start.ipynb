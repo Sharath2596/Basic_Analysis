{
 "cells": [
  {
   "cell_type": "code",
   "execution_count": 1,
   "id": "5506b3f0",
   "metadata": {},
   "outputs": [],
   "source": [
    "# Variables and Numbers and String #string are immutable which mean we cant change.\n",
    "Salary = 30000 \n",
    "Fuel = 3100\n",
    "Lunch = 1500\n",
    "saving = 10000"
   ]
  },
  {
   "cell_type": "code",
   "execution_count": 2,
   "id": "ff232e2b",
   "metadata": {
    "scrolled": true
   },
   "outputs": [
    {
     "name": "stdout",
     "output_type": "stream",
     "text": [
      "Remaining =  25400\n"
     ]
    }
   ],
   "source": [
    "Total =  Salary - (Fuel + Lunch) \n",
    "print(\"Remaining = \", Total)"
   ]
  },
  {
   "cell_type": "code",
   "execution_count": 3,
   "id": "d14ca0db",
   "metadata": {},
   "outputs": [
    {
     "name": "stdout",
     "output_type": "stream",
     "text": [
      "final amount : 15400\n"
     ]
    }
   ],
   "source": [
    "final_amt = Total - saving\n",
    "print(\"final amount :\", final_amt)"
   ]
  },
  {
   "cell_type": "code",
   "execution_count": 4,
   "id": "ceb03d57",
   "metadata": {},
   "outputs": [
    {
     "data": {
      "text/plain": [
       "int"
      ]
     },
     "execution_count": 4,
     "metadata": {},
     "output_type": "execute_result"
    }
   ],
   "source": [
    "type(final_amt)"
   ]
  },
  {
   "cell_type": "code",
   "execution_count": 5,
   "id": "036a1bac",
   "metadata": {
    "scrolled": true
   },
   "outputs": [
    {
     "name": "stdout",
     "output_type": "stream",
     "text": [
      "total Expenses and salary :  Salary Fuel Lunch's cost\n"
     ]
    }
   ],
   "source": [
    "items1 = 'Salary'\n",
    "items2 = \"Fuel\"\n",
    "items3 = \"Lunch's cost\"\n",
    "print(\"total Expenses and salary : \", items1,items2,items3)"
   ]
  },
  {
   "cell_type": "code",
   "execution_count": 6,
   "id": "c5786322",
   "metadata": {},
   "outputs": [
    {
     "name": "stdout",
     "output_type": "stream",
     "text": [
      "Salary\n"
     ]
    }
   ],
   "source": [
    "print(items1)"
   ]
  },
  {
   "cell_type": "code",
   "execution_count": 7,
   "id": "583fae4e",
   "metadata": {
    "scrolled": true
   },
   "outputs": [
    {
     "name": "stdout",
     "output_type": "stream",
     "text": [
      "S\n",
      "a\n",
      "l\n",
      "a\n",
      "r\n",
      "y\n"
     ]
    }
   ],
   "source": [
    "for w in items1: print(w) # array will represent only numbers and in vertical.\n",
    "                          # list will display in horizontal form."
   ]
  },
  {
   "cell_type": "code",
   "execution_count": 8,
   "id": "b9941553",
   "metadata": {},
   "outputs": [
    {
     "data": {
      "text/plain": [
       "str"
      ]
     },
     "execution_count": 8,
     "metadata": {},
     "output_type": "execute_result"
    }
   ],
   "source": [
    "type(items1)"
   ]
  },
  {
   "cell_type": "code",
   "execution_count": 9,
   "id": "dd178f9b",
   "metadata": {},
   "outputs": [
    {
     "data": {
      "text/plain": [
       "'Sal'"
      ]
     },
     "execution_count": 9,
     "metadata": {},
     "output_type": "execute_result"
    }
   ],
   "source": [
    "items1[0:3]"
   ]
  },
  {
   "cell_type": "code",
   "execution_count": 10,
   "id": "da733a32",
   "metadata": {},
   "outputs": [
    {
     "data": {
      "text/plain": [
       "'ary'"
      ]
     },
     "execution_count": 10,
     "metadata": {},
     "output_type": "execute_result"
    }
   ],
   "source": [
    "items1[3:]"
   ]
  },
  {
   "cell_type": "code",
   "execution_count": 11,
   "id": "f47464a8",
   "metadata": {},
   "outputs": [
    {
     "data": {
      "text/plain": [
       "True"
      ]
     },
     "execution_count": 11,
     "metadata": {},
     "output_type": "execute_result"
    }
   ],
   "source": [
    "a = 2 ; b = 4\n",
    "a < b # a is less than b\n",
    "# a > b # a is greate than b"
   ]
  },
  {
   "cell_type": "code",
   "execution_count": 12,
   "id": "09be8e80",
   "metadata": {},
   "outputs": [
    {
     "data": {
      "text/plain": [
       "False"
      ]
     },
     "execution_count": 12,
     "metadata": {},
     "output_type": "execute_result"
    }
   ],
   "source": [
    "a > b # a is greate than b"
   ]
  },
  {
   "cell_type": "code",
   "execution_count": 13,
   "id": "1e5d1316",
   "metadata": {},
   "outputs": [
    {
     "data": {
      "text/plain": [
       "5"
      ]
     },
     "execution_count": 13,
     "metadata": {},
     "output_type": "execute_result"
    }
   ],
   "source": [
    "11//2 # Divident"
   ]
  },
  {
   "cell_type": "code",
   "execution_count": 14,
   "id": "80285492",
   "metadata": {},
   "outputs": [
    {
     "data": {
      "text/plain": [
       "1"
      ]
     },
     "execution_count": 14,
     "metadata": {},
     "output_type": "execute_result"
    }
   ],
   "source": [
    "11%2 # Remainder"
   ]
  },
  {
   "cell_type": "code",
   "execution_count": 15,
   "id": "9201738f",
   "metadata": {},
   "outputs": [
    {
     "data": {
      "text/plain": [
       "27"
      ]
     },
     "execution_count": 15,
     "metadata": {},
     "output_type": "execute_result"
    }
   ],
   "source": [
    "3**3 # 3 to the power 3 "
   ]
  },
  {
   "cell_type": "code",
   "execution_count": 16,
   "id": "0f818f9f",
   "metadata": {},
   "outputs": [],
   "source": [
    "total_distance = 13"
   ]
  },
  {
   "cell_type": "code",
   "execution_count": 17,
   "id": "0fc604dc",
   "metadata": {},
   "outputs": [
    {
     "name": "stdout",
     "output_type": "stream",
     "text": [
      "Time takes to travel = 20.0\n"
     ]
    }
   ],
   "source": [
    "mph = 65\n",
    "time = total_distance/mph*100\n",
    "print(\"Time takes to travel =\", time)"
   ]
  },
  {
   "cell_type": "code",
   "execution_count": 18,
   "id": "28d92bd5",
   "metadata": {},
   "outputs": [
    {
     "data": {
      "text/plain": [
       "20.0"
      ]
     },
     "execution_count": 18,
     "metadata": {},
     "output_type": "execute_result"
    }
   ],
   "source": [
    "round(time,2)"
   ]
  },
  {
   "cell_type": "code",
   "execution_count": 19,
   "id": "a144c989",
   "metadata": {},
   "outputs": [
    {
     "data": {
      "text/plain": [
       "float"
      ]
     },
     "execution_count": 19,
     "metadata": {},
     "output_type": "execute_result"
    }
   ],
   "source": [
    "type(time)"
   ]
  },
  {
   "cell_type": "code",
   "execution_count": 20,
   "id": "efabb27d",
   "metadata": {},
   "outputs": [],
   "source": [
    "to = \" total exp =\"\n",
    "Total = 15400\n",
    "so = to+str(Total) # concat num and str"
   ]
  },
  {
   "cell_type": "code",
   "execution_count": 21,
   "id": "77d9b66a",
   "metadata": {},
   "outputs": [
    {
     "data": {
      "text/plain": [
       "' total exp =15400'"
      ]
     },
     "execution_count": 21,
     "metadata": {},
     "output_type": "execute_result"
    }
   ],
   "source": [
    "so"
   ]
  },
  {
   "cell_type": "code",
   "execution_count": 22,
   "id": "2cfbdebd",
   "metadata": {},
   "outputs": [
    {
     "data": {
      "text/plain": [
       "str"
      ]
     },
     "execution_count": 22,
     "metadata": {},
     "output_type": "execute_result"
    }
   ],
   "source": [
    "type(so)"
   ]
  },
  {
   "cell_type": "code",
   "execution_count": 23,
   "id": "b8bccbba",
   "metadata": {},
   "outputs": [
    {
     "name": "stdout",
     "output_type": "stream",
     "text": [
      "Hello, World!\n"
     ]
    }
   ],
   "source": [
    "##The strip() method removes any whitespace from the beginning or the end:\n",
    "a = \"    Hello, World!   \"\n",
    "print(a.strip()) # returns \"Hello, World!\""
   ]
  },
  {
   "cell_type": "code",
   "execution_count": 24,
   "id": "74d395fc",
   "metadata": {
    "scrolled": true
   },
   "outputs": [
    {
     "name": "stdout",
     "output_type": "stream",
     "text": [
      "10\n"
     ]
    }
   ],
   "source": [
    "ele = [10,20,0,40,15]\n",
    "x = bytes(ele)# converts the list into bytes array ##### (1)\n",
    "print(x[0])"
   ]
  },
  {
   "cell_type": "code",
   "execution_count": 25,
   "id": "1e1e85cd",
   "metadata": {
    "scrolled": false
   },
   "outputs": [
    {
     "data": {
      "text/plain": [
       "b'\\n\\x14\\x00(\\x0f'"
      ]
     },
     "execution_count": 25,
     "metadata": {},
     "output_type": "execute_result"
    }
   ],
   "source": [
    "x"
   ]
  },
  {
   "cell_type": "code",
   "execution_count": 26,
   "id": "5016a5cf",
   "metadata": {},
   "outputs": [
    {
     "data": {
      "text/plain": [
       "bytes"
      ]
     },
     "execution_count": 26,
     "metadata": {},
     "output_type": "execute_result"
    }
   ],
   "source": [
    "type(x)"
   ]
  },
  {
   "cell_type": "code",
   "execution_count": 27,
   "id": "126a8d34",
   "metadata": {},
   "outputs": [
    {
     "data": {
      "text/plain": [
       "0"
      ]
     },
     "execution_count": 27,
     "metadata": {},
     "output_type": "execute_result"
    }
   ],
   "source": [
    "x[2]"
   ]
  },
  {
   "cell_type": "code",
   "execution_count": 28,
   "id": "066ff550",
   "metadata": {
    "scrolled": true
   },
   "outputs": [
    {
     "name": "stdout",
     "output_type": "stream",
     "text": [
      "10\n",
      "20\n",
      "0\n",
      "40\n",
      "15\n"
     ]
    }
   ],
   "source": [
    "for i in x : print(i)"
   ]
  },
  {
   "cell_type": "code",
   "execution_count": 29,
   "id": "32118d53",
   "metadata": {},
   "outputs": [
    {
     "data": {
      "text/plain": [
       "[10, 20, 0, 40, 15]"
      ]
     },
     "execution_count": 29,
     "metadata": {},
     "output_type": "execute_result"
    }
   ],
   "source": [
    "ele"
   ]
  },
  {
   "cell_type": "code",
   "execution_count": 30,
   "id": "01ff5363",
   "metadata": {},
   "outputs": [
    {
     "ename": "TypeError",
     "evalue": "'bytes' object does not support item assignment",
     "output_type": "error",
     "traceback": [
      "\u001b[1;31m---------------------------------------------------------------------------\u001b[0m",
      "\u001b[1;31mTypeError\u001b[0m                                 Traceback (most recent call last)",
      "\u001b[1;32m<ipython-input-30-ef0a9ec3b4e9>\u001b[0m in \u001b[0;36m<module>\u001b[1;34m\u001b[0m\n\u001b[1;32m----> 1\u001b[1;33m \u001b[0mx\u001b[0m\u001b[1;33m[\u001b[0m\u001b[1;36m0\u001b[0m\u001b[1;33m]\u001b[0m \u001b[1;33m=\u001b[0m \u001b[1;36m5\u001b[0m \u001b[1;31m### so converted in (1) # we cant change in bytes\u001b[0m\u001b[1;33m\u001b[0m\u001b[1;33m\u001b[0m\u001b[0m\n\u001b[0m",
      "\u001b[1;31mTypeError\u001b[0m: 'bytes' object does not support item assignment"
     ]
    }
   ],
   "source": [
    "x[0] = 5 ### so converted in (1) # we cant change in bytes"
   ]
  },
  {
   "cell_type": "code",
   "execution_count": null,
   "id": "87817f59",
   "metadata": {},
   "outputs": [],
   "source": [
    "ele = [10,20,0,40,15]\n",
    "x = bytearray(ele)# converts the list into bytearray type array ###### (2)\n",
    "print(x[0])"
   ]
  },
  {
   "cell_type": "code",
   "execution_count": null,
   "id": "121a97be",
   "metadata": {},
   "outputs": [],
   "source": [
    "x"
   ]
  },
  {
   "cell_type": "code",
   "execution_count": null,
   "id": "7eef1507",
   "metadata": {},
   "outputs": [],
   "source": [
    "x[2] = 5"
   ]
  },
  {
   "cell_type": "code",
   "execution_count": null,
   "id": "49dfe9e3",
   "metadata": {},
   "outputs": [],
   "source": [
    "type(x)"
   ]
  },
  {
   "cell_type": "code",
   "execution_count": null,
   "id": "466f49fc",
   "metadata": {},
   "outputs": [],
   "source": [
    "for i in x : print(i) ## FOR LOOP STORED IN HORIZONTAL WAY "
   ]
  },
  {
   "cell_type": "markdown",
   "id": "a39dfec6",
   "metadata": {},
   "source": [
    "# LISTS ARE REPRESENTED USING SQUARE BRACKETS [ ].\n",
    "    ##CAN BE MODIFIED\n",
    "# TUPLE ARE REPRESENTED USING PARENTHESES (). READ-ONLY LIST\n",
    "    ##CAN'T BE MODIFIED"
   ]
  },
  {
   "cell_type": "code",
   "execution_count": null,
   "id": "edc8e28c",
   "metadata": {},
   "outputs": [],
   "source": [
    "list = [10,20,\"jack\",10.5,'chan']"
   ]
  },
  {
   "cell_type": "code",
   "execution_count": null,
   "id": "da8352f3",
   "metadata": {},
   "outputs": [],
   "source": [
    "list[0]"
   ]
  },
  {
   "cell_type": "code",
   "execution_count": null,
   "id": "36fae14b",
   "metadata": {},
   "outputs": [],
   "source": [
    "list[0] = 15"
   ]
  },
  {
   "cell_type": "code",
   "execution_count": null,
   "id": "f08f7eeb",
   "metadata": {},
   "outputs": [],
   "source": [
    "list ##CAN BE MODIFIED"
   ]
  },
  {
   "cell_type": "code",
   "execution_count": null,
   "id": "fc0b4d43",
   "metadata": {},
   "outputs": [],
   "source": [
    "tuple = (10,20,\"jack\",10.5,'chan')"
   ]
  },
  {
   "cell_type": "code",
   "execution_count": null,
   "id": "6c5d542c",
   "metadata": {},
   "outputs": [],
   "source": [
    "tuple[0]"
   ]
  },
  {
   "cell_type": "code",
   "execution_count": null,
   "id": "236e4c53",
   "metadata": {},
   "outputs": [],
   "source": [
    "tuple[0] = 15 ##CAN'T BE MODIFIED"
   ]
  },
  {
   "cell_type": "markdown",
   "id": "7c3c730a",
   "metadata": {},
   "source": [
    "## range"
   ]
  },
  {
   "cell_type": "code",
   "execution_count": null,
   "id": "0b06fc53",
   "metadata": {},
   "outputs": [],
   "source": [
    "r = range(10)"
   ]
  },
  {
   "cell_type": "code",
   "execution_count": null,
   "id": "1c2fe042",
   "metadata": {
    "scrolled": true
   },
   "outputs": [],
   "source": [
    "for i in r : print(i)"
   ]
  },
  {
   "cell_type": "code",
   "execution_count": null,
   "id": "1bd09169",
   "metadata": {},
   "outputs": [],
   "source": [
    "r = range(30, 40, 5) # displayes from 30 and 35 because we used 5 which will increase by 5( or difference is 5)"
   ]
  },
  {
   "cell_type": "code",
   "execution_count": null,
   "id": "8f3824be",
   "metadata": {},
   "outputs": [],
   "source": [
    "for i in r : print(i)"
   ]
  },
  {
   "cell_type": "code",
   "execution_count": null,
   "id": "fb2a0eae",
   "metadata": {},
   "outputs": [],
   "source": [
    "lst = []\n",
    "for i in range(10):\n",
    "    lst.append(i)\n",
    "print(\"list of range = \",lst)   # outside the for loop"
   ]
  },
  {
   "cell_type": "raw",
   "id": "232d31ca",
   "metadata": {},
   "source": [
    "for i in range(10): print(i) ## i is printed as array"
   ]
  },
  {
   "cell_type": "code",
   "execution_count": null,
   "id": "633c0d90",
   "metadata": {},
   "outputs": [],
   "source": [
    "lst = []\n",
    "for i in range(10):\n",
    "    lst.append(i)\n",
    "    print(\"List = \", i) # inside the for loop"
   ]
  },
  {
   "cell_type": "markdown",
   "id": "409b0a33",
   "metadata": {},
   "source": [
    "# set"
   ]
  },
  {
   "cell_type": "code",
   "execution_count": null,
   "id": "b0c6993c",
   "metadata": {},
   "outputs": [],
   "source": [
    "s = {20, 10, 50, 40, 30,40}\n",
    "s"
   ]
  },
  {
   "cell_type": "code",
   "execution_count": null,
   "id": "d82d77c9",
   "metadata": {},
   "outputs": [],
   "source": [
    "ch = set('hello') # element may will not appear in the same order as we enter and it wont repeat the letter which is already present.\n",
    "ch"
   ]
  },
  {
   "cell_type": "code",
   "execution_count": null,
   "id": "6f3c5101",
   "metadata": {},
   "outputs": [],
   "source": [
    "lst = [4,2,5,1,3] # 'update' is use to add element and 'remove' is use to remove the element\n",
    "se = set(lst)  # can be modified in set\n",
    "se"
   ]
  },
  {
   "cell_type": "markdown",
   "id": "f01238a9",
   "metadata": {},
   "source": [
    "## frozenset"
   ]
  },
  {
   "cell_type": "code",
   "execution_count": null,
   "id": "fc8a1873",
   "metadata": {},
   "outputs": [],
   "source": [
    "s = {20,30,40,50}\n",
    "s"
   ]
  },
  {
   "cell_type": "code",
   "execution_count": null,
   "id": "5c87e833",
   "metadata": {},
   "outputs": [],
   "source": [
    "fs = frozenset(s) # cannot be modified in frozenset however this won't work 'update' is use to add element and 'remove' is use to remove the element\n",
    "fs"
   ]
  },
  {
   "cell_type": "code",
   "execution_count": null,
   "id": "2572be69",
   "metadata": {},
   "outputs": [],
   "source": []
  },
  {
   "cell_type": "markdown",
   "id": "9df627ae",
   "metadata": {},
   "source": [
    "## dictionary"
   ]
  },
  {
   "cell_type": "code",
   "execution_count": null,
   "id": "0c8f4d94",
   "metadata": {},
   "outputs": [],
   "source": [
    "d = {11:'jack', 12:'chan', 13:'ram'} # 11 is key and jack is value\n",
    "d"
   ]
  },
  {
   "cell_type": "code",
   "execution_count": null,
   "id": "752530a2",
   "metadata": {},
   "outputs": [],
   "source": [
    "d[11]"
   ]
  },
  {
   "cell_type": "code",
   "execution_count": null,
   "id": "11a67d34",
   "metadata": {},
   "outputs": [],
   "source": [
    "d.keys()"
   ]
  },
  {
   "cell_type": "code",
   "execution_count": null,
   "id": "ed7183cb",
   "metadata": {},
   "outputs": [],
   "source": [
    "type(d)"
   ]
  },
  {
   "cell_type": "code",
   "execution_count": null,
   "id": "422aa4fc",
   "metadata": {},
   "outputs": [],
   "source": [
    "d = {} # we can also create the dict like this\n"
   ]
  },
  {
   "cell_type": "code",
   "execution_count": null,
   "id": "4be2b4c8",
   "metadata": {},
   "outputs": [],
   "source": [
    "d[1] = \"jack\"\n",
    "d[2] = \"ram\""
   ]
  },
  {
   "cell_type": "code",
   "execution_count": null,
   "id": "b057c13f",
   "metadata": {},
   "outputs": [],
   "source": [
    "print(\"dict keys and value :\", d)"
   ]
  },
  {
   "cell_type": "markdown",
   "id": "b6740897",
   "metadata": {},
   "source": [
    "# in operator"
   ]
  },
  {
   "cell_type": "code",
   "execution_count": null,
   "id": "e80bfb08",
   "metadata": {},
   "outputs": [],
   "source": [
    "phone = (\"table\", \"Connect to pc\", \"connect to charger\", \"left in bike\", \"in couch\")\n",
    "location =  \"left in bike\"\n",
    "for i in phone:\n",
    "    if i==location:\n",
    "        print(\"found it here\", i)    ### example for : for loop , if..else and break\n",
    "        break\n",
    "    else:\n",
    "        print(\"Could't find it anywhere\")"
   ]
  },
  {
   "cell_type": "markdown",
   "id": "13ba8af8",
   "metadata": {},
   "source": [
    "## Control statement"
   ]
  },
  {
   "cell_type": "markdown",
   "id": "e098ebce",
   "metadata": {},
   "source": [
    "Control flow statements: \n",
    "1. Use the if-else statements in Python for conditional decision-making\n",
    "2. for loop: To iterate over a sequence of elements such as list, string.\n",
    "3. range() function: Using a for loop with range(), we can repeat an action a specific number of times\n",
    "4. while loop: To repeat a block of code repeatedly, as long as the condition is true.\n",
    "5. Break and Continue: To alter the loop’s execution in a certain manner.\n",
    "6. Nested loop: loop inside a loop is known as a nested loop"
   ]
  },
  {
   "cell_type": "markdown",
   "id": "fcb4f6bc",
   "metadata": {},
   "source": [
    "#### if else, elif"
   ]
  },
  {
   "cell_type": "code",
   "execution_count": null,
   "id": "38758654",
   "metadata": {},
   "outputs": [],
   "source": [
    "indian = [\"Micromax\", \"Karbon\",\"251\"]\n",
    "china = [\"OnePlus\",\"Mi\",\"Oppo\",\"RealMe\"]\n",
    "usa = [\"Apple\", \"Blackberry\",\"Asus\"]\n",
    "south_korea = [\"Samsung\", \"Nokia\"]\n",
    "\n",
    "phone = input(\"Enter your phone name:\")\n",
    "\n",
    "if phone in indian:\n",
    "    print(\"MADE IN INDIA\")\n",
    "elif phone in china:\n",
    "    print(\"MADE IN CHINA\")\n",
    "elif phone in usa:\n",
    "    print(\"MADE IN USA\")\n",
    "elif phone in south_korea:\n",
    "    print(\"MADE IN SOUTH KOREA\")\n",
    "else:\n",
    "    print(\"A fake product i believe xD\",phone)\n"
   ]
  },
  {
   "cell_type": "code",
   "execution_count": null,
   "id": "8b38aa2d",
   "metadata": {},
   "outputs": [],
   "source": [
    "type(phone)"
   ]
  },
  {
   "cell_type": "markdown",
   "id": "bd8bb0ca",
   "metadata": {},
   "source": [
    "## for loop"
   ]
  },
  {
   "cell_type": "code",
   "execution_count": null,
   "id": "49624018",
   "metadata": {},
   "outputs": [],
   "source": [
    "exp = [6,3,4,5]\n",
    "total = 0\n",
    "for i in exp:\n",
    "    total = total + i\n",
    "print(total)"
   ]
  },
  {
   "cell_type": "code",
   "execution_count": null,
   "id": "7e040f62",
   "metadata": {},
   "outputs": [],
   "source": [
    "lis = [10,20,30,40,50]\n",
    "tota = 0\n",
    "for i in lis:\n",
    "    tota = tota + i\n",
    "print(tota)"
   ]
  },
  {
   "cell_type": "code",
   "execution_count": null,
   "id": "55262108",
   "metadata": {},
   "outputs": [],
   "source": []
  },
  {
   "cell_type": "code",
   "execution_count": null,
   "id": "015f80c7",
   "metadata": {},
   "outputs": [],
   "source": [
    "exp_per_week = [100,100,550,0,100]\n",
    "total = 0 # debug \n",
    "for i in range(len(exp_per_week)):\n",
    "    print(\"Day Expense\",i+1,\"Exp\",exp_per_week[i])# i = 0,1,2,3 as it starts from 0, we use i+1 which starts from 1.\n",
    "    # exp_per_week[i] tracks exp variables one by one\n",
    "    total = total + exp_per_week[i]\n",
    "print(\"total exp = \", total)"
   ]
  },
  {
   "cell_type": "code",
   "execution_count": null,
   "id": "c7f6cded",
   "metadata": {},
   "outputs": [],
   "source": [
    "for i in range(len(exp_per_week)):\n",
    "    print(i+1)"
   ]
  },
  {
   "cell_type": "code",
   "execution_count": null,
   "id": "5ce5520e",
   "metadata": {
    "scrolled": false
   },
   "outputs": [],
   "source": [
    "pan = [1,2,3,4,5,6,7,8,9]\n",
    "for i in range(len(pan)):\n",
    "    print(\"starts from 0th\",i,\"pan\",pan[i]) # i + 1 starts from 1th"
   ]
  },
  {
   "cell_type": "code",
   "execution_count": null,
   "id": "79e7ba40",
   "metadata": {},
   "outputs": [],
   "source": [
    "keys_place=[\"chair\",\"bed\",\"table\",\"Near TV\",\"in car\"]\n",
    "keys = \"Near TV\"\n",
    "\n",
    "for i in keys_place:\n",
    "    if i==keys:\n",
    "        print(\"found keys\",i)\n",
    "        break # when keys are found it will stop when we call break\n",
    "    else:\n",
    "        print(\"Not found\")\n"
   ]
  },
  {
   "cell_type": "code",
   "execution_count": null,
   "id": "156243d5",
   "metadata": {},
   "outputs": [],
   "source": [
    "# without break\n",
    "keys_place=[\"chair\",\"bed\",\"table\",\"Near TV\",\"in car\"]\n",
    "keys = input(\"enter the value from the following\")\n",
    "\n",
    "for i in keys_place:\n",
    "    if i==keys:\n",
    "        print(\"found keys\",i)\n",
    "        #break # when keys are found it will stop when we call break\n",
    "    else:\n",
    "        print(\"Not found\")\n"
   ]
  },
  {
   "cell_type": "code",
   "execution_count": null,
   "id": "2e3ced95",
   "metadata": {},
   "outputs": [],
   "source": [
    "for i in range(1,9):\n",
    "    if i%2==0:\n",
    "        continue #if the condition is satified it will continue\n",
    "    print(i*i)"
   ]
  },
  {
   "cell_type": "code",
   "execution_count": null,
   "id": "51b04ac3",
   "metadata": {},
   "outputs": [],
   "source": [
    "60%12 # % gives us remainder "
   ]
  },
  {
   "cell_type": "markdown",
   "id": "40c6eeb9",
   "metadata": {},
   "source": [
    "#### while loop takes one statement meaning until the statement is true the statment will be looping........"
   ]
  },
  {
   "cell_type": "code",
   "execution_count": null,
   "id": "47fa4512",
   "metadata": {},
   "outputs": [],
   "source": [
    "i = 1\n",
    "while i<=6: # untill this statment is True the loop will be continuing\n",
    "    print(i)\n",
    "    i = i + 1 # this is necessary in while loop & without this it will create infinite loop which never stops xD\n",
    "    # print(i)"
   ]
  },
  {
   "cell_type": "markdown",
   "id": "989a697f",
   "metadata": {},
   "source": [
    "#### Pass: uses for impty blocks when you don't have a code to write."
   ]
  },
  {
   "cell_type": "markdown",
   "id": "22dde5c3",
   "metadata": {},
   "source": [
    "The pass Statement\n",
    "for loops cannot be empty, but if you for some reason have a for loop with no content, put in the pass statement to avoid getting an error."
   ]
  },
  {
   "cell_type": "code",
   "execution_count": null,
   "id": "b27a58af",
   "metadata": {},
   "outputs": [],
   "source": [
    "for x in [0, 1, 2]:\n",
    "    pass"
   ]
  },
  {
   "cell_type": "markdown",
   "id": "1f963f65",
   "metadata": {},
   "source": [
    " #### Task\n",
    "Given an integer, , perform the following conditional actions:\n",
    "\n",
    "If  n is odd, print Weird\n",
    "If  n is even and in the inclusive range of 2 to 5, print Not Weird\n",
    "If  n is even and in the inclusive range of 6 to 20, print Weird\n",
    "If  n is even and greater than 20 , print Not Weird"
   ]
  },
  {
   "cell_type": "code",
   "execution_count": null,
   "id": "11cefa41",
   "metadata": {},
   "outputs": [],
   "source": [
    "n = int(input(\"enter the number : \").strip())\n",
    "if n%2==0 and (\n",
    "    n in range(2,6) or \n",
    "    n > 20):\n",
    "    print(\"Not Weird\")\n",
    "else:\n",
    "    print(\"Weird\")"
   ]
  },
  {
   "cell_type": "code",
   "execution_count": null,
   "id": "0ca98ab4",
   "metadata": {},
   "outputs": [],
   "source": [
    "\n",
    "n = int(input()) #.strip()\n",
    "check = {True: \"Not Weird\", False: \"Weird\"}\n",
    "print(check[\n",
    "    n%2==0 and (\n",
    "        n in range(2,6) or \n",
    "        n > 20)\n",
    "    ])"
   ]
  },
  {
   "cell_type": "markdown",
   "id": "88412993",
   "metadata": {},
   "source": [
    "### Task\n",
    "The provided code stub reads and integer,n, from STDIN. For all non-negative integers i<n, print i^2 .\n",
    "\n",
    "Example\n",
    "n = 3\n",
    "The list of non-negative integers that are less than  is . Print the square of each number on a separate line...\n",
    "\n",
    " Output\n",
    "    \n",
    "    0\n",
    "    1\n",
    "    4"
   ]
  },
  {
   "cell_type": "code",
   "execution_count": null,
   "id": "7f564290",
   "metadata": {},
   "outputs": [],
   "source": [
    "n = int(input(\"enter the number = \"))\n",
    "for i in range(n):\n",
    "    print(i*i)"
   ]
  },
  {
   "cell_type": "markdown",
   "id": "6647dac2",
   "metadata": {},
   "source": [
    "### Linear Search"
   ]
  },
  {
   "cell_type": "code",
   "execution_count": null,
   "id": "be80d9cc",
   "metadata": {},
   "outputs": [],
   "source": [
    "import random\n",
    "print (\"-\"*60)\n",
    "print (\"Linear Search Program\")\n",
    "print (\"-\"*60)\n",
    "n=int(input(\"Enter how many number \"))\n",
    "print(\"Enter\", n , \"numbers \")\n",
    "num = []\n",
    "for i in range(0, n):\n",
    "    num.append(random.randint(0,100))\n",
    "print(\"The Number == > \", num)\n",
    "Sitem=int(input(\"Enter the search item \"))\n",
    "found=False\n",
    "for i in range(0, n):\n",
    "    if(num[i] == Sitem):\n",
    "        found=True\n",
    "        break\n",
    "if (found == True):\n",
    "    print(\"Element found at\", i+1)\n",
    "else:\n",
    "    print(\"Element not found\")\n"
   ]
  },
  {
   "cell_type": "code",
   "execution_count": null,
   "id": "34d1d409",
   "metadata": {},
   "outputs": [],
   "source": [
    "languages = ['R', 'Python',  'Scala', 'Java', 'Julia']\n",
    "\n",
    "for index in range(len(languages)):\n",
    "    print('Current language:', languages[index])"
   ]
  },
  {
   "cell_type": "markdown",
   "id": "a656aa74",
   "metadata": {},
   "source": [
    "### Nested Loops\n",
    "A nested loop is a loop inside a loop.\n",
    "\n",
    "The \"inner loop\" will be executed one time for each iteration of the \"outer loop\":"
   ]
  },
  {
   "cell_type": "code",
   "execution_count": null,
   "id": "dff99743",
   "metadata": {},
   "outputs": [],
   "source": [
    "adj = [\"Iphone\", \"Oppo\", \"OnePlus\"]\n",
    "fruits = [\"13\", \"13 Pro\", \"13 Pro Max\"]\n",
    "\n",
    "for x in adj:\n",
    "    for y in fruits:\n",
    "         print(x, y)"
   ]
  },
  {
   "cell_type": "code",
   "execution_count": null,
   "id": "511125df",
   "metadata": {},
   "outputs": [],
   "source": [
    "print(\"Yes\") if 5 > 2 else print(\"No\")"
   ]
  },
  {
   "cell_type": "code",
   "execution_count": null,
   "id": "371d29aa",
   "metadata": {},
   "outputs": [],
   "source": []
  },
  {
   "cell_type": "markdown",
   "id": "dab89549",
   "metadata": {},
   "source": [
    "# Exercise"
   ]
  },
  {
   "cell_type": "code",
   "execution_count": null,
   "id": "2ec7c915",
   "metadata": {},
   "outputs": [],
   "source": []
  },
  {
   "cell_type": "raw",
   "id": "aa1eb7fb",
   "metadata": {},
   "source": [
    "Exercise 3: Calculate the sum of all numbers from 1 to a given number\n",
    "Write a program to accept a number from a user and calculate the sum of all numbers from 1 to a given number\n",
    "\n",
    "For example, if the user entered 10 the output should be 55 (1+2+3+4+5+6+7+8+9+10)\n",
    "\n",
    "Expected Output:10\n",
    "        sum 55"
   ]
  },
  {
   "cell_type": "code",
   "execution_count": null,
   "id": "be3ea238",
   "metadata": {},
   "outputs": [],
   "source": [
    "n = int(input(\"Enter the number : \"))\n",
    "total = 0\n",
    "for i in range(1,n + 1):\n",
    "    total = total + i\n",
    "    print(total)"
   ]
  },
  {
   "cell_type": "raw",
   "id": "a42d9c27",
   "metadata": {},
   "source": [
    "Exercise 5: Display numbers from a list using loop\n",
    "          \n",
    "          Write a program to display only those numbers from a list that satisfy the following conditions\n",
    "\n",
    "           1 The number must be divisible by five\n",
    "           2 If the number is greater than 150, then skip it and move to the next number\n",
    "           3 If the number is greater than 500, then stop the loop\n",
    "  Given:  numbers = [12, 75, 150, 180, 145, 525, 50]\n",
    "        \n",
    "        Expected Output\n",
    "            \n",
    "          75\n",
    "          150\n",
    "          145"
   ]
  },
  {
   "cell_type": "code",
   "execution_count": null,
   "id": "bf209ac6",
   "metadata": {},
   "outputs": [],
   "source": [
    "n =  [12, 75, 150, 180, 145, 525, 50]\n",
    "for i in n:\n",
    "    if i > 500:\n",
    "        break\n",
    "    elif i > 150:\n",
    "        continue\n",
    "    elif i % 5 == 0:\n",
    "        print(i,\"is divisible by five\")\n",
    "    "
   ]
  },
  {
   "cell_type": "markdown",
   "id": "b7153e29",
   "metadata": {},
   "source": [
    "Exercise 1: Print First 10 natural numbers using while loop"
   ]
  },
  {
   "cell_type": "code",
   "execution_count": null,
   "id": "96435868",
   "metadata": {},
   "outputs": [],
   "source": [
    "n = int(input(\"Enter the Natural number : \"))\n",
    "i = 1\n",
    "while i<=n:# for first Natural numbers 10 replace n with 10       # untill this statment is True the loop will be continuing \n",
    "    print(i)\n",
    "    i = i + 1 # this is necessary for while loop & without this it will create infinite loop which never stops xD"
   ]
  },
  {
   "cell_type": "markdown",
   "id": "8af22c55",
   "metadata": {},
   "source": [
    "Exercise 4: Write a program to print multiplication table of a given number\n",
    "For example,\n",
    "num = 2 \n",
    "so the output should be\n",
    "2\n",
    "4\n",
    "6\n",
    "8\n",
    "10\n",
    "12\n",
    "14\n",
    "16\n",
    "18\n",
    "20"
   ]
  },
  {
   "cell_type": "code",
   "execution_count": null,
   "id": "8cbb5e35",
   "metadata": {},
   "outputs": [],
   "source": [
    "n = int(input(\"enter the number : \"))\n",
    "for i in range(1,11,1):\n",
    "    print(n*i)"
   ]
  },
  {
   "cell_type": "raw",
   "id": "2ce37abe",
   "metadata": {},
   "source": [
    "Exercise 8: Print list in reverse order using a loop"
   ]
  },
  {
   "cell_type": "code",
   "execution_count": null,
   "id": "7588ea80",
   "metadata": {},
   "outputs": [],
   "source": [
    "lis = [10,20,30,40,50]\n",
    "lis.reverse()\n",
    "for i in lis:\n",
    "    print(i)"
   ]
  },
  {
   "cell_type": "code",
   "execution_count": null,
   "id": "51b48bb9",
   "metadata": {},
   "outputs": [],
   "source": [
    "list1 = [10, 20, 30, 40, 50]\n",
    "\n",
    "\n",
    "for i in range(len(list1)-1,-1,-1):\n",
    "\n",
    "    print(list1[i])"
   ]
  },
  {
   "cell_type": "raw",
   "id": "fc7ed35e",
   "metadata": {},
   "source": [
    "Exercise 9: Display numbers from -10 to -1 using for loop"
   ]
  },
  {
   "cell_type": "code",
   "execution_count": null,
   "id": "ebbc2749",
   "metadata": {
    "scrolled": true
   },
   "outputs": [],
   "source": [
    "for i in range(-10,-0):\n",
    "    print(i)"
   ]
  },
  {
   "cell_type": "raw",
   "id": "7632c4bd",
   "metadata": {},
   "source": [
    "Exercise 10: Use else block to display a message “Done” after successful execution of for loop\n",
    "For example, \n",
    "the following loop will execute without any error.\n",
    "Given:\n",
    "\n",
    "for i in range(5):\n",
    "    print(i)"
   ]
  },
  {
   "cell_type": "code",
   "execution_count": null,
   "id": "30ffb386",
   "metadata": {},
   "outputs": [],
   "source": [
    "for i in range(5):\n",
    "    print(i)\n",
    "    continue\n",
    "else:\n",
    "    print(\"Done!!!!!!!\")"
   ]
  },
  {
   "cell_type": "raw",
   "id": "2e1361ec",
   "metadata": {},
   "source": [
    "Exercise 11: Write a program to display all prime numbers within a range\n",
    "Note: A Prime Number is a number that cannot be made by multiplying other whole numbers. A prime number is a natural number greater than 1 that is not a product of two smaller natural numbers\n",
    "\n",
    "Examples:\n",
    "\n",
    "6 is not a prime mumber because it can be made by 2×3 = 6\n",
    "37 is a prime number because no other whole numbers multiply together to make it.\n",
    "Given:\n",
    "\n",
    "# range\n",
    "start = 25\n",
    "end = 50\n",
    "Prime numbers between 25 and 50 are:\n",
    "29\n",
    "31\n",
    "37\n",
    "41\n",
    "43\n",
    "47"
   ]
  },
  {
   "cell_type": "code",
   "execution_count": null,
   "id": "fba7eb85",
   "metadata": {},
   "outputs": [],
   "source": [
    "lower = 25\n",
    "upper = 50\n",
    "\n",
    "print(\"Prime numbers between\", lower, \"and\", upper, \"are:\")\n",
    "\n",
    "for num in range(lower, upper + 1):\n",
    "   # all prime numbers are greater than 1\n",
    "   if num > 1:\n",
    "        for i in range(2, num):\n",
    "            if (num % i) == 0:\n",
    "                break\n",
    "        else:\n",
    "            print(num)"
   ]
  },
  {
   "cell_type": "raw",
   "id": "57ff8b39",
   "metadata": {},
   "source": [
    "Exercise 15: Use a loop to display elements from a given list present at odd index positions\n",
    "Given:\n",
    "\n",
    "my_list = [10, 20, 30, 40, 50, 60, 70, 80, 90, 100]\n",
    "Note: list index always starts at 0\n",
    "\n",
    "Expected output:\n",
    "\n",
    "20 40 60 80 100"
   ]
  },
  {
   "cell_type": "code",
   "execution_count": null,
   "id": "f4aecc2e",
   "metadata": {},
   "outputs": [],
   "source": [
    "my_list = [10, 20, 30, 40, 50, 60, 70, 80, 90, 100]\n",
    "# stat from index 1 with step 2( means 1, 3, 5, an so on)\n",
    "for i in my_list[1::2]:\n",
    "    print(i, end=\" \")# for loop with end  displays in list form"
   ]
  },
  {
   "cell_type": "code",
   "execution_count": null,
   "id": "06771574",
   "metadata": {},
   "outputs": [],
   "source": [
    "my_list = [10, 20, 30, 40, 50, 60, 70, 80, 90, 100]\n",
    "## :: in python meaning --> stat from index 1 with step 2( means 1, 3, 5, an so on)\n",
    "for i in my_list[1::2]:   \n",
    "    print(i)"
   ]
  },
  {
   "cell_type": "raw",
   "id": "1130710d",
   "metadata": {},
   "source": [
    "Exercise 16: Calculate the cube of all numbers from 1 to a given number\n",
    "Write a program to rint the cube of all numbers from 1 to a given number\n",
    "\n",
    "Given:\n",
    "\n",
    "input_number = 6"
   ]
  },
  {
   "cell_type": "code",
   "execution_count": null,
   "id": "8b4ef510",
   "metadata": {},
   "outputs": [],
   "source": [
    "n = int(input(\"Enter the number = \"))\n",
    "for i in range(1,n+1,1):\n",
    "    print(\"Index is :\",i,\"cube : \", i**3)"
   ]
  },
  {
   "cell_type": "code",
   "execution_count": null,
   "id": "4f6eb24a",
   "metadata": {},
   "outputs": [],
   "source": [
    "pan = [1,2,3,4,5,6,7,8,9]\n",
    "for i in range(len(pan)):\n",
    "    print(\"starts from 0th\",i,\"pan\",pan[i]) # i + 1 starts from 1th"
   ]
  },
  {
   "cell_type": "raw",
   "id": "33456aaf",
   "metadata": {},
   "source": [
    "Exercise 17: Find the sum of the series upto n terms\n",
    "Write a program to calculate the sum of series up to n term. For example, if n =5 the series will become 2 + 22 + 222 + 2222 + 22222 = 24690\n",
    "\n",
    "Given:\n",
    "\n",
    "# number of terms\n",
    "n = 5\n",
    "Expected output:\n",
    "\n",
    "24690"
   ]
  },
  {
   "cell_type": "code",
   "execution_count": 34,
   "id": "dce5d827",
   "metadata": {},
   "outputs": [
    {
     "name": "stdout",
     "output_type": "stream",
     "text": [
      "Enter the number = 5\n",
      "2+22+222+2222+22222+\n",
      "sum 24690\n"
     ]
    }
   ],
   "source": [
    "n = int(input(\"Enter the number = \"))\n",
    "# first number of sequence\n",
    "start = 2\n",
    "end = 0\n",
    "for i in range(0,n):\n",
    "    print(start, end=\"+\")\n",
    "    end += start\n",
    "    start = start * 10 + 2\n",
    "print(\"\\nsum\", end)"
   ]
  },
  {
   "cell_type": "code",
   "execution_count": 51,
   "id": "e7e3bf7f",
   "metadata": {},
   "outputs": [
    {
     "name": "stdout",
     "output_type": "stream",
     "text": [
      "Given Number  76542\n",
      "Reverse_number 24567\n"
     ]
    }
   ],
   "source": [
    "num = 76542\n",
    "reverse_number = 0\n",
    "print(\"Given Number \", num)\n",
    "while num > 0: # works untill num turns into 0 i,e \"0 > 0\"\n",
    "    reminder = num % 10 # num= 76542%10 = 2; 7654%10 = 4 so on\n",
    "    reverse_number = (reverse_number * 10) + reminder # (0*10)+2\n",
    "    num = num // 10 # 76542 // 10 = 7654\n",
    "print(\"Reverse_number\",reverse_number)"
   ]
  },
  {
   "cell_type": "code",
   "execution_count": 43,
   "id": "be43a03a",
   "metadata": {},
   "outputs": [
    {
     "data": {
      "text/plain": [
       "2"
      ]
     },
     "execution_count": 43,
     "metadata": {},
     "output_type": "execute_result"
    }
   ],
   "source": [
    "76542%10"
   ]
  },
  {
   "cell_type": "code",
   "execution_count": 45,
   "id": "422ea2d7",
   "metadata": {},
   "outputs": [
    {
     "data": {
      "text/plain": [
       "2"
      ]
     },
     "execution_count": 45,
     "metadata": {},
     "output_type": "execute_result"
    }
   ],
   "source": [
    " (0*10)+2"
   ]
  },
  {
   "cell_type": "code",
   "execution_count": 47,
   "id": "9afd3130",
   "metadata": {},
   "outputs": [
    {
     "data": {
      "text/plain": [
       "7654"
      ]
     },
     "execution_count": 47,
     "metadata": {},
     "output_type": "execute_result"
    }
   ],
   "source": [
    "76542 // 10"
   ]
  },
  {
   "cell_type": "code",
   "execution_count": 48,
   "id": "e8d37bcf",
   "metadata": {},
   "outputs": [
    {
     "data": {
      "text/plain": [
       "0"
      ]
     },
     "execution_count": 48,
     "metadata": {},
     "output_type": "execute_result"
    }
   ],
   "source": [
    "7 // 10"
   ]
  },
  {
   "cell_type": "code",
   "execution_count": 67,
   "id": "1396f574",
   "metadata": {},
   "outputs": [
    {
     "name": "stdout",
     "output_type": "stream",
     "text": [
      "24567"
     ]
    }
   ],
   "source": [
    "number = [7, 6, 5, 4, 2]\n",
    "number.reverse()\n",
    "for i in number:\n",
    "    print(i,end=\"\")"
   ]
  },
  {
   "cell_type": "code",
   "execution_count": null,
   "id": "aa4607ae",
   "metadata": {},
   "outputs": [],
   "source": []
  }
 ],
 "metadata": {
  "kernelspec": {
   "display_name": "Python 3",
   "language": "python",
   "name": "python3"
  },
  "language_info": {
   "codemirror_mode": {
    "name": "ipython",
    "version": 3
   },
   "file_extension": ".py",
   "mimetype": "text/x-python",
   "name": "python",
   "nbconvert_exporter": "python",
   "pygments_lexer": "ipython3",
   "version": "3.8.8"
  }
 },
 "nbformat": 4,
 "nbformat_minor": 5
}
